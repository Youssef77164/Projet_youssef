{
 "cells": [
  {
   "cell_type": "code",
   "execution_count": 1,
   "metadata": {},
   "outputs": [
    {
     "name": "stdout",
     "output_type": "stream",
     "text": [
      "\u001b[33mWARNING: Ignoring invalid distribution -lotly (/opt/conda/lib/python3.9/site-packages)\u001b[0m\n",
      "\u001b[33mWARNING: Ignoring invalid distribution -lotly (/opt/conda/lib/python3.9/site-packages)\u001b[0m\n",
      "Requirement already satisfied: plotly in /opt/conda/lib/python3.9/site-packages (4.9.0)\n",
      "Requirement already satisfied: six in /opt/conda/lib/python3.9/site-packages (from plotly) (1.16.0)\n",
      "Requirement already satisfied: retrying>=1.3.3 in /opt/conda/lib/python3.9/site-packages (from plotly) (1.3.3)\n",
      "\u001b[33mWARNING: Ignoring invalid distribution -lotly (/opt/conda/lib/python3.9/site-packages)\u001b[0m\n",
      "\u001b[33mWARNING: Ignoring invalid distribution -lotly (/opt/conda/lib/python3.9/site-packages)\u001b[0m\n",
      "\u001b[33mWARNING: Ignoring invalid distribution -lotly (/opt/conda/lib/python3.9/site-packages)\u001b[0m\n",
      "\u001b[33mWARNING: Ignoring invalid distribution -lotly (/opt/conda/lib/python3.9/site-packages)\u001b[0m\n"
     ]
    }
   ],
   "source": [
    "''' !pip install plotly==4.9.0\n",
    "!pip install jupyterlab \"ipywidgets>=7.5\"\n",
    "!jupyter labextension install jupyterlab-plotly@4.9.0\n",
    "!jupyter labextension install @jupyter-widgets/jupyterlab-manager plotlywidget@4.9.0\n",
    "!jupyter lab build '''\n",
    "\n",
    "!pip install plotly\n",
    "import pandas as pd\n",
    "import numpy as np\n",
    "import seaborn as sns\n",
    "\n",
    "from sklearn.model_selection import train_test_split\n",
    "from sklearn.pipeline import Pipeline\n",
    "from sklearn.impute import SimpleImputer\n",
    "from sklearn.preprocessing import  OneHotEncoder, StandardScaler\n",
    "from sklearn.compose import ColumnTransformer\n",
    "from sklearn.linear_model import LinearRegression\n",
    "from sklearn.metrics import r2_score\n",
    "\n",
    "import matplotlib.pyplot as plt\n",
    "import plotly.express as px\n",
    "import plotly.graph_objects as go\n",
    "import plotly.io as pio\n",
    "# setting Jedha color palette as default\n",
    "pio.templates[\"jedha\"] = go.layout.Template(\n",
    "    layout_colorway=[\"#4B9AC7\", \"#4BE8E0\", \"#9DD4F3\", \"#97FBF6\", \"#2A7FAF\", \"#23B1AB\", \"#0E3449\", \"#015955\"]\n",
    ")\n",
    "pio.templates.default = \"jedha\"\n",
    "pio.renderers.default = \"iframe\" # to be replaced by \"iframe\" if working on JULIE"
   ]
  },
  {
   "cell_type": "code",
   "execution_count": 2,
   "metadata": {},
   "outputs": [
    {
     "name": "stdout",
     "output_type": "stream",
     "text": [
      "Loading dataset...\n",
      "...Done.\n",
      "\n"
     ]
    }
   ],
   "source": [
    "# Import dataset\n",
    "print(\"Loading dataset...\")\n",
    "dataset = pd.read_csv(\"Walmart_Store_sales.csv\")\n",
    "print(\"...Done.\")\n",
    "print()"
   ]
  },
  {
   "cell_type": "code",
   "execution_count": 3,
   "metadata": {},
   "outputs": [
    {
     "name": "stdout",
     "output_type": "stream",
     "text": [
      "Number of rows : 150\n",
      "\n",
      "Display of dataset: \n"
     ]
    },
    {
     "data": {
      "text/html": [
       "<div>\n",
       "<style scoped>\n",
       "    .dataframe tbody tr th:only-of-type {\n",
       "        vertical-align: middle;\n",
       "    }\n",
       "\n",
       "    .dataframe tbody tr th {\n",
       "        vertical-align: top;\n",
       "    }\n",
       "\n",
       "    .dataframe thead th {\n",
       "        text-align: right;\n",
       "    }\n",
       "</style>\n",
       "<table border=\"1\" class=\"dataframe\">\n",
       "  <thead>\n",
       "    <tr style=\"text-align: right;\">\n",
       "      <th></th>\n",
       "      <th>Store</th>\n",
       "      <th>Date</th>\n",
       "      <th>Weekly_Sales</th>\n",
       "      <th>Holiday_Flag</th>\n",
       "      <th>Temperature</th>\n",
       "      <th>Fuel_Price</th>\n",
       "      <th>CPI</th>\n",
       "      <th>Unemployment</th>\n",
       "    </tr>\n",
       "  </thead>\n",
       "  <tbody>\n",
       "    <tr>\n",
       "      <th>0</th>\n",
       "      <td>6.0</td>\n",
       "      <td>18-02-2011</td>\n",
       "      <td>1572117.54</td>\n",
       "      <td>NaN</td>\n",
       "      <td>59.61</td>\n",
       "      <td>3.045</td>\n",
       "      <td>214.777523</td>\n",
       "      <td>6.858</td>\n",
       "    </tr>\n",
       "    <tr>\n",
       "      <th>1</th>\n",
       "      <td>13.0</td>\n",
       "      <td>25-03-2011</td>\n",
       "      <td>1807545.43</td>\n",
       "      <td>0.0</td>\n",
       "      <td>42.38</td>\n",
       "      <td>3.435</td>\n",
       "      <td>128.616064</td>\n",
       "      <td>7.470</td>\n",
       "    </tr>\n",
       "    <tr>\n",
       "      <th>2</th>\n",
       "      <td>17.0</td>\n",
       "      <td>27-07-2012</td>\n",
       "      <td>NaN</td>\n",
       "      <td>0.0</td>\n",
       "      <td>NaN</td>\n",
       "      <td>NaN</td>\n",
       "      <td>130.719581</td>\n",
       "      <td>5.936</td>\n",
       "    </tr>\n",
       "    <tr>\n",
       "      <th>3</th>\n",
       "      <td>11.0</td>\n",
       "      <td>NaN</td>\n",
       "      <td>1244390.03</td>\n",
       "      <td>0.0</td>\n",
       "      <td>84.57</td>\n",
       "      <td>NaN</td>\n",
       "      <td>214.556497</td>\n",
       "      <td>7.346</td>\n",
       "    </tr>\n",
       "    <tr>\n",
       "      <th>4</th>\n",
       "      <td>6.0</td>\n",
       "      <td>28-05-2010</td>\n",
       "      <td>1644470.66</td>\n",
       "      <td>0.0</td>\n",
       "      <td>78.89</td>\n",
       "      <td>2.759</td>\n",
       "      <td>212.412888</td>\n",
       "      <td>7.092</td>\n",
       "    </tr>\n",
       "  </tbody>\n",
       "</table>\n",
       "</div>"
      ],
      "text/plain": [
       "   Store        Date  Weekly_Sales  Holiday_Flag  Temperature  Fuel_Price  \\\n",
       "0    6.0  18-02-2011    1572117.54           NaN        59.61       3.045   \n",
       "1   13.0  25-03-2011    1807545.43           0.0        42.38       3.435   \n",
       "2   17.0  27-07-2012           NaN           0.0          NaN         NaN   \n",
       "3   11.0         NaN    1244390.03           0.0        84.57         NaN   \n",
       "4    6.0  28-05-2010    1644470.66           0.0        78.89       2.759   \n",
       "\n",
       "          CPI  Unemployment  \n",
       "0  214.777523         6.858  \n",
       "1  128.616064         7.470  \n",
       "2  130.719581         5.936  \n",
       "3  214.556497         7.346  \n",
       "4  212.412888         7.092  "
      ]
     },
     "metadata": {},
     "output_type": "display_data"
    },
    {
     "name": "stdout",
     "output_type": "stream",
     "text": [
      "\n",
      "Basics statistics: \n"
     ]
    },
    {
     "data": {
      "text/html": [
       "<div>\n",
       "<style scoped>\n",
       "    .dataframe tbody tr th:only-of-type {\n",
       "        vertical-align: middle;\n",
       "    }\n",
       "\n",
       "    .dataframe tbody tr th {\n",
       "        vertical-align: top;\n",
       "    }\n",
       "\n",
       "    .dataframe thead th {\n",
       "        text-align: right;\n",
       "    }\n",
       "</style>\n",
       "<table border=\"1\" class=\"dataframe\">\n",
       "  <thead>\n",
       "    <tr style=\"text-align: right;\">\n",
       "      <th></th>\n",
       "      <th>Store</th>\n",
       "      <th>Date</th>\n",
       "      <th>Weekly_Sales</th>\n",
       "      <th>Holiday_Flag</th>\n",
       "      <th>Temperature</th>\n",
       "      <th>Fuel_Price</th>\n",
       "      <th>CPI</th>\n",
       "      <th>Unemployment</th>\n",
       "    </tr>\n",
       "  </thead>\n",
       "  <tbody>\n",
       "    <tr>\n",
       "      <th>count</th>\n",
       "      <td>150.000000</td>\n",
       "      <td>132</td>\n",
       "      <td>1.360000e+02</td>\n",
       "      <td>138.000000</td>\n",
       "      <td>132.000000</td>\n",
       "      <td>136.000000</td>\n",
       "      <td>138.000000</td>\n",
       "      <td>135.000000</td>\n",
       "    </tr>\n",
       "    <tr>\n",
       "      <th>unique</th>\n",
       "      <td>NaN</td>\n",
       "      <td>85</td>\n",
       "      <td>NaN</td>\n",
       "      <td>NaN</td>\n",
       "      <td>NaN</td>\n",
       "      <td>NaN</td>\n",
       "      <td>NaN</td>\n",
       "      <td>NaN</td>\n",
       "    </tr>\n",
       "    <tr>\n",
       "      <th>top</th>\n",
       "      <td>NaN</td>\n",
       "      <td>19-10-2012</td>\n",
       "      <td>NaN</td>\n",
       "      <td>NaN</td>\n",
       "      <td>NaN</td>\n",
       "      <td>NaN</td>\n",
       "      <td>NaN</td>\n",
       "      <td>NaN</td>\n",
       "    </tr>\n",
       "    <tr>\n",
       "      <th>freq</th>\n",
       "      <td>NaN</td>\n",
       "      <td>4</td>\n",
       "      <td>NaN</td>\n",
       "      <td>NaN</td>\n",
       "      <td>NaN</td>\n",
       "      <td>NaN</td>\n",
       "      <td>NaN</td>\n",
       "      <td>NaN</td>\n",
       "    </tr>\n",
       "    <tr>\n",
       "      <th>mean</th>\n",
       "      <td>9.866667</td>\n",
       "      <td>NaN</td>\n",
       "      <td>1.249536e+06</td>\n",
       "      <td>0.079710</td>\n",
       "      <td>61.398106</td>\n",
       "      <td>3.320853</td>\n",
       "      <td>179.898509</td>\n",
       "      <td>7.598430</td>\n",
       "    </tr>\n",
       "    <tr>\n",
       "      <th>std</th>\n",
       "      <td>6.231191</td>\n",
       "      <td>NaN</td>\n",
       "      <td>6.474630e+05</td>\n",
       "      <td>0.271831</td>\n",
       "      <td>18.378901</td>\n",
       "      <td>0.478149</td>\n",
       "      <td>40.274956</td>\n",
       "      <td>1.577173</td>\n",
       "    </tr>\n",
       "    <tr>\n",
       "      <th>min</th>\n",
       "      <td>1.000000</td>\n",
       "      <td>NaN</td>\n",
       "      <td>2.689290e+05</td>\n",
       "      <td>0.000000</td>\n",
       "      <td>18.790000</td>\n",
       "      <td>2.514000</td>\n",
       "      <td>126.111903</td>\n",
       "      <td>5.143000</td>\n",
       "    </tr>\n",
       "    <tr>\n",
       "      <th>25%</th>\n",
       "      <td>4.000000</td>\n",
       "      <td>NaN</td>\n",
       "      <td>6.050757e+05</td>\n",
       "      <td>0.000000</td>\n",
       "      <td>45.587500</td>\n",
       "      <td>2.852250</td>\n",
       "      <td>131.970831</td>\n",
       "      <td>6.597500</td>\n",
       "    </tr>\n",
       "    <tr>\n",
       "      <th>50%</th>\n",
       "      <td>9.000000</td>\n",
       "      <td>NaN</td>\n",
       "      <td>1.261424e+06</td>\n",
       "      <td>0.000000</td>\n",
       "      <td>62.985000</td>\n",
       "      <td>3.451000</td>\n",
       "      <td>197.908893</td>\n",
       "      <td>7.470000</td>\n",
       "    </tr>\n",
       "    <tr>\n",
       "      <th>75%</th>\n",
       "      <td>15.750000</td>\n",
       "      <td>NaN</td>\n",
       "      <td>1.806386e+06</td>\n",
       "      <td>0.000000</td>\n",
       "      <td>76.345000</td>\n",
       "      <td>3.706250</td>\n",
       "      <td>214.934616</td>\n",
       "      <td>8.150000</td>\n",
       "    </tr>\n",
       "    <tr>\n",
       "      <th>max</th>\n",
       "      <td>20.000000</td>\n",
       "      <td>NaN</td>\n",
       "      <td>2.771397e+06</td>\n",
       "      <td>1.000000</td>\n",
       "      <td>91.650000</td>\n",
       "      <td>4.193000</td>\n",
       "      <td>226.968844</td>\n",
       "      <td>14.313000</td>\n",
       "    </tr>\n",
       "  </tbody>\n",
       "</table>\n",
       "</div>"
      ],
      "text/plain": [
       "             Store        Date  Weekly_Sales  Holiday_Flag  Temperature  \\\n",
       "count   150.000000         132  1.360000e+02    138.000000   132.000000   \n",
       "unique         NaN          85           NaN           NaN          NaN   \n",
       "top            NaN  19-10-2012           NaN           NaN          NaN   \n",
       "freq           NaN           4           NaN           NaN          NaN   \n",
       "mean      9.866667         NaN  1.249536e+06      0.079710    61.398106   \n",
       "std       6.231191         NaN  6.474630e+05      0.271831    18.378901   \n",
       "min       1.000000         NaN  2.689290e+05      0.000000    18.790000   \n",
       "25%       4.000000         NaN  6.050757e+05      0.000000    45.587500   \n",
       "50%       9.000000         NaN  1.261424e+06      0.000000    62.985000   \n",
       "75%      15.750000         NaN  1.806386e+06      0.000000    76.345000   \n",
       "max      20.000000         NaN  2.771397e+06      1.000000    91.650000   \n",
       "\n",
       "        Fuel_Price         CPI  Unemployment  \n",
       "count   136.000000  138.000000    135.000000  \n",
       "unique         NaN         NaN           NaN  \n",
       "top            NaN         NaN           NaN  \n",
       "freq           NaN         NaN           NaN  \n",
       "mean      3.320853  179.898509      7.598430  \n",
       "std       0.478149   40.274956      1.577173  \n",
       "min       2.514000  126.111903      5.143000  \n",
       "25%       2.852250  131.970831      6.597500  \n",
       "50%       3.451000  197.908893      7.470000  \n",
       "75%       3.706250  214.934616      8.150000  \n",
       "max       4.193000  226.968844     14.313000  "
      ]
     },
     "metadata": {},
     "output_type": "display_data"
    },
    {
     "name": "stdout",
     "output_type": "stream",
     "text": [
      "\n",
      "Percentage of missing values: \n"
     ]
    },
    {
     "data": {
      "text/plain": [
       "Store            0.000000\n",
       "Date            12.000000\n",
       "Weekly_Sales     9.333333\n",
       "Holiday_Flag     8.000000\n",
       "Temperature     12.000000\n",
       "Fuel_Price       9.333333\n",
       "CPI              8.000000\n",
       "Unemployment    10.000000\n",
       "dtype: float64"
      ]
     },
     "metadata": {},
     "output_type": "display_data"
    }
   ],
   "source": [
    "# Basic stats\n",
    "print(\"Number of rows : {}\".format(dataset.shape[0]))\n",
    "print()\n",
    "\n",
    "print(\"Display of dataset: \")\n",
    "display(dataset.head())\n",
    "print()\n",
    "\n",
    "print(\"Basics statistics: \")\n",
    "df = dataset.describe(include='all')\n",
    "display(df)\n",
    "print()\n",
    "\n",
    "print(\"Percentage of missing values: \")\n",
    "display(100*dataset.isnull().sum()/dataset.shape[0])"
   ]
  },
  {
   "cell_type": "code",
   "execution_count": 4,
   "metadata": {},
   "outputs": [
    {
     "data": {
      "text/plain": [
       "<seaborn.axisgrid.FacetGrid at 0x7fd3df75f5b0>"
      ]
     },
     "execution_count": 4,
     "metadata": {},
     "output_type": "execute_result"
    },
    {
     "data": {
      "image/png": "[encoded data removed]",
      "text/plain": [
       "<Figure size 1440x720 with 1 Axes>"
      ]
     },
     "metadata": {
      "needs_background": "light"
     },
     "output_type": "display_data"
    }
   ],
   "source": [
    "sns.catplot(x= \"Store\", y= \"Weekly_Sales\", data= dataset, kind= \"bar\", height= 10, aspect= 2)"
   ]
  },
  {
   "cell_type": "markdown",
   "metadata": {},
   "source": [
    "### Nous pouvons constater que les magasins 2,4,10,13,14 et 20 ont tendance à avoir des ventes hebdomadaires moyennes plus élevées que les autres."
   ]
  },
  {
   "cell_type": "code",
   "execution_count": 5,
   "metadata": {},
   "outputs": [
    {
     "name": "stderr",
     "output_type": "stream",
     "text": [
      "/opt/conda/lib/python3.9/site-packages/seaborn/_decorators.py:36: FutureWarning:\n",
      "\n",
      "Pass the following variable as a keyword arg: x. From version 0.12, the only valid positional argument will be `data`, and passing other arguments without an explicit keyword will result in an error or misinterpretation.\n",
      "\n"
     ]
    },
    {
     "data": {
      "text/plain": [
       "<AxesSubplot:xlabel='Temperature'>"
      ]
     },
     "execution_count": 5,
     "metadata": {},
     "output_type": "execute_result"
    },
    {
     "data": {
      "image/png": "[encoded data removed]",
      "text/plain": [
       "<Figure size 432x288 with 1 Axes>"
      ]
     },
     "metadata": {
      "needs_background": "light"
     },
     "output_type": "display_data"
    }
   ],
   "source": [
    "sns.boxplot(dataset['Temperature'])"
   ]
  },
  {
   "cell_type": "code",
   "execution_count": 6,
   "metadata": {},
   "outputs": [
    {
     "name": "stderr",
     "output_type": "stream",
     "text": [
      "/opt/conda/lib/python3.9/site-packages/seaborn/_decorators.py:36: FutureWarning:\n",
      "\n",
      "Pass the following variable as a keyword arg: x. From version 0.12, the only valid positional argument will be `data`, and passing other arguments without an explicit keyword will result in an error or misinterpretation.\n",
      "\n"
     ]
    },
    {
     "data": {
      "text/plain": [
       "<AxesSubplot:xlabel='Fuel_Price'>"
      ]
     },
     "execution_count": 6,
     "metadata": {},
     "output_type": "execute_result"
    },
    {
     "data": {
      "image/png": "[encoded data removed]",
      "text/plain": [
       "<Figure size 432x288 with 1 Axes>"
      ]
     },
     "metadata": {
      "needs_background": "light"
     },
     "output_type": "display_data"
    }
   ],
   "source": [
    "sns.boxplot(dataset['Fuel_Price'])"
   ]
  },
  {
   "cell_type": "code",
   "execution_count": 7,
   "metadata": {},
   "outputs": [
    {
     "name": "stderr",
     "output_type": "stream",
     "text": [
      "/opt/conda/lib/python3.9/site-packages/seaborn/_decorators.py:36: FutureWarning:\n",
      "\n",
      "Pass the following variable as a keyword arg: x. From version 0.12, the only valid positional argument will be `data`, and passing other arguments without an explicit keyword will result in an error or misinterpretation.\n",
      "\n"
     ]
    },
    {
     "data": {
      "text/plain": [
       "<AxesSubplot:xlabel='CPI'>"
      ]
     },
     "execution_count": 7,
     "metadata": {},
     "output_type": "execute_result"
    },
    {
     "data": {
      "image/png": "[encoded data removed]",
      "text/plain": [
       "<Figure size 432x288 with 1 Axes>"
      ]
     },
     "metadata": {
      "needs_background": "light"
     },
     "output_type": "display_data"
    }
   ],
   "source": [
    "sns.boxplot(dataset['CPI'])"
   ]
  },
  {
   "cell_type": "markdown",
   "metadata": {},
   "source": [
    "### Nous remarquons que la variable \"CPI\" a une bonne distribution."
   ]
  },
  {
   "cell_type": "code",
   "execution_count": 8,
   "metadata": {},
   "outputs": [
    {
     "name": "stderr",
     "output_type": "stream",
     "text": [
      "/opt/conda/lib/python3.9/site-packages/seaborn/_decorators.py:36: FutureWarning:\n",
      "\n",
      "Pass the following variable as a keyword arg: x. From version 0.12, the only valid positional argument will be `data`, and passing other arguments without an explicit keyword will result in an error or misinterpretation.\n",
      "\n"
     ]
    },
    {
     "data": {
      "text/plain": [
       "<AxesSubplot:xlabel='Unemployment'>"
      ]
     },
     "execution_count": 8,
     "metadata": {},
     "output_type": "execute_result"
    },
    {
     "data": {
      "image/png": "[encoded data removed]",
      "text/plain": [
       "<Figure size 432x288 with 1 Axes>"
      ]
     },
     "metadata": {
      "needs_background": "light"
     },
     "output_type": "display_data"
    }
   ],
   "source": [
    "sns.boxplot(dataset['Unemployment'])"
   ]
  },
  {
   "cell_type": "markdown",
   "metadata": {},
   "source": [
    "### Nous constatons que la variable \"Chômage\" est bien répartie."
   ]
  },
  {
   "cell_type": "code",
   "execution_count": null,
   "metadata": {},
   "outputs": [],
   "source": []
  },
  {
   "cell_type": "markdown",
   "metadata": {},
   "source": [
    "### - Création de nouvelles colonnes, à partir de la colonne Date, contenant les caractéristiques numériques suivantes :"
   ]
  },
  {
   "cell_type": "code",
   "execution_count": 9,
   "metadata": {},
   "outputs": [
    {
     "name": "stderr",
     "output_type": "stream",
     "text": [
      "/opt/conda/lib/python3.9/site-packages/pandas/core/indexes/datetimes.py:327: UserWarning:\n",
      "\n",
      "Parsing '18-02-2011' in DD/MM/YYYY format. Provide format or specify infer_datetime_format=True for consistent parsing.\n",
      "\n",
      "/opt/conda/lib/python3.9/site-packages/pandas/core/indexes/datetimes.py:327: UserWarning:\n",
      "\n",
      "Parsing '25-03-2011' in DD/MM/YYYY format. Provide format or specify infer_datetime_format=True for consistent parsing.\n",
      "\n",
      "/opt/conda/lib/python3.9/site-packages/pandas/core/indexes/datetimes.py:327: UserWarning:\n",
      "\n",
      "Parsing '27-07-2012' in DD/MM/YYYY format. Provide format or specify infer_datetime_format=True for consistent parsing.\n",
      "\n",
      "/opt/conda/lib/python3.9/site-packages/pandas/core/indexes/datetimes.py:327: UserWarning:\n",
      "\n",
      "Parsing '28-05-2010' in DD/MM/YYYY format. Provide format or specify infer_datetime_format=True for consistent parsing.\n",
      "\n",
      "/opt/conda/lib/python3.9/site-packages/pandas/core/indexes/datetimes.py:327: UserWarning:\n",
      "\n",
      "Parsing '19-08-2011' in DD/MM/YYYY format. Provide format or specify infer_datetime_format=True for consistent parsing.\n",
      "\n",
      "/opt/conda/lib/python3.9/site-packages/pandas/core/indexes/datetimes.py:327: UserWarning:\n",
      "\n",
      "Parsing '15-10-2010' in DD/MM/YYYY format. Provide format or specify infer_datetime_format=True for consistent parsing.\n",
      "\n",
      "/opt/conda/lib/python3.9/site-packages/pandas/core/indexes/datetimes.py:327: UserWarning:\n",
      "\n",
      "Parsing '13-05-2011' in DD/MM/YYYY format. Provide format or specify infer_datetime_format=True for consistent parsing.\n",
      "\n",
      "/opt/conda/lib/python3.9/site-packages/pandas/core/indexes/datetimes.py:327: UserWarning:\n",
      "\n",
      "Parsing '16-03-2012' in DD/MM/YYYY format. Provide format or specify infer_datetime_format=True for consistent parsing.\n",
      "\n",
      "/opt/conda/lib/python3.9/site-packages/pandas/core/indexes/datetimes.py:327: UserWarning:\n",
      "\n",
      "Parsing '30-04-2010' in DD/MM/YYYY format. Provide format or specify infer_datetime_format=True for consistent parsing.\n",
      "\n",
      "/opt/conda/lib/python3.9/site-packages/pandas/core/indexes/datetimes.py:327: UserWarning:\n",
      "\n",
      "Parsing '20-08-2010' in DD/MM/YYYY format. Provide format or specify infer_datetime_format=True for consistent parsing.\n",
      "\n",
      "/opt/conda/lib/python3.9/site-packages/pandas/core/indexes/datetimes.py:327: UserWarning:\n",
      "\n",
      "Parsing '16-12-2011' in DD/MM/YYYY format. Provide format or specify infer_datetime_format=True for consistent parsing.\n",
      "\n",
      "/opt/conda/lib/python3.9/site-packages/pandas/core/indexes/datetimes.py:327: UserWarning:\n",
      "\n",
      "Parsing '18-05-2012' in DD/MM/YYYY format. Provide format or specify infer_datetime_format=True for consistent parsing.\n",
      "\n",
      "/opt/conda/lib/python3.9/site-packages/pandas/core/indexes/datetimes.py:327: UserWarning:\n",
      "\n",
      "Parsing '26-03-2010' in DD/MM/YYYY format. Provide format or specify infer_datetime_format=True for consistent parsing.\n",
      "\n",
      "/opt/conda/lib/python3.9/site-packages/pandas/core/indexes/datetimes.py:327: UserWarning:\n",
      "\n",
      "Parsing '13-01-2012' in DD/MM/YYYY format. Provide format or specify infer_datetime_format=True for consistent parsing.\n",
      "\n",
      "/opt/conda/lib/python3.9/site-packages/pandas/core/indexes/datetimes.py:327: UserWarning:\n",
      "\n",
      "Parsing '20-05-2011' in DD/MM/YYYY format. Provide format or specify infer_datetime_format=True for consistent parsing.\n",
      "\n",
      "/opt/conda/lib/python3.9/site-packages/pandas/core/indexes/datetimes.py:327: UserWarning:\n",
      "\n",
      "Parsing '16-04-2010' in DD/MM/YYYY format. Provide format or specify infer_datetime_format=True for consistent parsing.\n",
      "\n",
      "/opt/conda/lib/python3.9/site-packages/pandas/core/indexes/datetimes.py:327: UserWarning:\n",
      "\n",
      "Parsing '26-08-2011' in DD/MM/YYYY format. Provide format or specify infer_datetime_format=True for consistent parsing.\n",
      "\n",
      "/opt/conda/lib/python3.9/site-packages/pandas/core/indexes/datetimes.py:327: UserWarning:\n",
      "\n",
      "Parsing '30-12-2011' in DD/MM/YYYY format. Provide format or specify infer_datetime_format=True for consistent parsing.\n",
      "\n",
      "/opt/conda/lib/python3.9/site-packages/pandas/core/indexes/datetimes.py:327: UserWarning:\n",
      "\n",
      "Parsing '23-09-2011' in DD/MM/YYYY format. Provide format or specify infer_datetime_format=True for consistent parsing.\n",
      "\n",
      "/opt/conda/lib/python3.9/site-packages/pandas/core/indexes/datetimes.py:327: UserWarning:\n",
      "\n",
      "Parsing '15-04-2011' in DD/MM/YYYY format. Provide format or specify infer_datetime_format=True for consistent parsing.\n",
      "\n",
      "/opt/conda/lib/python3.9/site-packages/pandas/core/indexes/datetimes.py:327: UserWarning:\n",
      "\n",
      "Parsing '24-06-2011' in DD/MM/YYYY format. Provide format or specify infer_datetime_format=True for consistent parsing.\n",
      "\n",
      "/opt/conda/lib/python3.9/site-packages/pandas/core/indexes/datetimes.py:327: UserWarning:\n",
      "\n",
      "Parsing '27-04-2012' in DD/MM/YYYY format. Provide format or specify infer_datetime_format=True for consistent parsing.\n",
      "\n",
      "/opt/conda/lib/python3.9/site-packages/pandas/core/indexes/datetimes.py:327: UserWarning:\n",
      "\n",
      "Parsing '14-09-2012' in DD/MM/YYYY format. Provide format or specify infer_datetime_format=True for consistent parsing.\n",
      "\n",
      "/opt/conda/lib/python3.9/site-packages/pandas/core/indexes/datetimes.py:327: UserWarning:\n",
      "\n",
      "Parsing '24-02-2012' in DD/MM/YYYY format. Provide format or specify infer_datetime_format=True for consistent parsing.\n",
      "\n",
      "/opt/conda/lib/python3.9/site-packages/pandas/core/indexes/datetimes.py:327: UserWarning:\n",
      "\n",
      "Parsing '30-07-2010' in DD/MM/YYYY format. Provide format or specify infer_datetime_format=True for consistent parsing.\n",
      "\n",
      "/opt/conda/lib/python3.9/site-packages/pandas/core/indexes/datetimes.py:327: UserWarning:\n",
      "\n",
      "Parsing '30-03-2012' in DD/MM/YYYY format. Provide format or specify infer_datetime_format=True for consistent parsing.\n",
      "\n",
      "/opt/conda/lib/python3.9/site-packages/pandas/core/indexes/datetimes.py:327: UserWarning:\n",
      "\n",
      "Parsing '25-06-2010' in DD/MM/YYYY format. Provide format or specify infer_datetime_format=True for consistent parsing.\n",
      "\n",
      "/opt/conda/lib/python3.9/site-packages/pandas/core/indexes/datetimes.py:327: UserWarning:\n",
      "\n",
      "Parsing '27-08-2010' in DD/MM/YYYY format. Provide format or specify infer_datetime_format=True for consistent parsing.\n",
      "\n",
      "/opt/conda/lib/python3.9/site-packages/pandas/core/indexes/datetimes.py:327: UserWarning:\n",
      "\n",
      "Parsing '17-02-2012' in DD/MM/YYYY format. Provide format or specify infer_datetime_format=True for consistent parsing.\n",
      "\n",
      "/opt/conda/lib/python3.9/site-packages/pandas/core/indexes/datetimes.py:327: UserWarning:\n",
      "\n",
      "Parsing '17-12-2010' in DD/MM/YYYY format. Provide format or specify infer_datetime_format=True for consistent parsing.\n",
      "\n",
      "/opt/conda/lib/python3.9/site-packages/pandas/core/indexes/datetimes.py:327: UserWarning:\n",
      "\n",
      "Parsing '19-10-2012' in DD/MM/YYYY format. Provide format or specify infer_datetime_format=True for consistent parsing.\n",
      "\n",
      "/opt/conda/lib/python3.9/site-packages/pandas/core/indexes/datetimes.py:327: UserWarning:\n",
      "\n",
      "Parsing '29-07-2011' in DD/MM/YYYY format. Provide format or specify infer_datetime_format=True for consistent parsing.\n",
      "\n",
      "/opt/conda/lib/python3.9/site-packages/pandas/core/indexes/datetimes.py:327: UserWarning:\n",
      "\n",
      "Parsing '18-11-2011' in DD/MM/YYYY format. Provide format or specify infer_datetime_format=True for consistent parsing.\n",
      "\n",
      "/opt/conda/lib/python3.9/site-packages/pandas/core/indexes/datetimes.py:327: UserWarning:\n",
      "\n",
      "Parsing '24-09-2010' in DD/MM/YYYY format. Provide format or specify infer_datetime_format=True for consistent parsing.\n",
      "\n",
      "/opt/conda/lib/python3.9/site-packages/pandas/core/indexes/datetimes.py:327: UserWarning:\n",
      "\n",
      "Parsing '19-11-2010' in DD/MM/YYYY format. Provide format or specify infer_datetime_format=True for consistent parsing.\n",
      "\n",
      "/opt/conda/lib/python3.9/site-packages/pandas/core/indexes/datetimes.py:327: UserWarning:\n",
      "\n",
      "Parsing '27-05-2011' in DD/MM/YYYY format. Provide format or specify infer_datetime_format=True for consistent parsing.\n",
      "\n",
      "/opt/conda/lib/python3.9/site-packages/pandas/core/indexes/datetimes.py:327: UserWarning:\n",
      "\n",
      "Parsing '15-07-2011' in DD/MM/YYYY format. Provide format or specify infer_datetime_format=True for consistent parsing.\n",
      "\n",
      "/opt/conda/lib/python3.9/site-packages/pandas/core/indexes/datetimes.py:327: UserWarning:\n",
      "\n",
      "Parsing '14-05-2010' in DD/MM/YYYY format. Provide format or specify infer_datetime_format=True for consistent parsing.\n",
      "\n",
      "/opt/conda/lib/python3.9/site-packages/pandas/core/indexes/datetimes.py:327: UserWarning:\n",
      "\n",
      "Parsing '18-06-2010' in DD/MM/YYYY format. Provide format or specify infer_datetime_format=True for consistent parsing.\n",
      "\n",
      "/opt/conda/lib/python3.9/site-packages/pandas/core/indexes/datetimes.py:327: UserWarning:\n",
      "\n",
      "Parsing '22-06-2012' in DD/MM/YYYY format. Provide format or specify infer_datetime_format=True for consistent parsing.\n",
      "\n",
      "/opt/conda/lib/python3.9/site-packages/pandas/core/indexes/datetimes.py:327: UserWarning:\n",
      "\n",
      "Parsing '26-02-2010' in DD/MM/YYYY format. Provide format or specify infer_datetime_format=True for consistent parsing.\n",
      "\n",
      "/opt/conda/lib/python3.9/site-packages/pandas/core/indexes/datetimes.py:327: UserWarning:\n",
      "\n",
      "Parsing '31-12-2010' in DD/MM/YYYY format. Provide format or specify infer_datetime_format=True for consistent parsing.\n",
      "\n",
      "/opt/conda/lib/python3.9/site-packages/pandas/core/indexes/datetimes.py:327: UserWarning:\n",
      "\n",
      "Parsing '19-02-2010' in DD/MM/YYYY format. Provide format or specify infer_datetime_format=True for consistent parsing.\n",
      "\n",
      "/opt/conda/lib/python3.9/site-packages/pandas/core/indexes/datetimes.py:327: UserWarning:\n",
      "\n",
      "Parsing '20-01-2012' in DD/MM/YYYY format. Provide format or specify infer_datetime_format=True for consistent parsing.\n",
      "\n",
      "/opt/conda/lib/python3.9/site-packages/pandas/core/indexes/datetimes.py:327: UserWarning:\n",
      "\n",
      "Parsing '26-11-2010' in DD/MM/YYYY format. Provide format or specify infer_datetime_format=True for consistent parsing.\n",
      "\n",
      "/opt/conda/lib/python3.9/site-packages/pandas/core/indexes/datetimes.py:327: UserWarning:\n",
      "\n",
      "Parsing '20-04-2012' in DD/MM/YYYY format. Provide format or specify infer_datetime_format=True for consistent parsing.\n",
      "\n",
      "/opt/conda/lib/python3.9/site-packages/pandas/core/indexes/datetimes.py:327: UserWarning:\n",
      "\n",
      "Parsing '13-04-2012' in DD/MM/YYYY format. Provide format or specify infer_datetime_format=True for consistent parsing.\n",
      "\n",
      "/opt/conda/lib/python3.9/site-packages/pandas/core/indexes/datetimes.py:327: UserWarning:\n",
      "\n",
      "Parsing '17-09-2010' in DD/MM/YYYY format. Provide format or specify infer_datetime_format=True for consistent parsing.\n",
      "\n",
      "/opt/conda/lib/python3.9/site-packages/pandas/core/indexes/datetimes.py:327: UserWarning:\n",
      "\n",
      "Parsing '22-07-2011' in DD/MM/YYYY format. Provide format or specify infer_datetime_format=True for consistent parsing.\n",
      "\n",
      "/opt/conda/lib/python3.9/site-packages/pandas/core/indexes/datetimes.py:327: UserWarning:\n",
      "\n",
      "Parsing '22-04-2011' in DD/MM/YYYY format. Provide format or specify infer_datetime_format=True for consistent parsing.\n",
      "\n",
      "/opt/conda/lib/python3.9/site-packages/pandas/core/indexes/datetimes.py:327: UserWarning:\n",
      "\n",
      "Parsing '25-05-2012' in DD/MM/YYYY format. Provide format or specify infer_datetime_format=True for consistent parsing.\n",
      "\n",
      "/opt/conda/lib/python3.9/site-packages/pandas/core/indexes/datetimes.py:327: UserWarning:\n",
      "\n",
      "Parsing '18-02-2011' in DD/MM/YYYY format. Provide format or specify infer_datetime_format=True for consistent parsing.\n",
      "\n",
      "/opt/conda/lib/python3.9/site-packages/pandas/core/indexes/datetimes.py:327: UserWarning:\n",
      "\n",
      "Parsing '25-03-2011' in DD/MM/YYYY format. Provide format or specify infer_datetime_format=True for consistent parsing.\n",
      "\n",
      "/opt/conda/lib/python3.9/site-packages/pandas/core/indexes/datetimes.py:327: UserWarning:\n",
      "\n",
      "Parsing '27-07-2012' in DD/MM/YYYY format. Provide format or specify infer_datetime_format=True for consistent parsing.\n",
      "\n",
      "/opt/conda/lib/python3.9/site-packages/pandas/core/indexes/datetimes.py:327: UserWarning:\n",
      "\n",
      "Parsing '28-05-2010' in DD/MM/YYYY format. Provide format or specify infer_datetime_format=True for consistent parsing.\n",
      "\n",
      "/opt/conda/lib/python3.9/site-packages/pandas/core/indexes/datetimes.py:327: UserWarning:\n",
      "\n",
      "Parsing '19-08-2011' in DD/MM/YYYY format. Provide format or specify infer_datetime_format=True for consistent parsing.\n",
      "\n",
      "/opt/conda/lib/python3.9/site-packages/pandas/core/indexes/datetimes.py:327: UserWarning:\n",
      "\n",
      "Parsing '15-10-2010' in DD/MM/YYYY format. Provide format or specify infer_datetime_format=True for consistent parsing.\n",
      "\n",
      "/opt/conda/lib/python3.9/site-packages/pandas/core/indexes/datetimes.py:327: UserWarning:\n",
      "\n",
      "Parsing '13-05-2011' in DD/MM/YYYY format. Provide format or specify infer_datetime_format=True for consistent parsing.\n",
      "\n",
      "/opt/conda/lib/python3.9/site-packages/pandas/core/indexes/datetimes.py:327: UserWarning:\n",
      "\n",
      "Parsing '16-03-2012' in DD/MM/YYYY format. Provide format or specify infer_datetime_format=True for consistent parsing.\n",
      "\n",
      "/opt/conda/lib/python3.9/site-packages/pandas/core/indexes/datetimes.py:327: UserWarning:\n",
      "\n",
      "Parsing '30-04-2010' in DD/MM/YYYY format. Provide format or specify infer_datetime_format=True for consistent parsing.\n",
      "\n",
      "/opt/conda/lib/python3.9/site-packages/pandas/core/indexes/datetimes.py:327: UserWarning:\n",
      "\n",
      "Parsing '20-08-2010' in DD/MM/YYYY format. Provide format or specify infer_datetime_format=True for consistent parsing.\n",
      "\n",
      "/opt/conda/lib/python3.9/site-packages/pandas/core/indexes/datetimes.py:327: UserWarning:\n",
      "\n",
      "Parsing '16-12-2011' in DD/MM/YYYY format. Provide format or specify infer_datetime_format=True for consistent parsing.\n",
      "\n",
      "/opt/conda/lib/python3.9/site-packages/pandas/core/indexes/datetimes.py:327: UserWarning:\n",
      "\n",
      "Parsing '18-05-2012' in DD/MM/YYYY format. Provide format or specify infer_datetime_format=True for consistent parsing.\n",
      "\n",
      "/opt/conda/lib/python3.9/site-packages/pandas/core/indexes/datetimes.py:327: UserWarning:\n",
      "\n",
      "Parsing '26-03-2010' in DD/MM/YYYY format. Provide format or specify infer_datetime_format=True for consistent parsing.\n",
      "\n",
      "/opt/conda/lib/python3.9/site-packages/pandas/core/indexes/datetimes.py:327: UserWarning:\n",
      "\n",
      "Parsing '13-01-2012' in DD/MM/YYYY format. Provide format or specify infer_datetime_format=True for consistent parsing.\n",
      "\n",
      "/opt/conda/lib/python3.9/site-packages/pandas/core/indexes/datetimes.py:327: UserWarning:\n",
      "\n",
      "Parsing '20-05-2011' in DD/MM/YYYY format. Provide format or specify infer_datetime_format=True for consistent parsing.\n",
      "\n",
      "/opt/conda/lib/python3.9/site-packages/pandas/core/indexes/datetimes.py:327: UserWarning:\n",
      "\n",
      "Parsing '16-04-2010' in DD/MM/YYYY format. Provide format or specify infer_datetime_format=True for consistent parsing.\n",
      "\n",
      "/opt/conda/lib/python3.9/site-packages/pandas/core/indexes/datetimes.py:327: UserWarning:\n",
      "\n",
      "Parsing '26-08-2011' in DD/MM/YYYY format. Provide format or specify infer_datetime_format=True for consistent parsing.\n",
      "\n",
      "/opt/conda/lib/python3.9/site-packages/pandas/core/indexes/datetimes.py:327: UserWarning:\n",
      "\n",
      "Parsing '30-12-2011' in DD/MM/YYYY format. Provide format or specify infer_datetime_format=True for consistent parsing.\n",
      "\n",
      "/opt/conda/lib/python3.9/site-packages/pandas/core/indexes/datetimes.py:327: UserWarning:\n",
      "\n",
      "Parsing '23-09-2011' in DD/MM/YYYY format. Provide format or specify infer_datetime_format=True for consistent parsing.\n",
      "\n",
      "/opt/conda/lib/python3.9/site-packages/pandas/core/indexes/datetimes.py:327: UserWarning:\n",
      "\n",
      "Parsing '15-04-2011' in DD/MM/YYYY format. Provide format or specify infer_datetime_format=True for consistent parsing.\n",
      "\n",
      "/opt/conda/lib/python3.9/site-packages/pandas/core/indexes/datetimes.py:327: UserWarning:\n",
      "\n",
      "Parsing '24-06-2011' in DD/MM/YYYY format. Provide format or specify infer_datetime_format=True for consistent parsing.\n",
      "\n",
      "/opt/conda/lib/python3.9/site-packages/pandas/core/indexes/datetimes.py:327: UserWarning:\n",
      "\n",
      "Parsing '27-04-2012' in DD/MM/YYYY format. Provide format or specify infer_datetime_format=True for consistent parsing.\n",
      "\n",
      "/opt/conda/lib/python3.9/site-packages/pandas/core/indexes/datetimes.py:327: UserWarning:\n",
      "\n",
      "Parsing '14-09-2012' in DD/MM/YYYY format. Provide format or specify infer_datetime_format=True for consistent parsing.\n",
      "\n",
      "/opt/conda/lib/python3.9/site-packages/pandas/core/indexes/datetimes.py:327: UserWarning:\n",
      "\n",
      "Parsing '24-02-2012' in DD/MM/YYYY format. Provide format or specify infer_datetime_format=True for consistent parsing.\n",
      "\n",
      "/opt/conda/lib/python3.9/site-packages/pandas/core/indexes/datetimes.py:327: UserWarning:\n",
      "\n",
      "Parsing '30-07-2010' in DD/MM/YYYY format. Provide format or specify infer_datetime_format=True for consistent parsing.\n",
      "\n",
      "/opt/conda/lib/python3.9/site-packages/pandas/core/indexes/datetimes.py:327: UserWarning:\n",
      "\n",
      "Parsing '30-03-2012' in DD/MM/YYYY format. Provide format or specify infer_datetime_format=True for consistent parsing.\n",
      "\n",
      "/opt/conda/lib/python3.9/site-packages/pandas/core/indexes/datetimes.py:327: UserWarning:\n",
      "\n",
      "Parsing '25-06-2010' in DD/MM/YYYY format. Provide format or specify infer_datetime_format=True for consistent parsing.\n",
      "\n",
      "/opt/conda/lib/python3.9/site-packages/pandas/core/indexes/datetimes.py:327: UserWarning:\n",
      "\n",
      "Parsing '27-08-2010' in DD/MM/YYYY format. Provide format or specify infer_datetime_format=True for consistent parsing.\n",
      "\n",
      "/opt/conda/lib/python3.9/site-packages/pandas/core/indexes/datetimes.py:327: UserWarning:\n",
      "\n",
      "Parsing '17-02-2012' in DD/MM/YYYY format. Provide format or specify infer_datetime_format=True for consistent parsing.\n",
      "\n",
      "/opt/conda/lib/python3.9/site-packages/pandas/core/indexes/datetimes.py:327: UserWarning:\n",
      "\n",
      "Parsing '17-12-2010' in DD/MM/YYYY format. Provide format or specify infer_datetime_format=True for consistent parsing.\n",
      "\n",
      "/opt/conda/lib/python3.9/site-packages/pandas/core/indexes/datetimes.py:327: UserWarning:\n",
      "\n",
      "Parsing '19-10-2012' in DD/MM/YYYY format. Provide format or specify infer_datetime_format=True for consistent parsing.\n",
      "\n",
      "/opt/conda/lib/python3.9/site-packages/pandas/core/indexes/datetimes.py:327: UserWarning:\n",
      "\n",
      "Parsing '29-07-2011' in DD/MM/YYYY format. Provide format or specify infer_datetime_format=True for consistent parsing.\n",
      "\n",
      "/opt/conda/lib/python3.9/site-packages/pandas/core/indexes/datetimes.py:327: UserWarning:\n",
      "\n",
      "Parsing '18-11-2011' in DD/MM/YYYY format. Provide format or specify infer_datetime_format=True for consistent parsing.\n",
      "\n",
      "/opt/conda/lib/python3.9/site-packages/pandas/core/indexes/datetimes.py:327: UserWarning:\n",
      "\n",
      "Parsing '24-09-2010' in DD/MM/YYYY format. Provide format or specify infer_datetime_format=True for consistent parsing.\n",
      "\n",
      "/opt/conda/lib/python3.9/site-packages/pandas/core/indexes/datetimes.py:327: UserWarning:\n",
      "\n",
      "Parsing '19-11-2010' in DD/MM/YYYY format. Provide format or specify infer_datetime_format=True for consistent parsing.\n",
      "\n",
      "/opt/conda/lib/python3.9/site-packages/pandas/core/indexes/datetimes.py:327: UserWarning:\n",
      "\n",
      "Parsing '27-05-2011' in DD/MM/YYYY format. Provide format or specify infer_datetime_format=True for consistent parsing.\n",
      "\n",
      "/opt/conda/lib/python3.9/site-packages/pandas/core/indexes/datetimes.py:327: UserWarning:\n",
      "\n",
      "Parsing '15-07-2011' in DD/MM/YYYY format. Provide format or specify infer_datetime_format=True for consistent parsing.\n",
      "\n",
      "/opt/conda/lib/python3.9/site-packages/pandas/core/indexes/datetimes.py:327: UserWarning:\n",
      "\n",
      "Parsing '14-05-2010' in DD/MM/YYYY format. Provide format or specify infer_datetime_format=True for consistent parsing.\n",
      "\n",
      "/opt/conda/lib/python3.9/site-packages/pandas/core/indexes/datetimes.py:327: UserWarning:\n",
      "\n",
      "Parsing '18-06-2010' in DD/MM/YYYY format. Provide format or specify infer_datetime_format=True for consistent parsing.\n",
      "\n",
      "/opt/conda/lib/python3.9/site-packages/pandas/core/indexes/datetimes.py:327: UserWarning:\n",
      "\n",
      "Parsing '22-06-2012' in DD/MM/YYYY format. Provide format or specify infer_datetime_format=True for consistent parsing.\n",
      "\n",
      "/opt/conda/lib/python3.9/site-packages/pandas/core/indexes/datetimes.py:327: UserWarning:\n",
      "\n",
      "Parsing '26-02-2010' in DD/MM/YYYY format. Provide format or specify infer_datetime_format=True for consistent parsing.\n",
      "\n",
      "/opt/conda/lib/python3.9/site-packages/pandas/core/indexes/datetimes.py:327: UserWarning:\n",
      "\n",
      "Parsing '31-12-2010' in DD/MM/YYYY format. Provide format or specify infer_datetime_format=True for consistent parsing.\n",
      "\n",
      "/opt/conda/lib/python3.9/site-packages/pandas/core/indexes/datetimes.py:327: UserWarning:\n",
      "\n",
      "Parsing '19-02-2010' in DD/MM/YYYY format. Provide format or specify infer_datetime_format=True for consistent parsing.\n",
      "\n",
      "/opt/conda/lib/python3.9/site-packages/pandas/core/indexes/datetimes.py:327: UserWarning:\n",
      "\n",
      "Parsing '20-01-2012' in DD/MM/YYYY format. Provide format or specify infer_datetime_format=True for consistent parsing.\n",
      "\n",
      "/opt/conda/lib/python3.9/site-packages/pandas/core/indexes/datetimes.py:327: UserWarning:\n",
      "\n",
      "Parsing '26-11-2010' in DD/MM/YYYY format. Provide format or specify infer_datetime_format=True for consistent parsing.\n",
      "\n",
      "/opt/conda/lib/python3.9/site-packages/pandas/core/indexes/datetimes.py:327: UserWarning:\n",
      "\n",
      "Parsing '20-04-2012' in DD/MM/YYYY format. Provide format or specify infer_datetime_format=True for consistent parsing.\n",
      "\n",
      "/opt/conda/lib/python3.9/site-packages/pandas/core/indexes/datetimes.py:327: UserWarning:\n",
      "\n",
      "Parsing '13-04-2012' in DD/MM/YYYY format. Provide format or specify infer_datetime_format=True for consistent parsing.\n",
      "\n",
      "/opt/conda/lib/python3.9/site-packages/pandas/core/indexes/datetimes.py:327: UserWarning:\n",
      "\n",
      "Parsing '17-09-2010' in DD/MM/YYYY format. Provide format or specify infer_datetime_format=True for consistent parsing.\n",
      "\n",
      "/opt/conda/lib/python3.9/site-packages/pandas/core/indexes/datetimes.py:327: UserWarning:\n",
      "\n",
      "Parsing '22-07-2011' in DD/MM/YYYY format. Provide format or specify infer_datetime_format=True for consistent parsing.\n",
      "\n",
      "/opt/conda/lib/python3.9/site-packages/pandas/core/indexes/datetimes.py:327: UserWarning:\n",
      "\n",
      "Parsing '22-04-2011' in DD/MM/YYYY format. Provide format or specify infer_datetime_format=True for consistent parsing.\n",
      "\n",
      "/opt/conda/lib/python3.9/site-packages/pandas/core/indexes/datetimes.py:327: UserWarning:\n",
      "\n",
      "Parsing '25-05-2012' in DD/MM/YYYY format. Provide format or specify infer_datetime_format=True for consistent parsing.\n",
      "\n",
      "/opt/conda/lib/python3.9/site-packages/pandas/core/indexes/datetimes.py:327: UserWarning:\n",
      "\n",
      "Parsing '18-02-2011' in DD/MM/YYYY format. Provide format or specify infer_datetime_format=True for consistent parsing.\n",
      "\n",
      "/opt/conda/lib/python3.9/site-packages/pandas/core/indexes/datetimes.py:327: UserWarning:\n",
      "\n",
      "Parsing '25-03-2011' in DD/MM/YYYY format. Provide format or specify infer_datetime_format=True for consistent parsing.\n",
      "\n",
      "/opt/conda/lib/python3.9/site-packages/pandas/core/indexes/datetimes.py:327: UserWarning:\n",
      "\n",
      "Parsing '27-07-2012' in DD/MM/YYYY format. Provide format or specify infer_datetime_format=True for consistent parsing.\n",
      "\n",
      "/opt/conda/lib/python3.9/site-packages/pandas/core/indexes/datetimes.py:327: UserWarning:\n",
      "\n",
      "Parsing '28-05-2010' in DD/MM/YYYY format. Provide format or specify infer_datetime_format=True for consistent parsing.\n",
      "\n",
      "/opt/conda/lib/python3.9/site-packages/pandas/core/indexes/datetimes.py:327: UserWarning:\n",
      "\n",
      "Parsing '19-08-2011' in DD/MM/YYYY format. Provide format or specify infer_datetime_format=True for consistent parsing.\n",
      "\n",
      "/opt/conda/lib/python3.9/site-packages/pandas/core/indexes/datetimes.py:327: UserWarning:\n",
      "\n",
      "Parsing '15-10-2010' in DD/MM/YYYY format. Provide format or specify infer_datetime_format=True for consistent parsing.\n",
      "\n",
      "/opt/conda/lib/python3.9/site-packages/pandas/core/indexes/datetimes.py:327: UserWarning:\n",
      "\n",
      "Parsing '13-05-2011' in DD/MM/YYYY format. Provide format or specify infer_datetime_format=True for consistent parsing.\n",
      "\n",
      "/opt/conda/lib/python3.9/site-packages/pandas/core/indexes/datetimes.py:327: UserWarning:\n",
      "\n",
      "Parsing '16-03-2012' in DD/MM/YYYY format. Provide format or specify infer_datetime_format=True for consistent parsing.\n",
      "\n",
      "/opt/conda/lib/python3.9/site-packages/pandas/core/indexes/datetimes.py:327: UserWarning:\n",
      "\n",
      "Parsing '30-04-2010' in DD/MM/YYYY format. Provide format or specify infer_datetime_format=True for consistent parsing.\n",
      "\n",
      "/opt/conda/lib/python3.9/site-packages/pandas/core/indexes/datetimes.py:327: UserWarning:\n",
      "\n",
      "Parsing '20-08-2010' in DD/MM/YYYY format. Provide format or specify infer_datetime_format=True for consistent parsing.\n",
      "\n",
      "/opt/conda/lib/python3.9/site-packages/pandas/core/indexes/datetimes.py:327: UserWarning:\n",
      "\n",
      "Parsing '16-12-2011' in DD/MM/YYYY format. Provide format or specify infer_datetime_format=True for consistent parsing.\n",
      "\n",
      "/opt/conda/lib/python3.9/site-packages/pandas/core/indexes/datetimes.py:327: UserWarning:\n",
      "\n",
      "Parsing '18-05-2012' in DD/MM/YYYY format. Provide format or specify infer_datetime_format=True for consistent parsing.\n",
      "\n",
      "/opt/conda/lib/python3.9/site-packages/pandas/core/indexes/datetimes.py:327: UserWarning:\n",
      "\n",
      "Parsing '26-03-2010' in DD/MM/YYYY format. Provide format or specify infer_datetime_format=True for consistent parsing.\n",
      "\n",
      "/opt/conda/lib/python3.9/site-packages/pandas/core/indexes/datetimes.py:327: UserWarning:\n",
      "\n",
      "Parsing '13-01-2012' in DD/MM/YYYY format. Provide format or specify infer_datetime_format=True for consistent parsing.\n",
      "\n",
      "/opt/conda/lib/python3.9/site-packages/pandas/core/indexes/datetimes.py:327: UserWarning:\n",
      "\n",
      "Parsing '20-05-2011' in DD/MM/YYYY format. Provide format or specify infer_datetime_format=True for consistent parsing.\n",
      "\n",
      "/opt/conda/lib/python3.9/site-packages/pandas/core/indexes/datetimes.py:327: UserWarning:\n",
      "\n",
      "Parsing '16-04-2010' in DD/MM/YYYY format. Provide format or specify infer_datetime_format=True for consistent parsing.\n",
      "\n",
      "/opt/conda/lib/python3.9/site-packages/pandas/core/indexes/datetimes.py:327: UserWarning:\n",
      "\n",
      "Parsing '26-08-2011' in DD/MM/YYYY format. Provide format or specify infer_datetime_format=True for consistent parsing.\n",
      "\n",
      "/opt/conda/lib/python3.9/site-packages/pandas/core/indexes/datetimes.py:327: UserWarning:\n",
      "\n",
      "Parsing '30-12-2011' in DD/MM/YYYY format. Provide format or specify infer_datetime_format=True for consistent parsing.\n",
      "\n",
      "/opt/conda/lib/python3.9/site-packages/pandas/core/indexes/datetimes.py:327: UserWarning:\n",
      "\n",
      "Parsing '23-09-2011' in DD/MM/YYYY format. Provide format or specify infer_datetime_format=True for consistent parsing.\n",
      "\n",
      "/opt/conda/lib/python3.9/site-packages/pandas/core/indexes/datetimes.py:327: UserWarning:\n",
      "\n",
      "Parsing '15-04-2011' in DD/MM/YYYY format. Provide format or specify infer_datetime_format=True for consistent parsing.\n",
      "\n",
      "/opt/conda/lib/python3.9/site-packages/pandas/core/indexes/datetimes.py:327: UserWarning:\n",
      "\n",
      "Parsing '24-06-2011' in DD/MM/YYYY format. Provide format or specify infer_datetime_format=True for consistent parsing.\n",
      "\n",
      "/opt/conda/lib/python3.9/site-packages/pandas/core/indexes/datetimes.py:327: UserWarning:\n",
      "\n",
      "Parsing '27-04-2012' in DD/MM/YYYY format. Provide format or specify infer_datetime_format=True for consistent parsing.\n",
      "\n",
      "/opt/conda/lib/python3.9/site-packages/pandas/core/indexes/datetimes.py:327: UserWarning:\n",
      "\n",
      "Parsing '14-09-2012' in DD/MM/YYYY format. Provide format or specify infer_datetime_format=True for consistent parsing.\n",
      "\n",
      "/opt/conda/lib/python3.9/site-packages/pandas/core/indexes/datetimes.py:327: UserWarning:\n",
      "\n",
      "Parsing '24-02-2012' in DD/MM/YYYY format. Provide format or specify infer_datetime_format=True for consistent parsing.\n",
      "\n",
      "/opt/conda/lib/python3.9/site-packages/pandas/core/indexes/datetimes.py:327: UserWarning:\n",
      "\n",
      "Parsing '30-07-2010' in DD/MM/YYYY format. Provide format or specify infer_datetime_format=True for consistent parsing.\n",
      "\n",
      "/opt/conda/lib/python3.9/site-packages/pandas/core/indexes/datetimes.py:327: UserWarning:\n",
      "\n",
      "Parsing '30-03-2012' in DD/MM/YYYY format. Provide format or specify infer_datetime_format=True for consistent parsing.\n",
      "\n",
      "/opt/conda/lib/python3.9/site-packages/pandas/core/indexes/datetimes.py:327: UserWarning:\n",
      "\n",
      "Parsing '25-06-2010' in DD/MM/YYYY format. Provide format or specify infer_datetime_format=True for consistent parsing.\n",
      "\n",
      "/opt/conda/lib/python3.9/site-packages/pandas/core/indexes/datetimes.py:327: UserWarning:\n",
      "\n",
      "Parsing '27-08-2010' in DD/MM/YYYY format. Provide format or specify infer_datetime_format=True for consistent parsing.\n",
      "\n",
      "/opt/conda/lib/python3.9/site-packages/pandas/core/indexes/datetimes.py:327: UserWarning:\n",
      "\n",
      "Parsing '17-02-2012' in DD/MM/YYYY format. Provide format or specify infer_datetime_format=True for consistent parsing.\n",
      "\n",
      "/opt/conda/lib/python3.9/site-packages/pandas/core/indexes/datetimes.py:327: UserWarning:\n",
      "\n",
      "Parsing '17-12-2010' in DD/MM/YYYY format. Provide format or specify infer_datetime_format=True for consistent parsing.\n",
      "\n",
      "/opt/conda/lib/python3.9/site-packages/pandas/core/indexes/datetimes.py:327: UserWarning:\n",
      "\n",
      "Parsing '19-10-2012' in DD/MM/YYYY format. Provide format or specify infer_datetime_format=True for consistent parsing.\n",
      "\n",
      "/opt/conda/lib/python3.9/site-packages/pandas/core/indexes/datetimes.py:327: UserWarning:\n",
      "\n",
      "Parsing '29-07-2011' in DD/MM/YYYY format. Provide format or specify infer_datetime_format=True for consistent parsing.\n",
      "\n",
      "/opt/conda/lib/python3.9/site-packages/pandas/core/indexes/datetimes.py:327: UserWarning:\n",
      "\n",
      "Parsing '18-11-2011' in DD/MM/YYYY format. Provide format or specify infer_datetime_format=True for consistent parsing.\n",
      "\n",
      "/opt/conda/lib/python3.9/site-packages/pandas/core/indexes/datetimes.py:327: UserWarning:\n",
      "\n",
      "Parsing '24-09-2010' in DD/MM/YYYY format. Provide format or specify infer_datetime_format=True for consistent parsing.\n",
      "\n",
      "/opt/conda/lib/python3.9/site-packages/pandas/core/indexes/datetimes.py:327: UserWarning:\n",
      "\n",
      "Parsing '19-11-2010' in DD/MM/YYYY format. Provide format or specify infer_datetime_format=True for consistent parsing.\n",
      "\n",
      "/opt/conda/lib/python3.9/site-packages/pandas/core/indexes/datetimes.py:327: UserWarning:\n",
      "\n",
      "Parsing '27-05-2011' in DD/MM/YYYY format. Provide format or specify infer_datetime_format=True for consistent parsing.\n",
      "\n",
      "/opt/conda/lib/python3.9/site-packages/pandas/core/indexes/datetimes.py:327: UserWarning:\n",
      "\n",
      "Parsing '15-07-2011' in DD/MM/YYYY format. Provide format or specify infer_datetime_format=True for consistent parsing.\n",
      "\n",
      "/opt/conda/lib/python3.9/site-packages/pandas/core/indexes/datetimes.py:327: UserWarning:\n",
      "\n",
      "Parsing '14-05-2010' in DD/MM/YYYY format. Provide format or specify infer_datetime_format=True for consistent parsing.\n",
      "\n",
      "/opt/conda/lib/python3.9/site-packages/pandas/core/indexes/datetimes.py:327: UserWarning:\n",
      "\n",
      "Parsing '18-06-2010' in DD/MM/YYYY format. Provide format or specify infer_datetime_format=True for consistent parsing.\n",
      "\n",
      "/opt/conda/lib/python3.9/site-packages/pandas/core/indexes/datetimes.py:327: UserWarning:\n",
      "\n",
      "Parsing '22-06-2012' in DD/MM/YYYY format. Provide format or specify infer_datetime_format=True for consistent parsing.\n",
      "\n",
      "/opt/conda/lib/python3.9/site-packages/pandas/core/indexes/datetimes.py:327: UserWarning:\n",
      "\n",
      "Parsing '26-02-2010' in DD/MM/YYYY format. Provide format or specify infer_datetime_format=True for consistent parsing.\n",
      "\n",
      "/opt/conda/lib/python3.9/site-packages/pandas/core/indexes/datetimes.py:327: UserWarning:\n",
      "\n",
      "Parsing '31-12-2010' in DD/MM/YYYY format. Provide format or specify infer_datetime_format=True for consistent parsing.\n",
      "\n",
      "/opt/conda/lib/python3.9/site-packages/pandas/core/indexes/datetimes.py:327: UserWarning:\n",
      "\n",
      "Parsing '19-02-2010' in DD/MM/YYYY format. Provide format or specify infer_datetime_format=True for consistent parsing.\n",
      "\n",
      "/opt/conda/lib/python3.9/site-packages/pandas/core/indexes/datetimes.py:327: UserWarning:\n",
      "\n",
      "Parsing '20-01-2012' in DD/MM/YYYY format. Provide format or specify infer_datetime_format=True for consistent parsing.\n",
      "\n",
      "/opt/conda/lib/python3.9/site-packages/pandas/core/indexes/datetimes.py:327: UserWarning:\n",
      "\n",
      "Parsing '26-11-2010' in DD/MM/YYYY format. Provide format or specify infer_datetime_format=True for consistent parsing.\n",
      "\n",
      "/opt/conda/lib/python3.9/site-packages/pandas/core/indexes/datetimes.py:327: UserWarning:\n",
      "\n",
      "Parsing '20-04-2012' in DD/MM/YYYY format. Provide format or specify infer_datetime_format=True for consistent parsing.\n",
      "\n",
      "/opt/conda/lib/python3.9/site-packages/pandas/core/indexes/datetimes.py:327: UserWarning:\n",
      "\n",
      "Parsing '13-04-2012' in DD/MM/YYYY format. Provide format or specify infer_datetime_format=True for consistent parsing.\n",
      "\n",
      "/opt/conda/lib/python3.9/site-packages/pandas/core/indexes/datetimes.py:327: UserWarning:\n",
      "\n",
      "Parsing '17-09-2010' in DD/MM/YYYY format. Provide format or specify infer_datetime_format=True for consistent parsing.\n",
      "\n",
      "/opt/conda/lib/python3.9/site-packages/pandas/core/indexes/datetimes.py:327: UserWarning:\n",
      "\n",
      "Parsing '22-07-2011' in DD/MM/YYYY format. Provide format or specify infer_datetime_format=True for consistent parsing.\n",
      "\n",
      "/opt/conda/lib/python3.9/site-packages/pandas/core/indexes/datetimes.py:327: UserWarning:\n",
      "\n",
      "Parsing '22-04-2011' in DD/MM/YYYY format. Provide format or specify infer_datetime_format=True for consistent parsing.\n",
      "\n",
      "/opt/conda/lib/python3.9/site-packages/pandas/core/indexes/datetimes.py:327: UserWarning:\n",
      "\n",
      "Parsing '25-05-2012' in DD/MM/YYYY format. Provide format or specify infer_datetime_format=True for consistent parsing.\n",
      "\n",
      "/opt/conda/lib/python3.9/site-packages/pandas/core/indexes/datetimes.py:327: UserWarning:\n",
      "\n",
      "Parsing '18-02-2011' in DD/MM/YYYY format. Provide format or specify infer_datetime_format=True for consistent parsing.\n",
      "\n",
      "/opt/conda/lib/python3.9/site-packages/pandas/core/indexes/datetimes.py:327: UserWarning:\n",
      "\n",
      "Parsing '25-03-2011' in DD/MM/YYYY format. Provide format or specify infer_datetime_format=True for consistent parsing.\n",
      "\n",
      "/opt/conda/lib/python3.9/site-packages/pandas/core/indexes/datetimes.py:327: UserWarning:\n",
      "\n",
      "Parsing '27-07-2012' in DD/MM/YYYY format. Provide format or specify infer_datetime_format=True for consistent parsing.\n",
      "\n",
      "/opt/conda/lib/python3.9/site-packages/pandas/core/indexes/datetimes.py:327: UserWarning:\n",
      "\n",
      "Parsing '28-05-2010' in DD/MM/YYYY format. Provide format or specify infer_datetime_format=True for consistent parsing.\n",
      "\n",
      "/opt/conda/lib/python3.9/site-packages/pandas/core/indexes/datetimes.py:327: UserWarning:\n",
      "\n",
      "Parsing '19-08-2011' in DD/MM/YYYY format. Provide format or specify infer_datetime_format=True for consistent parsing.\n",
      "\n",
      "/opt/conda/lib/python3.9/site-packages/pandas/core/indexes/datetimes.py:327: UserWarning:\n",
      "\n",
      "Parsing '15-10-2010' in DD/MM/YYYY format. Provide format or specify infer_datetime_format=True for consistent parsing.\n",
      "\n",
      "/opt/conda/lib/python3.9/site-packages/pandas/core/indexes/datetimes.py:327: UserWarning:\n",
      "\n",
      "Parsing '13-05-2011' in DD/MM/YYYY format. Provide format or specify infer_datetime_format=True for consistent parsing.\n",
      "\n",
      "/opt/conda/lib/python3.9/site-packages/pandas/core/indexes/datetimes.py:327: UserWarning:\n",
      "\n",
      "Parsing '16-03-2012' in DD/MM/YYYY format. Provide format or specify infer_datetime_format=True for consistent parsing.\n",
      "\n",
      "/opt/conda/lib/python3.9/site-packages/pandas/core/indexes/datetimes.py:327: UserWarning:\n",
      "\n",
      "Parsing '30-04-2010' in DD/MM/YYYY format. Provide format or specify infer_datetime_format=True for consistent parsing.\n",
      "\n",
      "/opt/conda/lib/python3.9/site-packages/pandas/core/indexes/datetimes.py:327: UserWarning:\n",
      "\n",
      "Parsing '20-08-2010' in DD/MM/YYYY format. Provide format or specify infer_datetime_format=True for consistent parsing.\n",
      "\n",
      "/opt/conda/lib/python3.9/site-packages/pandas/core/indexes/datetimes.py:327: UserWarning:\n",
      "\n",
      "Parsing '16-12-2011' in DD/MM/YYYY format. Provide format or specify infer_datetime_format=True for consistent parsing.\n",
      "\n",
      "/opt/conda/lib/python3.9/site-packages/pandas/core/indexes/datetimes.py:327: UserWarning:\n",
      "\n",
      "Parsing '18-05-2012' in DD/MM/YYYY format. Provide format or specify infer_datetime_format=True for consistent parsing.\n",
      "\n",
      "/opt/conda/lib/python3.9/site-packages/pandas/core/indexes/datetimes.py:327: UserWarning:\n",
      "\n",
      "Parsing '26-03-2010' in DD/MM/YYYY format. Provide format or specify infer_datetime_format=True for consistent parsing.\n",
      "\n",
      "/opt/conda/lib/python3.9/site-packages/pandas/core/indexes/datetimes.py:327: UserWarning:\n",
      "\n",
      "Parsing '13-01-2012' in DD/MM/YYYY format. Provide format or specify infer_datetime_format=True for consistent parsing.\n",
      "\n",
      "/opt/conda/lib/python3.9/site-packages/pandas/core/indexes/datetimes.py:327: UserWarning:\n",
      "\n",
      "Parsing '20-05-2011' in DD/MM/YYYY format. Provide format or specify infer_datetime_format=True for consistent parsing.\n",
      "\n",
      "/opt/conda/lib/python3.9/site-packages/pandas/core/indexes/datetimes.py:327: UserWarning:\n",
      "\n",
      "Parsing '16-04-2010' in DD/MM/YYYY format. Provide format or specify infer_datetime_format=True for consistent parsing.\n",
      "\n",
      "/opt/conda/lib/python3.9/site-packages/pandas/core/indexes/datetimes.py:327: UserWarning:\n",
      "\n",
      "Parsing '26-08-2011' in DD/MM/YYYY format. Provide format or specify infer_datetime_format=True for consistent parsing.\n",
      "\n",
      "/opt/conda/lib/python3.9/site-packages/pandas/core/indexes/datetimes.py:327: UserWarning:\n",
      "\n",
      "Parsing '30-12-2011' in DD/MM/YYYY format. Provide format or specify infer_datetime_format=True for consistent parsing.\n",
      "\n",
      "/opt/conda/lib/python3.9/site-packages/pandas/core/indexes/datetimes.py:327: UserWarning:\n",
      "\n",
      "Parsing '23-09-2011' in DD/MM/YYYY format. Provide format or specify infer_datetime_format=True for consistent parsing.\n",
      "\n",
      "/opt/conda/lib/python3.9/site-packages/pandas/core/indexes/datetimes.py:327: UserWarning:\n",
      "\n",
      "Parsing '15-04-2011' in DD/MM/YYYY format. Provide format or specify infer_datetime_format=True for consistent parsing.\n",
      "\n",
      "/opt/conda/lib/python3.9/site-packages/pandas/core/indexes/datetimes.py:327: UserWarning:\n",
      "\n",
      "Parsing '24-06-2011' in DD/MM/YYYY format. Provide format or specify infer_datetime_format=True for consistent parsing.\n",
      "\n",
      "/opt/conda/lib/python3.9/site-packages/pandas/core/indexes/datetimes.py:327: UserWarning:\n",
      "\n",
      "Parsing '27-04-2012' in DD/MM/YYYY format. Provide format or specify infer_datetime_format=True for consistent parsing.\n",
      "\n",
      "/opt/conda/lib/python3.9/site-packages/pandas/core/indexes/datetimes.py:327: UserWarning:\n",
      "\n",
      "Parsing '14-09-2012' in DD/MM/YYYY format. Provide format or specify infer_datetime_format=True for consistent parsing.\n",
      "\n",
      "/opt/conda/lib/python3.9/site-packages/pandas/core/indexes/datetimes.py:327: UserWarning:\n",
      "\n",
      "Parsing '24-02-2012' in DD/MM/YYYY format. Provide format or specify infer_datetime_format=True for consistent parsing.\n",
      "\n",
      "/opt/conda/lib/python3.9/site-packages/pandas/core/indexes/datetimes.py:327: UserWarning:\n",
      "\n",
      "Parsing '30-07-2010' in DD/MM/YYYY format. Provide format or specify infer_datetime_format=True for consistent parsing.\n",
      "\n",
      "/opt/conda/lib/python3.9/site-packages/pandas/core/indexes/datetimes.py:327: UserWarning:\n",
      "\n",
      "Parsing '30-03-2012' in DD/MM/YYYY format. Provide format or specify infer_datetime_format=True for consistent parsing.\n",
      "\n",
      "/opt/conda/lib/python3.9/site-packages/pandas/core/indexes/datetimes.py:327: UserWarning:\n",
      "\n",
      "Parsing '25-06-2010' in DD/MM/YYYY format. Provide format or specify infer_datetime_format=True for consistent parsing.\n",
      "\n",
      "/opt/conda/lib/python3.9/site-packages/pandas/core/indexes/datetimes.py:327: UserWarning:\n",
      "\n",
      "Parsing '27-08-2010' in DD/MM/YYYY format. Provide format or specify infer_datetime_format=True for consistent parsing.\n",
      "\n",
      "/opt/conda/lib/python3.9/site-packages/pandas/core/indexes/datetimes.py:327: UserWarning:\n",
      "\n",
      "Parsing '17-02-2012' in DD/MM/YYYY format. Provide format or specify infer_datetime_format=True for consistent parsing.\n",
      "\n",
      "/opt/conda/lib/python3.9/site-packages/pandas/core/indexes/datetimes.py:327: UserWarning:\n",
      "\n",
      "Parsing '17-12-2010' in DD/MM/YYYY format. Provide format or specify infer_datetime_format=True for consistent parsing.\n",
      "\n",
      "/opt/conda/lib/python3.9/site-packages/pandas/core/indexes/datetimes.py:327: UserWarning:\n",
      "\n",
      "Parsing '19-10-2012' in DD/MM/YYYY format. Provide format or specify infer_datetime_format=True for consistent parsing.\n",
      "\n",
      "/opt/conda/lib/python3.9/site-packages/pandas/core/indexes/datetimes.py:327: UserWarning:\n",
      "\n",
      "Parsing '29-07-2011' in DD/MM/YYYY format. Provide format or specify infer_datetime_format=True for consistent parsing.\n",
      "\n",
      "/opt/conda/lib/python3.9/site-packages/pandas/core/indexes/datetimes.py:327: UserWarning:\n",
      "\n",
      "Parsing '18-11-2011' in DD/MM/YYYY format. Provide format or specify infer_datetime_format=True for consistent parsing.\n",
      "\n",
      "/opt/conda/lib/python3.9/site-packages/pandas/core/indexes/datetimes.py:327: UserWarning:\n",
      "\n",
      "Parsing '24-09-2010' in DD/MM/YYYY format. Provide format or specify infer_datetime_format=True for consistent parsing.\n",
      "\n",
      "/opt/conda/lib/python3.9/site-packages/pandas/core/indexes/datetimes.py:327: UserWarning:\n",
      "\n",
      "Parsing '19-11-2010' in DD/MM/YYYY format. Provide format or specify infer_datetime_format=True for consistent parsing.\n",
      "\n",
      "/opt/conda/lib/python3.9/site-packages/pandas/core/indexes/datetimes.py:327: UserWarning:\n",
      "\n",
      "Parsing '27-05-2011' in DD/MM/YYYY format. Provide format or specify infer_datetime_format=True for consistent parsing.\n",
      "\n",
      "/opt/conda/lib/python3.9/site-packages/pandas/core/indexes/datetimes.py:327: UserWarning:\n",
      "\n",
      "Parsing '15-07-2011' in DD/MM/YYYY format. Provide format or specify infer_datetime_format=True for consistent parsing.\n",
      "\n",
      "/opt/conda/lib/python3.9/site-packages/pandas/core/indexes/datetimes.py:327: UserWarning:\n",
      "\n",
      "Parsing '14-05-2010' in DD/MM/YYYY format. Provide format or specify infer_datetime_format=True for consistent parsing.\n",
      "\n",
      "/opt/conda/lib/python3.9/site-packages/pandas/core/indexes/datetimes.py:327: UserWarning:\n",
      "\n",
      "Parsing '18-06-2010' in DD/MM/YYYY format. Provide format or specify infer_datetime_format=True for consistent parsing.\n",
      "\n",
      "/opt/conda/lib/python3.9/site-packages/pandas/core/indexes/datetimes.py:327: UserWarning:\n",
      "\n",
      "Parsing '22-06-2012' in DD/MM/YYYY format. Provide format or specify infer_datetime_format=True for consistent parsing.\n",
      "\n",
      "/opt/conda/lib/python3.9/site-packages/pandas/core/indexes/datetimes.py:327: UserWarning:\n",
      "\n",
      "Parsing '26-02-2010' in DD/MM/YYYY format. Provide format or specify infer_datetime_format=True for consistent parsing.\n",
      "\n",
      "/opt/conda/lib/python3.9/site-packages/pandas/core/indexes/datetimes.py:327: UserWarning:\n",
      "\n",
      "Parsing '31-12-2010' in DD/MM/YYYY format. Provide format or specify infer_datetime_format=True for consistent parsing.\n",
      "\n",
      "/opt/conda/lib/python3.9/site-packages/pandas/core/indexes/datetimes.py:327: UserWarning:\n",
      "\n",
      "Parsing '19-02-2010' in DD/MM/YYYY format. Provide format or specify infer_datetime_format=True for consistent parsing.\n",
      "\n",
      "/opt/conda/lib/python3.9/site-packages/pandas/core/indexes/datetimes.py:327: UserWarning:\n",
      "\n",
      "Parsing '20-01-2012' in DD/MM/YYYY format. Provide format or specify infer_datetime_format=True for consistent parsing.\n",
      "\n",
      "/opt/conda/lib/python3.9/site-packages/pandas/core/indexes/datetimes.py:327: UserWarning:\n",
      "\n",
      "Parsing '26-11-2010' in DD/MM/YYYY format. Provide format or specify infer_datetime_format=True for consistent parsing.\n",
      "\n",
      "/opt/conda/lib/python3.9/site-packages/pandas/core/indexes/datetimes.py:327: UserWarning:\n",
      "\n",
      "Parsing '20-04-2012' in DD/MM/YYYY format. Provide format or specify infer_datetime_format=True for consistent parsing.\n",
      "\n",
      "/opt/conda/lib/python3.9/site-packages/pandas/core/indexes/datetimes.py:327: UserWarning:\n",
      "\n",
      "Parsing '13-04-2012' in DD/MM/YYYY format. Provide format or specify infer_datetime_format=True for consistent parsing.\n",
      "\n",
      "/opt/conda/lib/python3.9/site-packages/pandas/core/indexes/datetimes.py:327: UserWarning:\n",
      "\n",
      "Parsing '17-09-2010' in DD/MM/YYYY format. Provide format or specify infer_datetime_format=True for consistent parsing.\n",
      "\n",
      "/opt/conda/lib/python3.9/site-packages/pandas/core/indexes/datetimes.py:327: UserWarning:\n",
      "\n",
      "Parsing '22-07-2011' in DD/MM/YYYY format. Provide format or specify infer_datetime_format=True for consistent parsing.\n",
      "\n",
      "/opt/conda/lib/python3.9/site-packages/pandas/core/indexes/datetimes.py:327: UserWarning:\n",
      "\n",
      "Parsing '22-04-2011' in DD/MM/YYYY format. Provide format or specify infer_datetime_format=True for consistent parsing.\n",
      "\n",
      "/opt/conda/lib/python3.9/site-packages/pandas/core/indexes/datetimes.py:327: UserWarning:\n",
      "\n",
      "Parsing '25-05-2012' in DD/MM/YYYY format. Provide format or specify infer_datetime_format=True for consistent parsing.\n",
      "\n"
     ]
    }
   ],
   "source": [
    "dataset['Day'] = pd.DatetimeIndex(dataset['Date']).day  \n",
    "dataset['Month'] = pd.DatetimeIndex(dataset['Date']).month\n",
    "dataset['Year'] = pd.DatetimeIndex(dataset['Date']).year\n",
    "dataset['Weekday'] = pd.DatetimeIndex(dataset['Date']).weekday"
   ]
  },
  {
   "cell_type": "markdown",
   "metadata": {},
   "source": [
    "### La variable cible (Y) correspond à la colonne : Weekly_Sales\n",
    "\n",
    "### Supression des valeurs des lignes manquantes dans : Weekly_Sales\n",
    "\n",
    "### Des transformations spécifiques à prévoir sur : Date\n",
    "\n",
    "### Suprimer ou créer de nouvelles colonnes de la variable Date contenant : \n",
    "                                                                \n",
    "                                                         année / mois /jour / jour de la semaine\n",
    "                                                         year / month / day / day of week\n",
    "                                                                        \n",
    "### Suprimer les valeurs des lignes contenant des valeurs invalides ou aberrantes : \n",
    "                                                                                    \n",
    "                                                         Température / Prix_du_carburant / IPC et Chômage\n",
    "                                                         Temperature / Fuel_price / CPI and Unemployment \n",
    "                                                                                \n"
   ]
  },
  {
   "cell_type": "markdown",
   "metadata": {},
   "source": [
    "### Supression des lignes de l'ensemble de données pour lesquelles la valeur dans Weekly_Sales est manquante."
   ]
  },
  {
   "cell_type": "code",
   "execution_count": 10,
   "metadata": {},
   "outputs": [
    {
     "name": "stdout",
     "output_type": "stream",
     "text": [
      "Percentage of missing values: \n"
     ]
    },
    {
     "name": "stderr",
     "output_type": "stream",
     "text": [
      "/tmp/ipykernel_1236/3926183873.py:2: FutureWarning:\n",
      "\n",
      "In a future version of pandas all arguments of DataFrame.drop except for the argument 'labels' will be keyword-only.\n",
      "\n"
     ]
    },
    {
     "data": {
      "text/plain": [
       "Store            0.000000\n",
       "Date            13.235294\n",
       "Weekly_Sales     0.000000\n",
       "Holiday_Flag     8.088235\n",
       "Temperature     11.029412\n",
       "Fuel_Price       8.823529\n",
       "CPI              8.088235\n",
       "Unemployment    10.294118\n",
       "Day             13.235294\n",
       "Month           13.235294\n",
       "Year            13.235294\n",
       "Weekday         13.235294\n",
       "dtype: float64"
      ]
     },
     "metadata": {},
     "output_type": "display_data"
    }
   ],
   "source": [
    "index_with_nan = dataset.index[dataset.iloc[:,2].isnull()]\n",
    "dataset.drop(index_with_nan,0, inplace=True)\n",
    "print(\"Percentage of missing values: \")\n",
    "display(100*dataset.isnull().sum()/dataset.shape[0])"
   ]
  },
  {
   "cell_type": "code",
   "execution_count": 11,
   "metadata": {},
   "outputs": [
    {
     "name": "stdout",
     "output_type": "stream",
     "text": [
      "Number of rows : 136\n",
      "\n"
     ]
    }
   ],
   "source": [
    "# Basic stats\n",
    "print(\"Number of rows : {}\".format(dataset.shape[0]))\n",
    "print()"
   ]
  },
  {
   "cell_type": "markdown",
   "metadata": {},
   "source": [
    "### Supression de la colonne Date de l'ensemble de données."
   ]
  },
  {
   "cell_type": "code",
   "execution_count": 12,
   "metadata": {},
   "outputs": [
    {
     "name": "stdout",
     "output_type": "stream",
     "text": [
      "Dropping useless columns...\n",
      "Display of dataset: \n"
     ]
    },
    {
     "data": {
      "text/html": [
       "<div>\n",
       "<style scoped>\n",
       "    .dataframe tbody tr th:only-of-type {\n",
       "        vertical-align: middle;\n",
       "    }\n",
       "\n",
       "    .dataframe tbody tr th {\n",
       "        vertical-align: top;\n",
       "    }\n",
       "\n",
       "    .dataframe thead th {\n",
       "        text-align: right;\n",
       "    }\n",
       "</style>\n",
       "<table border=\"1\" class=\"dataframe\">\n",
       "  <thead>\n",
       "    <tr style=\"text-align: right;\">\n",
       "      <th></th>\n",
       "      <th>Store</th>\n",
       "      <th>Weekly_Sales</th>\n",
       "      <th>Holiday_Flag</th>\n",
       "      <th>Temperature</th>\n",
       "      <th>Fuel_Price</th>\n",
       "      <th>CPI</th>\n",
       "      <th>Unemployment</th>\n",
       "      <th>Day</th>\n",
       "      <th>Month</th>\n",
       "      <th>Year</th>\n",
       "      <th>Weekday</th>\n",
       "    </tr>\n",
       "  </thead>\n",
       "  <tbody>\n",
       "    <tr>\n",
       "      <th>0</th>\n",
       "      <td>6.0</td>\n",
       "      <td>1572117.54</td>\n",
       "      <td>NaN</td>\n",
       "      <td>59.61</td>\n",
       "      <td>3.045</td>\n",
       "      <td>214.777523</td>\n",
       "      <td>6.858</td>\n",
       "      <td>18.0</td>\n",
       "      <td>2.0</td>\n",
       "      <td>2011.0</td>\n",
       "      <td>4.0</td>\n",
       "    </tr>\n",
       "    <tr>\n",
       "      <th>1</th>\n",
       "      <td>13.0</td>\n",
       "      <td>1807545.43</td>\n",
       "      <td>0.0</td>\n",
       "      <td>42.38</td>\n",
       "      <td>3.435</td>\n",
       "      <td>128.616064</td>\n",
       "      <td>7.470</td>\n",
       "      <td>25.0</td>\n",
       "      <td>3.0</td>\n",
       "      <td>2011.0</td>\n",
       "      <td>4.0</td>\n",
       "    </tr>\n",
       "    <tr>\n",
       "      <th>3</th>\n",
       "      <td>11.0</td>\n",
       "      <td>1244390.03</td>\n",
       "      <td>0.0</td>\n",
       "      <td>84.57</td>\n",
       "      <td>NaN</td>\n",
       "      <td>214.556497</td>\n",
       "      <td>7.346</td>\n",
       "      <td>NaN</td>\n",
       "      <td>NaN</td>\n",
       "      <td>NaN</td>\n",
       "      <td>NaN</td>\n",
       "    </tr>\n",
       "    <tr>\n",
       "      <th>4</th>\n",
       "      <td>6.0</td>\n",
       "      <td>1644470.66</td>\n",
       "      <td>0.0</td>\n",
       "      <td>78.89</td>\n",
       "      <td>2.759</td>\n",
       "      <td>212.412888</td>\n",
       "      <td>7.092</td>\n",
       "      <td>28.0</td>\n",
       "      <td>5.0</td>\n",
       "      <td>2010.0</td>\n",
       "      <td>4.0</td>\n",
       "    </tr>\n",
       "    <tr>\n",
       "      <th>5</th>\n",
       "      <td>4.0</td>\n",
       "      <td>1857533.70</td>\n",
       "      <td>0.0</td>\n",
       "      <td>NaN</td>\n",
       "      <td>2.756</td>\n",
       "      <td>126.160226</td>\n",
       "      <td>7.896</td>\n",
       "      <td>28.0</td>\n",
       "      <td>5.0</td>\n",
       "      <td>2010.0</td>\n",
       "      <td>4.0</td>\n",
       "    </tr>\n",
       "  </tbody>\n",
       "</table>\n",
       "</div>"
      ],
      "text/plain": [
       "   Store  Weekly_Sales  Holiday_Flag  Temperature  Fuel_Price         CPI  \\\n",
       "0    6.0    1572117.54           NaN        59.61       3.045  214.777523   \n",
       "1   13.0    1807545.43           0.0        42.38       3.435  128.616064   \n",
       "3   11.0    1244390.03           0.0        84.57         NaN  214.556497   \n",
       "4    6.0    1644470.66           0.0        78.89       2.759  212.412888   \n",
       "5    4.0    1857533.70           0.0          NaN       2.756  126.160226   \n",
       "\n",
       "   Unemployment   Day  Month    Year  Weekday  \n",
       "0         6.858  18.0    2.0  2011.0      4.0  \n",
       "1         7.470  25.0    3.0  2011.0      4.0  \n",
       "3         7.346   NaN    NaN     NaN      NaN  \n",
       "4         7.092  28.0    5.0  2010.0      4.0  \n",
       "5         7.896  28.0    5.0  2010.0      4.0  "
      ]
     },
     "metadata": {},
     "output_type": "display_data"
    },
    {
     "name": "stdout",
     "output_type": "stream",
     "text": [
      "\n"
     ]
    }
   ],
   "source": [
    "useless_cols = ['Date']\n",
    "\n",
    "print(\"Dropping useless columns...\")\n",
    "dataset = dataset.drop(useless_cols, axis=1)\n",
    "print(\"Display of dataset: \")\n",
    "display(dataset.head())\n",
    "print()"
   ]
  },
  {
   "cell_type": "code",
   "execution_count": 13,
   "metadata": {},
   "outputs": [
    {
     "name": "stdout",
     "output_type": "stream",
     "text": [
      "Basics statistics: \n"
     ]
    },
    {
     "data": {
      "text/html": [
       "<div>\n",
       "<style scoped>\n",
       "    .dataframe tbody tr th:only-of-type {\n",
       "        vertical-align: middle;\n",
       "    }\n",
       "\n",
       "    .dataframe tbody tr th {\n",
       "        vertical-align: top;\n",
       "    }\n",
       "\n",
       "    .dataframe thead th {\n",
       "        text-align: right;\n",
       "    }\n",
       "</style>\n",
       "<table border=\"1\" class=\"dataframe\">\n",
       "  <thead>\n",
       "    <tr style=\"text-align: right;\">\n",
       "      <th></th>\n",
       "      <th>Store</th>\n",
       "      <th>Weekly_Sales</th>\n",
       "      <th>Holiday_Flag</th>\n",
       "      <th>Temperature</th>\n",
       "      <th>Fuel_Price</th>\n",
       "      <th>CPI</th>\n",
       "      <th>Unemployment</th>\n",
       "      <th>Day</th>\n",
       "      <th>Month</th>\n",
       "      <th>Year</th>\n",
       "      <th>Weekday</th>\n",
       "    </tr>\n",
       "  </thead>\n",
       "  <tbody>\n",
       "    <tr>\n",
       "      <th>count</th>\n",
       "      <td>136.000000</td>\n",
       "      <td>1.360000e+02</td>\n",
       "      <td>125.000000</td>\n",
       "      <td>121.000000</td>\n",
       "      <td>124.000000</td>\n",
       "      <td>125.000000</td>\n",
       "      <td>122.000000</td>\n",
       "      <td>118.000000</td>\n",
       "      <td>118.000000</td>\n",
       "      <td>118.000000</td>\n",
       "      <td>118.000000</td>\n",
       "    </tr>\n",
       "    <tr>\n",
       "      <th>mean</th>\n",
       "      <td>10.014706</td>\n",
       "      <td>1.249536e+06</td>\n",
       "      <td>0.072000</td>\n",
       "      <td>60.853967</td>\n",
       "      <td>3.316992</td>\n",
       "      <td>178.091144</td>\n",
       "      <td>7.665582</td>\n",
       "      <td>15.949153</td>\n",
       "      <td>6.830508</td>\n",
       "      <td>2010.822034</td>\n",
       "      <td>3.771186</td>\n",
       "    </tr>\n",
       "    <tr>\n",
       "      <th>std</th>\n",
       "      <td>6.124614</td>\n",
       "      <td>6.474630e+05</td>\n",
       "      <td>0.259528</td>\n",
       "      <td>18.514432</td>\n",
       "      <td>0.479540</td>\n",
       "      <td>40.243105</td>\n",
       "      <td>1.619428</td>\n",
       "      <td>8.687202</td>\n",
       "      <td>3.395082</td>\n",
       "      <td>0.812628</td>\n",
       "      <td>1.283765</td>\n",
       "    </tr>\n",
       "    <tr>\n",
       "      <th>min</th>\n",
       "      <td>1.000000</td>\n",
       "      <td>2.689290e+05</td>\n",
       "      <td>0.000000</td>\n",
       "      <td>18.790000</td>\n",
       "      <td>2.514000</td>\n",
       "      <td>126.111903</td>\n",
       "      <td>5.143000</td>\n",
       "      <td>1.000000</td>\n",
       "      <td>1.000000</td>\n",
       "      <td>2010.000000</td>\n",
       "      <td>0.000000</td>\n",
       "    </tr>\n",
       "    <tr>\n",
       "      <th>25%</th>\n",
       "      <td>4.000000</td>\n",
       "      <td>6.050757e+05</td>\n",
       "      <td>0.000000</td>\n",
       "      <td>45.220000</td>\n",
       "      <td>2.838500</td>\n",
       "      <td>131.637000</td>\n",
       "      <td>6.690000</td>\n",
       "      <td>8.000000</td>\n",
       "      <td>4.000000</td>\n",
       "      <td>2010.000000</td>\n",
       "      <td>4.000000</td>\n",
       "    </tr>\n",
       "    <tr>\n",
       "      <th>50%</th>\n",
       "      <td>10.000000</td>\n",
       "      <td>1.261424e+06</td>\n",
       "      <td>0.000000</td>\n",
       "      <td>62.250000</td>\n",
       "      <td>3.451000</td>\n",
       "      <td>196.919506</td>\n",
       "      <td>7.477000</td>\n",
       "      <td>16.500000</td>\n",
       "      <td>6.000000</td>\n",
       "      <td>2011.000000</td>\n",
       "      <td>4.000000</td>\n",
       "    </tr>\n",
       "    <tr>\n",
       "      <th>75%</th>\n",
       "      <td>15.250000</td>\n",
       "      <td>1.806386e+06</td>\n",
       "      <td>0.000000</td>\n",
       "      <td>75.950000</td>\n",
       "      <td>3.724000</td>\n",
       "      <td>214.878556</td>\n",
       "      <td>8.150000</td>\n",
       "      <td>24.000000</td>\n",
       "      <td>10.000000</td>\n",
       "      <td>2011.750000</td>\n",
       "      <td>4.000000</td>\n",
       "    </tr>\n",
       "    <tr>\n",
       "      <th>max</th>\n",
       "      <td>20.000000</td>\n",
       "      <td>2.771397e+06</td>\n",
       "      <td>1.000000</td>\n",
       "      <td>91.650000</td>\n",
       "      <td>4.193000</td>\n",
       "      <td>226.968844</td>\n",
       "      <td>14.313000</td>\n",
       "      <td>31.000000</td>\n",
       "      <td>12.000000</td>\n",
       "      <td>2012.000000</td>\n",
       "      <td>6.000000</td>\n",
       "    </tr>\n",
       "  </tbody>\n",
       "</table>\n",
       "</div>"
      ],
      "text/plain": [
       "            Store  Weekly_Sales  Holiday_Flag  Temperature  Fuel_Price  \\\n",
       "count  136.000000  1.360000e+02    125.000000   121.000000  124.000000   \n",
       "mean    10.014706  1.249536e+06      0.072000    60.853967    3.316992   \n",
       "std      6.124614  6.474630e+05      0.259528    18.514432    0.479540   \n",
       "min      1.000000  2.689290e+05      0.000000    18.790000    2.514000   \n",
       "25%      4.000000  6.050757e+05      0.000000    45.220000    2.838500   \n",
       "50%     10.000000  1.261424e+06      0.000000    62.250000    3.451000   \n",
       "75%     15.250000  1.806386e+06      0.000000    75.950000    3.724000   \n",
       "max     20.000000  2.771397e+06      1.000000    91.650000    4.193000   \n",
       "\n",
       "              CPI  Unemployment         Day       Month         Year  \\\n",
       "count  125.000000    122.000000  118.000000  118.000000   118.000000   \n",
       "mean   178.091144      7.665582   15.949153    6.830508  2010.822034   \n",
       "std     40.243105      1.619428    8.687202    3.395082     0.812628   \n",
       "min    126.111903      5.143000    1.000000    1.000000  2010.000000   \n",
       "25%    131.637000      6.690000    8.000000    4.000000  2010.000000   \n",
       "50%    196.919506      7.477000   16.500000    6.000000  2011.000000   \n",
       "75%    214.878556      8.150000   24.000000   10.000000  2011.750000   \n",
       "max    226.968844     14.313000   31.000000   12.000000  2012.000000   \n",
       "\n",
       "          Weekday  \n",
       "count  118.000000  \n",
       "mean     3.771186  \n",
       "std      1.283765  \n",
       "min      0.000000  \n",
       "25%      4.000000  \n",
       "50%      4.000000  \n",
       "75%      4.000000  \n",
       "max      6.000000  "
      ]
     },
     "metadata": {},
     "output_type": "display_data"
    },
    {
     "name": "stdout",
     "output_type": "stream",
     "text": [
      "\n"
     ]
    }
   ],
   "source": [
    "print(\"Basics statistics: \")\n",
    "df = dataset.describe(include='all')\n",
    "display(df)\n",
    "print()"
   ]
  },
  {
   "cell_type": "code",
   "execution_count": 14,
   "metadata": {},
   "outputs": [
    {
     "data": {
      "text/plain": [
       "<AxesSubplot:>"
      ]
     },
     "execution_count": 14,
     "metadata": {},
     "output_type": "execute_result"
    },
    {
     "data": {
      "image/png": "[encoded data removed]",
      "text/plain": [
       "<Figure size 1080x720 with 2 Axes>"
      ]
     },
     "metadata": {
      "needs_background": "light"
     },
     "output_type": "display_data"
    }
   ],
   "source": [
    "f, ax= plt.subplots(figsize= (15, 10))\n",
    "\n",
    "corr= dataset.corr(method='pearson')\n",
    "\n",
    "mask= np.triu(np.ones_like(corr, dtype= bool))\n",
    "\n",
    "sns.heatmap(corr, \n",
    "               mask= mask,\n",
    "               cmap='coolwarm', \n",
    "               annot=True, \n",
    "               center= 0, \n",
    "               fmt= '.3f',\n",
    "               square= True)"
   ]
  },
  {
   "cell_type": "code",
   "execution_count": 15,
   "metadata": {},
   "outputs": [
    {
     "data": {
      "text/plain": [
       "<AxesSubplot:>"
      ]
     },
     "execution_count": 15,
     "metadata": {},
     "output_type": "execute_result"
    },
    {
     "data": {
      "image/png": "[encoded data removed]",
      "text/plain": [
       "<Figure size 1080x1080 with 2 Axes>"
      ]
     },
     "metadata": {
      "needs_background": "light"
     },
     "output_type": "display_data"
    }
   ],
   "source": [
    "plt.figure(figsize=(15, 15))\n",
    "corr = dataset.corr()\n",
    "sns.heatmap(corr, annot=True, cmap='Blues',\n",
    "        xticklabels=corr,\n",
    "        yticklabels=corr)"
   ]
  },
  {
   "cell_type": "markdown",
   "metadata": {},
   "source": [
    "### Apparemment, il n'y a pas de corrélation très forte entre la variable cible et les autres variables."
   ]
  },
  {
   "cell_type": "markdown",
   "metadata": {},
   "source": [
    "### Mais \"Fuel_price\" et \"year\" sont correlés. Peut-être faut-il suprimer la colonne \"Fuel_price\" ?"
   ]
  },
  {
   "cell_type": "code",
   "execution_count": 16,
   "metadata": {},
   "outputs": [
    {
     "data": {
      "text/plain": [
       "array([nan,  0.,  1.])"
      ]
     },
     "execution_count": 16,
     "metadata": {},
     "output_type": "execute_result"
    }
   ],
   "source": [
    "dataset['Holiday_Flag'].unique()"
   ]
  },
  {
   "cell_type": "markdown",
   "metadata": {},
   "source": [
    "##### L'indice des prix à la consommation - CPI\n",
    "Qu'est-ce que l'indice des prix à la consommation - CPI ?\n",
    "L'indice des prix à la consommation (IPC) est une mesure qui examine la moyenne pondérée des prix d'un panier de biens et services de consommation, tels que les transports, l'alimentation et les soins médicaux. Il est calculé en prenant les variations de prix de chaque article du panier de biens prédéterminé et en en faisant la moyenne. Les variations de l'IPC sont utilisées pour évaluer les changements de prix associés au coût de la vie ; l'IPC est l'une des statistiques les plus fréquemment utilisées pour identifier les périodes d'inflation ou de déflation.\n"
   ]
  },
  {
   "cell_type": "code",
   "execution_count": 17,
   "metadata": {},
   "outputs": [
    {
     "name": "stderr",
     "output_type": "stream",
     "text": [
      "/opt/conda/lib/python3.9/site-packages/seaborn/_decorators.py:36: FutureWarning:\n",
      "\n",
      "Pass the following variables as keyword args: x, y. From version 0.12, the only valid positional argument will be `data`, and passing other arguments without an explicit keyword will result in an error or misinterpretation.\n",
      "\n",
      "/opt/conda/lib/python3.9/site-packages/seaborn/distributions.py:2619: FutureWarning:\n",
      "\n",
      "`distplot` is a deprecated function and will be removed in a future version. Please adapt your code to use either `displot` (a figure-level function with similar flexibility) or `histplot` (an axes-level function for histograms).\n",
      "\n",
      "/opt/conda/lib/python3.9/site-packages/seaborn/_decorators.py:36: FutureWarning:\n",
      "\n",
      "Pass the following variables as keyword args: x, y. From version 0.12, the only valid positional argument will be `data`, and passing other arguments without an explicit keyword will result in an error or misinterpretation.\n",
      "\n",
      "/opt/conda/lib/python3.9/site-packages/seaborn/distributions.py:2619: FutureWarning:\n",
      "\n",
      "`distplot` is a deprecated function and will be removed in a future version. Please adapt your code to use either `displot` (a figure-level function with similar flexibility) or `histplot` (an axes-level function for histograms).\n",
      "\n",
      "/opt/conda/lib/python3.9/site-packages/seaborn/_decorators.py:36: FutureWarning:\n",
      "\n",
      "Pass the following variables as keyword args: x, y. From version 0.12, the only valid positional argument will be `data`, and passing other arguments without an explicit keyword will result in an error or misinterpretation.\n",
      "\n",
      "/opt/conda/lib/python3.9/site-packages/seaborn/distributions.py:2619: FutureWarning:\n",
      "\n",
      "`distplot` is a deprecated function and will be removed in a future version. Please adapt your code to use either `displot` (a figure-level function with similar flexibility) or `histplot` (an axes-level function for histograms).\n",
      "\n"
     ]
    },
    {
     "data": {
      "text/plain": [
       "<AxesSubplot:xlabel='Unemployment', ylabel='Density'>"
      ]
     },
     "execution_count": 17,
     "metadata": {},
     "output_type": "execute_result"
    },
    {
     "data": {
      "image/png": "[encoded data removed]",
      "text/plain": [
       "<Figure size 720x720 with 6 Axes>"
      ]
     },
     "metadata": {
      "needs_background": "light"
     },
     "output_type": "display_data"
    }
   ],
   "source": [
    "plt.figure(figsize=(10,10))\n",
    "plt.subplot(3,2,1)\n",
    "sns.scatterplot('Temperature','Weekly_Sales',data=dataset)\n",
    "plt.subplot(3,2,2)\n",
    "sns.distplot(dataset['Temperature'])\n",
    "plt.subplot(3,2,3)\n",
    "sns.scatterplot('CPI','Weekly_Sales',data=dataset)\n",
    "plt.subplot(3,2,4)\n",
    "sns.distplot(dataset['CPI'])\n",
    "plt.subplot(3,2,5)\n",
    "sns.scatterplot('Unemployment','Weekly_Sales',data=dataset)\n",
    "plt.subplot(3,2,6)\n",
    "sns.distplot(dataset['Unemployment'])"
   ]
  },
  {
   "cell_type": "code",
   "execution_count": 18,
   "metadata": {},
   "outputs": [
    {
     "data": {
      "text/html": [
       "<iframe\n",
       "    scrolling=\"no\"\n",
       "    width=\"100%\"\n",
       "    height=\"920\"\n",
       "    src=\"iframe_figures/figure_18.html\"\n",
       "    frameborder=\"0\"\n",
       "    allowfullscreen\n",
       "></iframe>\n"
      ]
     },
     "metadata": {},
     "output_type": "display_data"
    }
   ],
   "source": [
    "# Univariate analysis\n",
    "from plotly.subplots import make_subplots\n",
    "\n",
    "# Distribution of each numeric variable\n",
    "num_features = ['Temperature', 'Fuel_Price', 'CPI', 'Unemployment','Store', 'Holiday_Flag','Day','Month','Year','Weekday']\n",
    "fig1 = make_subplots(rows = len(num_features), cols = 1, subplot_titles = num_features)\n",
    "for i in range(len(num_features)):\n",
    "    fig1.add_trace(\n",
    "        go.Histogram(\n",
    "            x = dataset[num_features[i]], nbinsx = 4),\n",
    "        row = i + 1,\n",
    "        col = 1)\n",
    "fig1.update_layout(\n",
    "        title = go.layout.Title(text = \"Distribution of quantitative variables\", x = 0.5), showlegend = False, \n",
    "            autosize=False, height=900)\n",
    "fig1.show()"
   ]
  },
  {
   "cell_type": "code",
   "execution_count": 19,
   "metadata": {},
   "outputs": [
    {
     "data": {
      "text/html": [
       "<iframe\n",
       "    scrolling=\"no\"\n",
       "    width=\"100%\"\n",
       "    height=\"520\"\n",
       "    src=\"iframe_figures/figure_19.html\"\n",
       "    frameborder=\"0\"\n",
       "    allowfullscreen\n",
       "></iframe>\n"
      ]
     },
     "metadata": {},
     "output_type": "display_data"
    }
   ],
   "source": [
    "\n",
    "# Univariate analysis\n",
    "from plotly.subplots import make_subplots\n",
    "\n",
    "# Barplot of each qualitative variable\n",
    "cat_features = ['Store', 'Holiday_Flag']\n",
    "fig2 = make_subplots(rows = len(cat_features), cols = 1, subplot_titles = cat_features)\n",
    "for i in range(len(cat_features)):\n",
    "    \n",
    "    x_coords = dataset[cat_features[i]].value_counts().index.tolist()\n",
    "    y_coords = dataset[cat_features[i]].value_counts().tolist()\n",
    "    \n",
    "    fig2.add_trace(\n",
    "        go.Bar(\n",
    "            x = x_coords,\n",
    "            y = y_coords),\n",
    "        row = i + 1,\n",
    "        col = 1)\n",
    "fig2.update_layout(\n",
    "        title = go.layout.Title(text = \"Barplot des variables qualitative\", x = 0.5), showlegend = False, \n",
    "            autosize=False, height=500)\n",
    "fig2.show()"
   ]
  },
  {
   "cell_type": "markdown",
   "metadata": {},
   "source": [
    "### Suppression des valeurs invalides ou des valeurs aberrantes des colonnes : Température , Fuel_price , CPI et Unemployment qui ne sont pas dans l'intervale de + ou -3 écarts types."
   ]
  },
  {
   "cell_type": "code",
   "execution_count": 20,
   "metadata": {},
   "outputs": [],
   "source": [
    "mask1 = (dataset['Temperature'] < dataset['Temperature'].mean() + 2*dataset['Temperature'].std())\n",
    "mask1=(dataset['Temperature'] > dataset['Temperature'].mean() - 2*dataset['Temperature'].std())\n",
    "dataset = dataset.loc[mask1,:]\n",
    "\n",
    "mask2 = (dataset['Fuel_Price'] < dataset['Fuel_Price'].mean() + 2*dataset['Fuel_Price'].std()) \n",
    "mask2=(dataset['Fuel_Price'] > dataset['Fuel_Price'].mean() - 2*dataset['Fuel_Price'].std())\n",
    "dataset = dataset.loc[mask2,:]\n",
    "\n",
    "mask3 = (dataset['CPI'] < dataset['CPI'].mean() + 2*dataset['CPI'].std()) \n",
    "mask3=(dataset['CPI'] > dataset['CPI'].mean() - 2*dataset['CPI'].std())\n",
    "dataset = dataset.loc[mask3,:]\n",
    "\n",
    "mask4 = (dataset['Unemployment'] < dataset['Unemployment'].mean() + 2*dataset['Unemployment'].std()) \n",
    "mask4=(dataset['Unemployment'] > dataset['Unemployment'].mean() - 2*dataset['Unemployment'].std())\n",
    "dataset = dataset.loc[mask4,:]"
   ]
  },
  {
   "cell_type": "code",
   "execution_count": 21,
   "metadata": {},
   "outputs": [
    {
     "name": "stdout",
     "output_type": "stream",
     "text": [
      "Number of rows : 92\n",
      "\n"
     ]
    }
   ],
   "source": [
    "# Basic stats\n",
    "print(\"Number of rows : {}\".format(dataset.shape[0]))\n",
    "print()"
   ]
  },
  {
   "cell_type": "code",
   "execution_count": 22,
   "metadata": {},
   "outputs": [
    {
     "data": {
      "text/plain": [
       "Store            0\n",
       "Weekly_Sales     0\n",
       "Holiday_Flag    10\n",
       "Temperature      0\n",
       "Fuel_Price       0\n",
       "CPI              0\n",
       "Unemployment     0\n",
       "Day              9\n",
       "Month            9\n",
       "Year             9\n",
       "Weekday          9\n",
       "dtype: int64"
      ]
     },
     "execution_count": 22,
     "metadata": {},
     "output_type": "execute_result"
    }
   ],
   "source": [
    "dataset.isna().sum()"
   ]
  },
  {
   "cell_type": "code",
   "execution_count": 23,
   "metadata": {},
   "outputs": [
    {
     "data": {
      "text/plain": [
       "Holiday_Flag    10\n",
       "Day              9\n",
       "Month            9\n",
       "Year             9\n",
       "Weekday          9\n",
       "Store            0\n",
       "Weekly_Sales     0\n",
       "Temperature      0\n",
       "Fuel_Price       0\n",
       "CPI              0\n",
       "Unemployment     0\n",
       "dtype: int64"
      ]
     },
     "execution_count": 23,
     "metadata": {},
     "output_type": "execute_result"
    }
   ],
   "source": [
    "dataset.isna().sum().sort_values(ascending = False)"
   ]
  },
  {
   "cell_type": "markdown",
   "metadata": {},
   "source": [
    "### Séparation de la variable cible Y : 'Weekly_Sales' et des autres feactures."
   ]
  },
  {
   "cell_type": "code",
   "execution_count": 24,
   "metadata": {},
   "outputs": [
    {
     "data": {
      "text/html": [
       "<div>\n",
       "<style scoped>\n",
       "    .dataframe tbody tr th:only-of-type {\n",
       "        vertical-align: middle;\n",
       "    }\n",
       "\n",
       "    .dataframe tbody tr th {\n",
       "        vertical-align: top;\n",
       "    }\n",
       "\n",
       "    .dataframe thead th {\n",
       "        text-align: right;\n",
       "    }\n",
       "</style>\n",
       "<table border=\"1\" class=\"dataframe\">\n",
       "  <thead>\n",
       "    <tr style=\"text-align: right;\">\n",
       "      <th></th>\n",
       "      <th>Store</th>\n",
       "      <th>Holiday_Flag</th>\n",
       "      <th>Temperature</th>\n",
       "      <th>Fuel_Price</th>\n",
       "      <th>CPI</th>\n",
       "      <th>Unemployment</th>\n",
       "      <th>Day</th>\n",
       "      <th>Month</th>\n",
       "      <th>Year</th>\n",
       "      <th>Weekday</th>\n",
       "    </tr>\n",
       "  </thead>\n",
       "  <tbody>\n",
       "    <tr>\n",
       "      <th>0</th>\n",
       "      <td>6.0</td>\n",
       "      <td>NaN</td>\n",
       "      <td>59.61</td>\n",
       "      <td>3.045</td>\n",
       "      <td>214.777523</td>\n",
       "      <td>6.858</td>\n",
       "      <td>18.0</td>\n",
       "      <td>2.0</td>\n",
       "      <td>2011.0</td>\n",
       "      <td>4.0</td>\n",
       "    </tr>\n",
       "    <tr>\n",
       "      <th>1</th>\n",
       "      <td>13.0</td>\n",
       "      <td>0.0</td>\n",
       "      <td>42.38</td>\n",
       "      <td>3.435</td>\n",
       "      <td>128.616064</td>\n",
       "      <td>7.470</td>\n",
       "      <td>25.0</td>\n",
       "      <td>3.0</td>\n",
       "      <td>2011.0</td>\n",
       "      <td>4.0</td>\n",
       "    </tr>\n",
       "    <tr>\n",
       "      <th>4</th>\n",
       "      <td>6.0</td>\n",
       "      <td>0.0</td>\n",
       "      <td>78.89</td>\n",
       "      <td>2.759</td>\n",
       "      <td>212.412888</td>\n",
       "      <td>7.092</td>\n",
       "      <td>28.0</td>\n",
       "      <td>5.0</td>\n",
       "      <td>2010.0</td>\n",
       "      <td>4.0</td>\n",
       "    </tr>\n",
       "    <tr>\n",
       "      <th>6</th>\n",
       "      <td>15.0</td>\n",
       "      <td>0.0</td>\n",
       "      <td>69.80</td>\n",
       "      <td>4.069</td>\n",
       "      <td>134.855161</td>\n",
       "      <td>7.658</td>\n",
       "      <td>6.0</td>\n",
       "      <td>3.0</td>\n",
       "      <td>2011.0</td>\n",
       "      <td>6.0</td>\n",
       "    </tr>\n",
       "    <tr>\n",
       "      <th>7</th>\n",
       "      <td>20.0</td>\n",
       "      <td>0.0</td>\n",
       "      <td>39.93</td>\n",
       "      <td>3.617</td>\n",
       "      <td>213.023622</td>\n",
       "      <td>6.961</td>\n",
       "      <td>2.0</td>\n",
       "      <td>3.0</td>\n",
       "      <td>2012.0</td>\n",
       "      <td>4.0</td>\n",
       "    </tr>\n",
       "  </tbody>\n",
       "</table>\n",
       "</div>"
      ],
      "text/plain": [
       "   Store  Holiday_Flag  Temperature  Fuel_Price         CPI  Unemployment  \\\n",
       "0    6.0           NaN        59.61       3.045  214.777523         6.858   \n",
       "1   13.0           0.0        42.38       3.435  128.616064         7.470   \n",
       "4    6.0           0.0        78.89       2.759  212.412888         7.092   \n",
       "6   15.0           0.0        69.80       4.069  134.855161         7.658   \n",
       "7   20.0           0.0        39.93       3.617  213.023622         6.961   \n",
       "\n",
       "    Day  Month    Year  Weekday  \n",
       "0  18.0    2.0  2011.0      4.0  \n",
       "1  25.0    3.0  2011.0      4.0  \n",
       "4  28.0    5.0  2010.0      4.0  \n",
       "6   6.0    3.0  2011.0      6.0  \n",
       "7   2.0    3.0  2012.0      4.0  "
      ]
     },
     "execution_count": 24,
     "metadata": {},
     "output_type": "execute_result"
    }
   ],
   "source": [
    "target_variable = \"Weekly_Sales\"\n",
    "Y = dataset.loc[:,target_variable]\n",
    "X = dataset.loc[:,[c for c in dataset.columns if c!=target_variable]]\n",
    "X.head()"
   ]
  },
  {
   "cell_type": "code",
   "execution_count": 25,
   "metadata": {},
   "outputs": [
    {
     "data": {
      "text/plain": [
       "0      1572117.54\n",
       "1      1807545.43\n",
       "4      1644470.66\n",
       "6       695396.19\n",
       "7      2203523.20\n",
       "          ...    \n",
       "139     532739.77\n",
       "143     396968.80\n",
       "144     424513.08\n",
       "145    2248645.59\n",
       "149    1255087.26\n",
       "Name: Weekly_Sales, Length: 92, dtype: float64"
      ]
     },
     "execution_count": 25,
     "metadata": {},
     "output_type": "execute_result"
    }
   ],
   "source": [
    "Y"
   ]
  },
  {
   "cell_type": "code",
   "execution_count": 26,
   "metadata": {},
   "outputs": [
    {
     "data": {
      "text/plain": [
       "[(3, 8), (8, 3)]"
      ]
     },
     "execution_count": 26,
     "metadata": {},
     "output_type": "execute_result"
    }
   ],
   "source": [
    "# pour voir ci aucune feature est correler entre elle a plus de 0.80\n",
    "corr = X.corr()\n",
    "high_corr = corr > 0.82\n",
    "high_corr_list = [(i,j) for i in range(corr.shape[0]) for j in range(corr.shape[0]) if i != j and high_corr.iloc[i,j]]\n",
    "high_corr_list"
   ]
  },
  {
   "cell_type": "code",
   "execution_count": 27,
   "metadata": {},
   "outputs": [
    {
     "data": {
      "text/plain": [
       "Store           float64\n",
       "Weekly_Sales    float64\n",
       "Holiday_Flag    float64\n",
       "Temperature     float64\n",
       "Fuel_Price      float64\n",
       "CPI             float64\n",
       "Unemployment    float64\n",
       "Day             float64\n",
       "Month           float64\n",
       "Year            float64\n",
       "Weekday         float64\n",
       "dtype: object"
      ]
     },
     "execution_count": 27,
     "metadata": {},
     "output_type": "execute_result"
    }
   ],
   "source": [
    "dataset.dtypes "
   ]
  },
  {
   "cell_type": "markdown",
   "metadata": {},
   "source": [
    "# preprocessing avec sklearn"
   ]
  },
  {
   "cell_type": "code",
   "execution_count": 28,
   "metadata": {},
   "outputs": [
    {
     "name": "stdout",
     "output_type": "stream",
     "text": [
      "...Done.\n",
      "\n"
     ]
    }
   ],
   "source": [
    "X_train, X_test, Y_train, Y_test = train_test_split(X, Y, test_size=0.1, random_state=0)\n",
    "print(\"...Done.\")\n",
    "print()"
   ]
  },
  {
   "cell_type": "code",
   "execution_count": 29,
   "metadata": {},
   "outputs": [
    {
     "name": "stdout",
     "output_type": "stream",
     "text": [
      "...Done\n",
      "[[1.80000000e+01 0.00000000e+00 7.36700000e+01 2.79200000e+00\n",
      "  1.32614193e+02 9.34200000e+00 8.00000000e+00 6.00000000e+00\n",
      "  2.01000000e+03 1.00000000e+00]\n",
      " [1.80000000e+01 0.00000000e+00 5.20200000e+01 2.87800000e+00\n",
      "  1.32763355e+02 9.33100000e+00 1.50000000e+01 1.00000000e+01\n",
      "  2.01000000e+03 4.00000000e+00]\n",
      " [7.00000000e+00            nan 5.76000000e+01 3.48500000e+00\n",
      "  1.94379637e+02 8.62200000e+00 2.60000000e+01 8.00000000e+00\n",
      "  2.01100000e+03 4.00000000e+00]\n",
      " [1.30000000e+01 0.00000000e+00 7.59500000e+01 3.60600000e+00\n",
      "  1.29201581e+02 6.87700000e+00 8.00000000e+00 1.20000000e+01\n",
      "  2.01100000e+03 3.00000000e+00]\n",
      " [5.00000000e+00 0.00000000e+00 6.91700000e+01 3.59400000e+00\n",
      "  2.24019287e+02 5.42200000e+00 1.90000000e+01 1.00000000e+01\n",
      "  2.01200000e+03 4.00000000e+00]]\n",
      "[[6.00000000e+00 0.00000000e+00 7.88900000e+01 2.75900000e+00\n",
      "  2.12412888e+02 7.09200000e+00 2.80000000e+01 5.00000000e+00\n",
      "  2.01000000e+03 4.00000000e+00]\n",
      " [1.30000000e+01 0.00000000e+00 6.11100000e+01 3.78800000e+00\n",
      "  1.30959226e+02 5.96500000e+00 6.00000000e+00 1.00000000e+00\n",
      "  2.01200000e+03 4.00000000e+00]]\n",
      "\n",
      "[1166117.85, 1029618.1, 629994.47, 1970341.38, 313358.15]\n",
      "[1644470.66, 2035431.39]\n"
     ]
    }
   ],
   "source": [
    "X_train = X_train.values\n",
    "X_test = X_test.values\n",
    "Y_train = Y_train.tolist()\n",
    "Y_test = Y_test.tolist()\n",
    "print(\"...Done\")\n",
    "\n",
    "print(X_train[0:5,:])\n",
    "print(X_test[0:2,:])\n",
    "print()\n",
    "print(Y_train[0:5])\n",
    "print(Y_test[0:2])"
   ]
  },
  {
   "cell_type": "markdown",
   "metadata": {},
   "source": [
    "###  Variables catégorielles :\n",
    "         #### Store, Holiday_Flag [0,1]                                 *valeur manquante [1]\n",
    "###  Variables numériques : \n",
    "         #### Température, Fuel_Price, CPI, Unemployment [2,3,4,5]      (*valeur manquante [3,4,5]  FAUX)"
   ]
  },
  {
   "cell_type": "code",
   "execution_count": 30,
   "metadata": {},
   "outputs": [
    {
     "name": "stdout",
     "output_type": "stream",
     "text": [
      "Found numeric features  ['Store', 'Holiday_Flag', 'Temperature', 'Fuel_Price', 'CPI', 'Unemployment', 'Day', 'Month', 'Year', 'Weekday']  at positions  [0, 1, 2, 3, 4, 5, 6, 7, 8, 9]\n",
      "Found categorical features  []  at positions  []\n"
     ]
    }
   ],
   "source": [
    "idx = 0\n",
    "numeric_features = []\n",
    "numeric_indices = []\n",
    "categorical_features = []\n",
    "categorical_indices = []\n",
    "for i,t in X.dtypes.iteritems():\n",
    "    if ('float' in str(t)) or ('int' in str(t)) :\n",
    "        numeric_features.append(i)\n",
    "        numeric_indices.append(idx)\n",
    "    else :\n",
    "        categorical_features.append(i)\n",
    "        categorical_indices.append(idx)\n",
    "\n",
    "    idx = idx + 1\n",
    "\n",
    "print('Found numeric features ', numeric_features,' at positions ', numeric_indices)\n",
    "print('Found categorical features ', categorical_features,' at positions ', categorical_indices)"
   ]
  },
  {
   "cell_type": "code",
   "execution_count": 31,
   "metadata": {},
   "outputs": [],
   "source": [
    "# déscription / déclartion de ce que l'on veut faire donc remplacé les variables quantiatif par la moyen de sa colonne\n",
    "\n",
    "numeric_features = [2,3,4,5,6,7,8,9]\n",
    "numeric_transformer = Pipeline(steps=[\n",
    "    ('imputer', SimpleImputer(strategy='mean')),\n",
    "    ('scaler', StandardScaler())\n",
    "     ])    \n",
    "\n",
    "categorial_features = [0,1]\n",
    "categorical_transformer = Pipeline(\n",
    "    steps=[\n",
    "        ('imputer', SimpleImputer(strategy='most_frequent')),\n",
    "        ('encoder', OneHotEncoder(drop='first'))\n",
    "         ])"
   ]
  },
  {
   "cell_type": "code",
   "execution_count": 32,
   "metadata": {},
   "outputs": [],
   "source": [
    "# déscription / déclartion  général pour réunir toute la table : les colonnes quantitatif \n",
    "\n",
    "preprocessor = ColumnTransformer(\n",
    "    transformers=[\n",
    "        ('num', numeric_transformer, numeric_features),\n",
    "        ('cat', categorical_transformer, categorial_features)\n",
    "    ])"
   ]
  },
  {
   "cell_type": "code",
   "execution_count": null,
   "metadata": {},
   "outputs": [],
   "source": []
  },
  {
   "cell_type": "code",
   "execution_count": 33,
   "metadata": {},
   "outputs": [
    {
     "name": "stdout",
     "output_type": "stream",
     "text": [
      "[[1.80000000e+01 0.00000000e+00 7.36700000e+01 2.79200000e+00\n",
      "  1.32614193e+02 9.34200000e+00 8.00000000e+00 6.00000000e+00\n",
      "  2.01000000e+03 1.00000000e+00]\n",
      " [1.80000000e+01 0.00000000e+00 5.20200000e+01 2.87800000e+00\n",
      "  1.32763355e+02 9.33100000e+00 1.50000000e+01 1.00000000e+01\n",
      "  2.01000000e+03 4.00000000e+00]\n",
      " [7.00000000e+00            nan 5.76000000e+01 3.48500000e+00\n",
      "  1.94379637e+02 8.62200000e+00 2.60000000e+01 8.00000000e+00\n",
      "  2.01100000e+03 4.00000000e+00]\n",
      " [1.30000000e+01 0.00000000e+00 7.59500000e+01 3.60600000e+00\n",
      "  1.29201581e+02 6.87700000e+00 8.00000000e+00 1.20000000e+01\n",
      "  2.01100000e+03 3.00000000e+00]\n",
      " [5.00000000e+00 0.00000000e+00 6.91700000e+01 3.59400000e+00\n",
      "  2.24019287e+02 5.42200000e+00 1.90000000e+01 1.00000000e+01\n",
      "  2.01200000e+03 4.00000000e+00]]\n",
      "[[ 0.69224059 -1.10459765 -1.10948941  0.96704968 -1.01098435 -0.20861301\n",
      "  -1.094465   -2.22198746  0.          0.          0.          0.\n",
      "   0.          0.          0.          0.          0.          0.\n",
      "   0.          0.          0.          0.          0.          0.\n",
      "   1.          0.          0.          0.        ]\n",
      " [-0.56024078 -0.92616167 -1.10576729  0.96059815 -0.12337436  1.02637603\n",
      "  -1.094465    0.16101358  0.          0.          0.          0.\n",
      "   0.          0.          0.          0.          0.          0.\n",
      "   0.          0.          0.          0.          0.          0.\n",
      "   1.          0.          0.          0.        ]\n",
      " [-0.23743034  0.33326436  0.43178435  0.54476786  1.27144133  0.40888151\n",
      "   0.21183194  0.16101358  0.          0.          0.          0.\n",
      "   0.          1.          0.          0.          0.          0.\n",
      "   0.          0.          0.          0.          0.          0.\n",
      "   0.          0.          0.          0.        ]\n",
      " [ 0.82414163  0.58431963 -1.19464658 -0.47867904 -1.01098435  1.64387055\n",
      "   0.21183194 -0.6333201   0.          0.          0.          0.\n",
      "   0.          0.          0.          0.          0.          0.\n",
      "   0.          1.          0.          0.          0.          0.\n",
      "   0.          0.          0.          0.        ]\n",
      " [ 0.43190959  0.55942159  1.17140204 -1.33204021  0.38383135  1.02637603\n",
      "   1.51812888  0.16101358  0.          0.          0.          1.\n",
      "   0.          0.          0.          0.          0.          0.\n",
      "   0.          0.          0.          0.          0.          0.\n",
      "   0.          0.          0.          0.        ]]\n",
      "\n",
      "[[6.00000000e+00 0.00000000e+00 7.88900000e+01 2.75900000e+00\n",
      "  2.12412888e+02 7.09200000e+00 2.80000000e+01 5.00000000e+00\n",
      "  2.01000000e+03 4.00000000e+00]\n",
      " [1.30000000e+01 0.00000000e+00 6.11100000e+01 3.78800000e+00\n",
      "  1.30959226e+02 5.96500000e+00 6.00000000e+00 1.00000000e+00\n",
      "  2.01200000e+03 4.00000000e+00]\n",
      " [3.00000000e+00 0.00000000e+00 8.01900000e+01 3.46700000e+00\n",
      "  2.19741491e+02 7.56700000e+00 2.30000000e+01 9.00000000e+00\n",
      "  2.01100000e+03 4.00000000e+00]\n",
      " [1.90000000e+01 0.00000000e+00 5.07600000e+01 4.12400000e+00\n",
      "  1.38033200e+02 8.15000000e+00 5.00000000e+00 4.00000000e+00\n",
      "  2.01200000e+03 3.00000000e+00]\n",
      " [5.00000000e+00 0.00000000e+00 7.73800000e+01 3.89900000e+00\n",
      "  2.16534361e+02 6.48900000e+00 1.30000000e+01 5.00000000e+00\n",
      "  2.01100000e+03 4.00000000e+00]]\n",
      "[[ 0.99422455 -1.17306727  0.88177992 -0.352581    1.52504418 -0.51736028\n",
      "  -1.094465    0.16101358  0.          0.          0.          0.\n",
      "   1.          0.          0.          0.          0.          0.\n",
      "   0.          0.          0.          0.          0.          0.\n",
      "   0.          0.          0.          0.        ]\n",
      " [-0.03437216  0.96193996 -1.1507869  -1.01356934 -1.2645872  -1.75234932\n",
      "   1.51812888  0.16101358  0.          0.          0.          0.\n",
      "   0.          0.          0.          0.          0.          0.\n",
      "   0.          1.          0.          0.          0.          0.\n",
      "   0.          0.          0.          0.        ]\n",
      " [ 1.06943129  0.2959173   1.06465538 -0.0739923   0.89103705  0.71762877\n",
      "   0.21183194  0.16101358  0.          1.          0.          0.\n",
      "   0.          0.          0.          0.          0.          0.\n",
      "   0.          0.          0.          0.          0.          0.\n",
      "   0.          0.          0.          0.        ]\n",
      " [-0.63313346  1.65908518 -0.97426537  0.26793867 -1.39138863 -0.82610754\n",
      "   1.51812888 -0.6333201   0.          0.          0.          0.\n",
      "   0.          0.          0.          0.          0.          0.\n",
      "   0.          0.          0.          0.          0.          0.\n",
      "   0.          1.          0.          0.        ]\n",
      " [ 0.90686904  1.19224686  0.98462575 -0.70624202 -0.37697721 -0.51736028\n",
      "   0.21183194  0.16101358  0.          0.          0.          1.\n",
      "   0.          0.          0.          0.          0.          0.\n",
      "   0.          0.          0.          0.          0.          0.\n",
      "   0.          0.          0.          0.        ]]\n"
     ]
    }
   ],
   "source": [
    "print(X_train[0:5,:])\n",
    "X_train = preprocessor.fit_transform(X_train)\n",
    "print(X_train[0:5,:])\n",
    "print()\n",
    "\n",
    "print(X_test[0:5,:])\n",
    "X_test = preprocessor.transform(X_test)\n",
    "print(X_test[0:5,:])"
   ]
  },
  {
   "cell_type": "code",
   "execution_count": 34,
   "metadata": {},
   "outputs": [
    {
     "data": {
      "text/plain": [
       "LinearRegression()"
      ]
     },
     "execution_count": 34,
     "metadata": {},
     "output_type": "execute_result"
    }
   ],
   "source": [
    "regressor = LinearRegression()\n",
    "regressor.fit(X_train, Y_train)"
   ]
  },
  {
   "cell_type": "code",
   "execution_count": 35,
   "metadata": {},
   "outputs": [
    {
     "name": "stdout",
     "output_type": "stream",
     "text": [
      "[1143522.27357755 1144444.80848007  489659.90076497 2042258.23917724\n",
      "  432499.63425848]\n"
     ]
    }
   ],
   "source": [
    "Y_train_pred = regressor.predict(X_train)\n",
    "\n",
    "print(Y_train_pred[0:5])"
   ]
  },
  {
   "cell_type": "code",
   "execution_count": 36,
   "metadata": {},
   "outputs": [
    {
     "name": "stdout",
     "output_type": "stream",
     "text": [
      "[1586366.11853389 1993839.76503125  270864.47277367 1394290.8459702\n",
      "  210605.84428211]\n"
     ]
    }
   ],
   "source": [
    "Y_test_pred = regressor.predict(X_test)\n",
    "\n",
    "print(Y_test_pred[0:5])"
   ]
  },
  {
   "cell_type": "code",
   "execution_count": 37,
   "metadata": {},
   "outputs": [
    {
     "name": "stdout",
     "output_type": "stream",
     "text": [
      "R2 score on training set :  0.9761362425644379\n",
      "R2 score on test set :  0.986314836101161\n"
     ]
    }
   ],
   "source": [
    "print(\"R2 score on training set : \", r2_score(Y_train, Y_train_pred))\n",
    "print(\"R2 score on test set : \", r2_score(Y_test, Y_test_pred))\n"
   ]
  },
  {
   "cell_type": "markdown",
   "metadata": {},
   "source": [
    "### Le modèle est parfait : il n'y a pas besoin de régularisation d'ajustement excessif. En effet, avec ce modèle sans régularisation, nous obtenons un score R2 de test supérieur à 0,9.\n",
    "### Mais, nous allons comme même le faire pour comparer les résultats pour voir si le score s'améliore."
   ]
  },
  {
   "cell_type": "code",
   "execution_count": null,
   "metadata": {},
   "outputs": [],
   "source": []
  },
  {
   "cell_type": "markdown",
   "metadata": {},
   "source": [
    "### Affichage des coefficients de chacune des variables explicatives."
   ]
  },
  {
   "cell_type": "code",
   "execution_count": 38,
   "metadata": {},
   "outputs": [
    {
     "data": {
      "text/plain": [
       "array([  -25556.8521058 ,   -78880.50160444,   821941.36215651,\n",
       "         -46228.44348101,   -39092.59397296,    23015.6759213 ,\n",
       "         -21740.26435828,    -5914.62858165,   259224.76767366,\n",
       "       -1316145.72336401,  2389357.90118983, -1294450.11978158,\n",
       "          43803.67045995,  -557039.3970594 ,  -792891.89974682,\n",
       "       -1199961.635801  ,  2093728.55018544,    15579.65581496,\n",
       "        1460791.62554283,  2209663.00956662,  1139158.62670084,\n",
       "         821942.31572767,  -611910.37438033,   964253.98802383,\n",
       "        1176013.55289361,  1532981.30671435,   572401.16128217,\n",
       "        -108095.69546712])"
      ]
     },
     "execution_count": 38,
     "metadata": {},
     "output_type": "execute_result"
    }
   ],
   "source": [
    "coef_transf = regressor.coef_\n",
    "coef_transf"
   ]
  },
  {
   "cell_type": "code",
   "execution_count": 39,
   "metadata": {},
   "outputs": [
    {
     "name": "stderr",
     "output_type": "stream",
     "text": [
      "/opt/conda/lib/python3.9/site-packages/sklearn/utils/deprecation.py:87: FutureWarning:\n",
      "\n",
      "Function get_feature_names is deprecated; get_feature_names is deprecated in 1.0 and will be removed in 1.2. Please use get_feature_names_out instead.\n",
      "\n"
     ]
    },
    {
     "data": {
      "text/plain": [
       "['Store_2.0',\n",
       " 'Store_3.0',\n",
       " 'Store_4.0',\n",
       " 'Store_5.0',\n",
       " 'Store_6.0',\n",
       " 'Store_7.0',\n",
       " 'Store_8.0',\n",
       " 'Store_9.0',\n",
       " 'Store_10.0',\n",
       " 'Store_11.0',\n",
       " 'Store_12.0',\n",
       " 'Store_13.0',\n",
       " 'Store_14.0',\n",
       " 'Store_15.0',\n",
       " 'Store_16.0',\n",
       " 'Store_17.0',\n",
       " 'Store_18.0',\n",
       " 'Store_19.0',\n",
       " 'Store_20.0',\n",
       " 'Holiday_Flag_1.0']"
      ]
     },
     "execution_count": 39,
     "metadata": {},
     "output_type": "execute_result"
    }
   ],
   "source": [
    "cat_featnames = list(preprocessor.transformers_[1][1].named_steps['encoder'].get_feature_names(['Store', 'Holiday_Flag']))\n",
    "cat_featnames"
   ]
  },
  {
   "cell_type": "code",
   "execution_count": 48,
   "metadata": {},
   "outputs": [],
   "source": [
    "columns = cat_featnames + ['Temperature', 'Fuel_Price', 'CPI', 'Unemployment', 'Day', 'Month', 'Year', 'Weekday']"
   ]
  },
  {
   "cell_type": "markdown",
   "metadata": {},
   "source": [
    "### Créeation d'un Dataframe dans lequel nous aurons les colonnes qui se réfèrent au bons coefficients."
   ]
  },
  {
   "cell_type": "code",
   "execution_count": 49,
   "metadata": {},
   "outputs": [
    {
     "data": {
      "text/html": [
       "<div>\n",
       "<style scoped>\n",
       "    .dataframe tbody tr th:only-of-type {\n",
       "        vertical-align: middle;\n",
       "    }\n",
       "\n",
       "    .dataframe tbody tr th {\n",
       "        vertical-align: top;\n",
       "    }\n",
       "\n",
       "    .dataframe thead th {\n",
       "        text-align: right;\n",
       "    }\n",
       "</style>\n",
       "<table border=\"1\" class=\"dataframe\">\n",
       "  <thead>\n",
       "    <tr style=\"text-align: right;\">\n",
       "      <th></th>\n",
       "      <th>coef_regressor</th>\n",
       "    </tr>\n",
       "  </thead>\n",
       "  <tbody>\n",
       "    <tr>\n",
       "      <th>Store_12.0</th>\n",
       "      <td>2.389358e+06</td>\n",
       "    </tr>\n",
       "    <tr>\n",
       "      <th>Holiday_Flag_1.0</th>\n",
       "      <td>2.209663e+06</td>\n",
       "    </tr>\n",
       "    <tr>\n",
       "      <th>Store_18.0</th>\n",
       "      <td>2.093729e+06</td>\n",
       "    </tr>\n",
       "    <tr>\n",
       "      <th>Month</th>\n",
       "      <td>1.532981e+06</td>\n",
       "    </tr>\n",
       "    <tr>\n",
       "      <th>Store_20.0</th>\n",
       "      <td>1.460792e+06</td>\n",
       "    </tr>\n",
       "    <tr>\n",
       "      <th>Store_11.0</th>\n",
       "      <td>1.316146e+06</td>\n",
       "    </tr>\n",
       "    <tr>\n",
       "      <th>Store_13.0</th>\n",
       "      <td>1.294450e+06</td>\n",
       "    </tr>\n",
       "    <tr>\n",
       "      <th>Store_17.0</th>\n",
       "      <td>1.199962e+06</td>\n",
       "    </tr>\n",
       "    <tr>\n",
       "      <th>Day</th>\n",
       "      <td>1.176014e+06</td>\n",
       "    </tr>\n",
       "    <tr>\n",
       "      <th>Temperature</th>\n",
       "      <td>1.139159e+06</td>\n",
       "    </tr>\n",
       "    <tr>\n",
       "      <th>Unemployment</th>\n",
       "      <td>9.642540e+05</td>\n",
       "    </tr>\n",
       "    <tr>\n",
       "      <th>Fuel_Price</th>\n",
       "      <td>8.219423e+05</td>\n",
       "    </tr>\n",
       "    <tr>\n",
       "      <th>Store_4.0</th>\n",
       "      <td>8.219414e+05</td>\n",
       "    </tr>\n",
       "    <tr>\n",
       "      <th>Store_16.0</th>\n",
       "      <td>7.928919e+05</td>\n",
       "    </tr>\n",
       "    <tr>\n",
       "      <th>CPI</th>\n",
       "      <td>6.119104e+05</td>\n",
       "    </tr>\n",
       "    <tr>\n",
       "      <th>Year</th>\n",
       "      <td>5.724012e+05</td>\n",
       "    </tr>\n",
       "    <tr>\n",
       "      <th>Store_15.0</th>\n",
       "      <td>5.570394e+05</td>\n",
       "    </tr>\n",
       "    <tr>\n",
       "      <th>Store_10.0</th>\n",
       "      <td>2.592248e+05</td>\n",
       "    </tr>\n",
       "    <tr>\n",
       "      <th>Weekday</th>\n",
       "      <td>1.080957e+05</td>\n",
       "    </tr>\n",
       "    <tr>\n",
       "      <th>Store_3.0</th>\n",
       "      <td>7.888050e+04</td>\n",
       "    </tr>\n",
       "    <tr>\n",
       "      <th>Store_5.0</th>\n",
       "      <td>4.622844e+04</td>\n",
       "    </tr>\n",
       "    <tr>\n",
       "      <th>Store_14.0</th>\n",
       "      <td>4.380367e+04</td>\n",
       "    </tr>\n",
       "    <tr>\n",
       "      <th>Store_6.0</th>\n",
       "      <td>3.909259e+04</td>\n",
       "    </tr>\n",
       "    <tr>\n",
       "      <th>Store_2.0</th>\n",
       "      <td>2.555685e+04</td>\n",
       "    </tr>\n",
       "    <tr>\n",
       "      <th>Store_7.0</th>\n",
       "      <td>2.301568e+04</td>\n",
       "    </tr>\n",
       "    <tr>\n",
       "      <th>Store_8.0</th>\n",
       "      <td>2.174026e+04</td>\n",
       "    </tr>\n",
       "    <tr>\n",
       "      <th>Store_19.0</th>\n",
       "      <td>1.557966e+04</td>\n",
       "    </tr>\n",
       "    <tr>\n",
       "      <th>Store_9.0</th>\n",
       "      <td>5.914629e+03</td>\n",
       "    </tr>\n",
       "  </tbody>\n",
       "</table>\n",
       "</div>"
      ],
      "text/plain": [
       "                  coef_regressor\n",
       "Store_12.0          2.389358e+06\n",
       "Holiday_Flag_1.0    2.209663e+06\n",
       "Store_18.0          2.093729e+06\n",
       "Month               1.532981e+06\n",
       "Store_20.0          1.460792e+06\n",
       "Store_11.0          1.316146e+06\n",
       "Store_13.0          1.294450e+06\n",
       "Store_17.0          1.199962e+06\n",
       "Day                 1.176014e+06\n",
       "Temperature         1.139159e+06\n",
       "Unemployment        9.642540e+05\n",
       "Fuel_Price          8.219423e+05\n",
       "Store_4.0           8.219414e+05\n",
       "Store_16.0          7.928919e+05\n",
       "CPI                 6.119104e+05\n",
       "Year                5.724012e+05\n",
       "Store_15.0          5.570394e+05\n",
       "Store_10.0          2.592248e+05\n",
       "Weekday             1.080957e+05\n",
       "Store_3.0           7.888050e+04\n",
       "Store_5.0           4.622844e+04\n",
       "Store_14.0          4.380367e+04\n",
       "Store_6.0           3.909259e+04\n",
       "Store_2.0           2.555685e+04\n",
       "Store_7.0           2.301568e+04\n",
       "Store_8.0           2.174026e+04\n",
       "Store_19.0          1.557966e+04\n",
       "Store_9.0           5.914629e+03"
      ]
     },
     "execution_count": 49,
     "metadata": {},
     "output_type": "execute_result"
    }
   ],
   "source": [
    "coef = pd.DataFrame(index = columns)\n",
    "coef['coef_regressor'] = regressor.coef_.transpose()\n",
    "coef.apply(lambda x : abs(x)).sort_values(by=\"coef_regressor\", ascending=False)"
   ]
  },
  {
   "cell_type": "markdown",
   "metadata": {},
   "source": [
    "### Les variables explicatives les plus influentes sont Store_12.0, Holiday_Flag_1.0 et Store_18.0."
   ]
  },
  {
   "cell_type": "markdown",
   "metadata": {},
   "source": [
    "### En général, on évite de regarder les coefficients pour déterminer l'importance des caractéristiques. On utilisera plutôt autre chose que \"f_regression\"."
   ]
  },
  {
   "cell_type": "code",
   "execution_count": null,
   "metadata": {},
   "outputs": [],
   "source": []
  },
  {
   "cell_type": "code",
   "execution_count": null,
   "metadata": {},
   "outputs": [],
   "source": []
  },
  {
   "cell_type": "code",
   "execution_count": 45,
   "metadata": {},
   "outputs": [
    {
     "name": "stdout",
     "output_type": "stream",
     "text": [
      "cross validated r2-score on train set : 0.8013146989046751 \n",
      "cross validated r2-score on test set : -16.970386822120663 \n"
     ]
    }
   ],
   "source": [
    "from sklearn.model_selection import cross_val_score, GridSearchCV\n",
    "\n",
    "#Cross validation score\n",
    "\n",
    "regressor = LinearRegression() \n",
    "regressor.fit(X_train, Y_train)\n",
    "\n",
    "score_train = cross_val_score(regressor,X_train, Y_train, cv=3)\n",
    "score_test = cross_val_score(regressor,X_test, Y_test, cv=3)\n",
    "#F1 score\n",
    "\n",
    "print(\"cross validated r2-score on train set : {} \".format(score_train.mean()))\n",
    "print(\"cross validated r2-score on test set : {} \".format(score_test.mean()))"
   ]
  },
  {
   "cell_type": "code",
   "execution_count": 42,
   "metadata": {},
   "outputs": [
    {
     "name": "stdout",
     "output_type": "stream",
     "text": [
      "Ridge -> The R2 score on train set is :  0.955194445879265\n",
      "Ridge -> The R2 score on test set is :  0.9545635856918482\n",
      "Lasso -> The R2 score on train set is :  0.9756516043151634\n",
      "Lasso -> The R2 score on test set is :  0.9862905707584833\n"
     ]
    },
    {
     "name": "stderr",
     "output_type": "stream",
     "text": [
      "/opt/conda/lib/python3.9/site-packages/sklearn/linear_model/_coordinate_descent.py:647: ConvergenceWarning:\n",
      "\n",
      "Objective did not converge. You might want to increase the number of iterations, check the scale of the features or consider increasing regularisation. Duality gap: 4.213e+11, tolerance: 3.467e+09\n",
      "\n"
     ]
    }
   ],
   "source": [
    "# Perform Ridge Regressor\n",
    "\n",
    "from sklearn.linear_model import Ridge\n",
    "from sklearn.linear_model import Lasso\n",
    "\n",
    "#Ridge Regressor\n",
    "regressor1 = Ridge(alpha=0.5)\n",
    "regressor1.fit(X_train, Y_train)\n",
    "\n",
    "r2_scores_train = regressor1.score(X_train, Y_train)\n",
    "r2_scores_test = regressor1.score(X_test, Y_test)\n",
    "\n",
    "print('Ridge -> The R2 score on train set is : ', r2_scores_train)\n",
    "print('Ridge -> The R2 score on test set is : ', r2_scores_test)\n",
    "\n",
    "#----------------------------------------------------------------------------------------------------\n",
    "\n",
    "#Lasso Regressor\n",
    "regressor = Lasso(alpha=0.5)\n",
    "regressor.fit(X_train, Y_train)\n",
    "\n",
    "r2_scores_train = regressor.score(X_train, Y_train)\n",
    "r2_scores_test = regressor.score(X_test, Y_test)\n",
    "\n",
    "print('Lasso -> The R2 score on train set is : ', r2_scores_train)\n",
    "print('Lasso -> The R2 score on test set is : ', r2_scores_test)"
   ]
  },
  {
   "cell_type": "code",
   "execution_count": 43,
   "metadata": {},
   "outputs": [
    {
     "name": "stdout",
     "output_type": "stream",
     "text": [
      "3-fold cross-validation...\n",
      "The cross-validated train R2-score is :  0.8514882244810769\n",
      "The cross-validated test R2-score is :  -27.439508733025797\n"
     ]
    }
   ],
   "source": [
    "# Cross validation with Ridge regularization\n",
    "print(\"3-fold cross-validation...\")\n",
    "regressor1 = Ridge(alpha=0.5)\n",
    "scores_train = cross_val_score(regressor1, X_train, Y_train, cv=4)\n",
    "scores_test = cross_val_score(regressor1, X_test, Y_test, cv=4)\n",
    "\n",
    "print('The cross-validated train R2-score is : ', scores_train.mean())\n",
    "print('The cross-validated test R2-score is : ', scores_test.mean())"
   ]
  },
  {
   "cell_type": "code",
   "execution_count": 44,
   "metadata": {},
   "outputs": [
    {
     "name": "stdout",
     "output_type": "stream",
     "text": [
      "Grid search...\n",
      "...Done.\n",
      "Best hyperparameters :  {'alpha': 0.2}\n",
      "\n",
      "Train score for the best model :  0.9697378774534671\n",
      "Test score for the best model :  0.9761039334213661\n"
     ]
    }
   ],
   "source": [
    "# Cross validation with Lasso regularization x Grid search\n",
    "\n",
    "print(\"Grid search...\")\n",
    "regressor1 = Ridge()\n",
    "\n",
    "# Grid of values to be tested\n",
    "\n",
    "params = {\n",
    "    'alpha': [0.2,50 , 0.5, 1 ,20]           # Au delà de 1 : le score ne s'améliore pas\n",
    "}\n",
    "gridsearch = GridSearchCV(regressor1, param_grid = params, cv = 4)   # cv : the number of folds to be used for CV\n",
    "gridsearch.fit(X_train, Y_train)\n",
    "print(\"...Done.\")\n",
    "print(\"Best hyperparameters : \", gridsearch.best_params_)\n",
    "print()\n",
    "\n",
    "grid_fit = gridsearch.fit(X_train, Y_train)\n",
    "print('Train score for the best model : ', grid_fit.best_estimator_.score(X_train,Y_train))\n",
    "print('Test score for the best model : ', grid_fit.best_estimator_.score(X_test,Y_test))"
   ]
  },
  {
   "cell_type": "code",
   "execution_count": null,
   "metadata": {},
   "outputs": [],
   "source": []
  }
 ],
 "metadata": {
  "kernelspec": {
   "display_name": "Python 3 (ipykernel)",
   "language": "python",
   "name": "python3"
  },
  "language_info": {
   "codemirror_mode": {
    "name": "ipython",
    "version": 3
   },
   "file_extension": ".py",
   "mimetype": "text/x-python",
   "name": "python",
   "nbconvert_exporter": "python",
   "pygments_lexer": "ipython3",
   "version": "3.9.7"
  }
 },
 "nbformat": 4,
 "nbformat_minor": 4
}
