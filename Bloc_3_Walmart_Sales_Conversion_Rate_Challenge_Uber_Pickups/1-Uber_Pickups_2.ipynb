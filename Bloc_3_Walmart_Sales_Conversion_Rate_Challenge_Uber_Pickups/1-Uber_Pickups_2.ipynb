{
 "cells": [
  {
   "cell_type": "markdown",
   "metadata": {},
   "source": [
    "<img src=\"https://upload.wikimedia.org/wikipedia/commons/thumb/5/58/Uber_logo_2018.svg/1024px-Uber_logo_2018.svg.png\" alt=\"UBER LOGO\" width=\"50%\" />\n",
    "\n",
    "# UBER Pickups "
   ]
  },
  {
   "cell_type": "markdown",
   "metadata": {
    "jp-MarkdownHeadingCollapsed": true,
    "tags": []
   },
   "source": [
    "## Company's Description 📇\n",
    "\n",
    "<a href=\"http://uber.com/\" target=\"_blank\">Uber</a> is one of the most famous startup in the world. It started as a ride-sharing application for people who couldn't afford a taxi. Now, Uber expanded its activities to Food Delivery with <a href=\"https://www.ubereats.com/fr-en\" target=\"_blank\">Uber Eats</a>, package delivery, freight transportation and even urban transportation with <a href=\"https://www.uber.com/fr/en/ride/uber-bike/\" target=\"_blank\"> Jump Bike</a> and <a href=\"https://www.li.me/\" target=\"_blank\"> Lime </a> that the company funded. \n",
    "\n",
    "\n",
    "The company's goal is to revolutionize transportation accross the globe. It operates now on about 70 countries and 900 cities and generates over $14 billion revenue! 😮\n"
   ]
  },
  {
   "cell_type": "markdown",
   "metadata": {},
   "source": [
    "## Project 🚧\n",
    "\n",
    "One of the main pain point that Uber's team found is that sometimes drivers are not around when users need them. For example, a user might be in San Francisco's Financial District whereas Uber drivers are looking for customers in Castro.  \n",
    "\n",
    "(If you are not familiar with the bay area, check out <a href=\"https://www.google.com/maps/place/San+Francisco,+CA,+USA/@37.7515389,-122.4567213,13.43z/data=!4m5!3m4!1s0x80859a6d00690021:0x4a501367f076adff!8m2!3d37.7749295!4d-122.4194155\" target=\"_blank\">Google Maps</a>)\n",
    "\n",
    "Eventhough both neighborhood are not that far away, users would still have to wait 10 to 15 minutes before being picked-up, which is too long. Uber's research shows that users accept to wait 5-7 minutes, otherwise they would cancel their ride. \n",
    "\n",
    "Therefore, Uber's data team would like to work on a project where **their app would recommend hot-zones in major cities to be in at any given time of day.**  "
   ]
  },
  {
   "cell_type": "markdown",
   "metadata": {},
   "source": [
    "## Goals 🎯\n",
    "\n",
    "Uber already has data about pickups in major cities. Your objective is to create algorithms that will determine where are the hot-zones that drivers should be in. Therefore you will:\n",
    "\n",
    "* Create an algorithm to find hot zones \n",
    "* Visualize results on a nice dashboard "
   ]
  },
  {
   "cell_type": "markdown",
   "metadata": {},
   "source": [
    "## Scope of this project 🖼️\n",
    "\n",
    "To start off, Uber wants to try this feature in New York city. Therefore you will only focus on this city. Data can be found here: \n",
    "\n",
    "👉👉<a href=\"https://full-stack-bigdata-datasets.s3.eu-west-3.amazonaws.com/Machine+Learning+non+Supervis%C3%A9/Projects/uber-trip-data.zip\" target=\"_blank\"> Uber Trip Data</a> 👈👈\n",
    "\n",
    "**You only need to focus on New York City for this project**"
   ]
  },
  {
   "cell_type": "markdown",
   "metadata": {},
   "source": [
    "## Helpers 🦮\n",
    "\n",
    "To help you achieve this project, here are a few tips that should help you: \n",
    "\n",
    "### Clustering is your friend \n",
    "\n",
    "Clustering technics are a perfect fit for the job. Think about it, all the pickup locations can be gathered into different clusters. You can then use **cluster coordinates to pin hot zones** 😉\n",
    "    \n",
    "\n",
    "### Create maps with `plotly` \n",
    "\n",
    "Check out <a href=\"https://plotly.com/\" target=\"_blank\">Plotly</a> documentation, you can create maps and populate them easily. Obviously, there are other libraries but this one should do the job pretty well. \n",
    "\n",
    "\n",
    "### Start small grow big \n",
    "\n",
    "Eventhough Uber wants to have hot-zones per hour and per day of week, you should first **start small**. Pick one day at a given hour and **then start to generalize** your approach. "
   ]
  },
  {
   "cell_type": "markdown",
   "metadata": {
    "tags": []
   },
   "source": [
    "## Deliverable 📬\n",
    "\n",
    "To complete this project, your team should: \n",
    "\n",
    "* Have a map with hot-zones using any python library (`plotly` or anything else). \n",
    "* You should **at least** describe hot-zones per day of week. \n",
    "* Compare results with **at least** two unsupervised algorithms like KMeans and DBScan. \n",
    "\n",
    "Your maps should look something like this: \n",
    "\n",
    "<img src=\"https://full-stack-assets.s3.eu-west-3.amazonaws.com/images/Clusters_uber_pickups.png\" alt=\"Uber Cluster Map\" />"
   ]
  },
  {
   "cell_type": "markdown",
   "metadata": {},
   "source": [
    "# 1. Importation des données."
   ]
  },
  {
   "cell_type": "code",
   "execution_count": 1,
   "metadata": {},
   "outputs": [],
   "source": [
    "''' !pip install plotly==4.9.0\n",
    "!pip install jupyterlab \"ipywidgets>=7.5\"\n",
    "!jupyter labextension install jupyterlab-plotly@4.9.0\n",
    "!jupyter labextension install @jupyter-widgets/jupyterlab-manager plotlywidget@4.9.0\n",
    "!jupyter lab build '''\n",
    "\n",
    "import plotly.graph_objects as go\n",
    "import pandas as pd\n",
    "import numpy as np\n",
    "import seaborn as sns\n",
    "import matplotlib.pyplot as plt\n",
    "import plotly.graph_objects as go\n",
    "from sklearn.cluster import KMeans"
   ]
  },
  {
   "cell_type": "markdown",
   "metadata": {},
   "source": [
    "# 2. Concaténer tous les dataframes d'Avril à Septembre."
   ]
  },
  {
   "cell_type": "code",
   "execution_count": 2,
   "metadata": {},
   "outputs": [
    {
     "data": {
      "text/html": [
       "<div>\n",
       "<style scoped>\n",
       "    .dataframe tbody tr th:only-of-type {\n",
       "        vertical-align: middle;\n",
       "    }\n",
       "\n",
       "    .dataframe tbody tr th {\n",
       "        vertical-align: top;\n",
       "    }\n",
       "\n",
       "    .dataframe thead th {\n",
       "        text-align: right;\n",
       "    }\n",
       "</style>\n",
       "<table border=\"1\" class=\"dataframe\">\n",
       "  <thead>\n",
       "    <tr style=\"text-align: right;\">\n",
       "      <th></th>\n",
       "      <th>Date/Time</th>\n",
       "      <th>Lat</th>\n",
       "      <th>Lon</th>\n",
       "      <th>Base</th>\n",
       "    </tr>\n",
       "  </thead>\n",
       "  <tbody>\n",
       "    <tr>\n",
       "      <th>0</th>\n",
       "      <td>4/1/2014 0:11:00</td>\n",
       "      <td>40.7690</td>\n",
       "      <td>-73.9549</td>\n",
       "      <td>B02512</td>\n",
       "    </tr>\n",
       "    <tr>\n",
       "      <th>1</th>\n",
       "      <td>4/1/2014 0:17:00</td>\n",
       "      <td>40.7267</td>\n",
       "      <td>-74.0345</td>\n",
       "      <td>B02512</td>\n",
       "    </tr>\n",
       "    <tr>\n",
       "      <th>2</th>\n",
       "      <td>4/1/2014 0:21:00</td>\n",
       "      <td>40.7316</td>\n",
       "      <td>-73.9873</td>\n",
       "      <td>B02512</td>\n",
       "    </tr>\n",
       "    <tr>\n",
       "      <th>3</th>\n",
       "      <td>4/1/2014 0:28:00</td>\n",
       "      <td>40.7588</td>\n",
       "      <td>-73.9776</td>\n",
       "      <td>B02512</td>\n",
       "    </tr>\n",
       "    <tr>\n",
       "      <th>4</th>\n",
       "      <td>4/1/2014 0:33:00</td>\n",
       "      <td>40.7594</td>\n",
       "      <td>-73.9722</td>\n",
       "      <td>B02512</td>\n",
       "    </tr>\n",
       "  </tbody>\n",
       "</table>\n",
       "</div>"
      ],
      "text/plain": [
       "          Date/Time      Lat      Lon    Base\n",
       "0  4/1/2014 0:11:00  40.7690 -73.9549  B02512\n",
       "1  4/1/2014 0:17:00  40.7267 -74.0345  B02512\n",
       "2  4/1/2014 0:21:00  40.7316 -73.9873  B02512\n",
       "3  4/1/2014 0:28:00  40.7588 -73.9776  B02512\n",
       "4  4/1/2014 0:33:00  40.7594 -73.9722  B02512"
      ]
     },
     "execution_count": 2,
     "metadata": {},
     "output_type": "execute_result"
    }
   ],
   "source": [
    "months = ['apr','may', 'jun', 'jul', 'aug', 'sep']\n",
    "\n",
    "# Shared file path\n",
    "raw_fp = 'uber-raw-data-{}14.csv'\n",
    "\n",
    "# Read and concatenate pickup data\n",
    "dataset = pd.DataFrame()\n",
    "for month in months:\n",
    "    month_df = pd.read_csv(raw_fp.format(month))\n",
    "    dataset = pd.concat([dataset, month_df])\n",
    "    \n",
    "dataset.head()"
   ]
  },
  {
   "cell_type": "code",
   "execution_count": 3,
   "metadata": {},
   "outputs": [
    {
     "data": {
      "text/plain": [
       "(4534327, 4)"
      ]
     },
     "execution_count": 3,
     "metadata": {},
     "output_type": "execute_result"
    }
   ],
   "source": [
    "dataset.shape"
   ]
  },
  {
   "cell_type": "code",
   "execution_count": 4,
   "metadata": {},
   "outputs": [
    {
     "data": {
      "text/html": [
       "<div>\n",
       "<style scoped>\n",
       "    .dataframe tbody tr th:only-of-type {\n",
       "        vertical-align: middle;\n",
       "    }\n",
       "\n",
       "    .dataframe tbody tr th {\n",
       "        vertical-align: top;\n",
       "    }\n",
       "\n",
       "    .dataframe thead th {\n",
       "        text-align: right;\n",
       "    }\n",
       "</style>\n",
       "<table border=\"1\" class=\"dataframe\">\n",
       "  <thead>\n",
       "    <tr style=\"text-align: right;\">\n",
       "      <th></th>\n",
       "      <th>Date/Time</th>\n",
       "      <th>Lat</th>\n",
       "      <th>Lon</th>\n",
       "      <th>Base</th>\n",
       "    </tr>\n",
       "  </thead>\n",
       "  <tbody>\n",
       "    <tr>\n",
       "      <th>count</th>\n",
       "      <td>4534327</td>\n",
       "      <td>4.534327e+06</td>\n",
       "      <td>4.534327e+06</td>\n",
       "      <td>4534327</td>\n",
       "    </tr>\n",
       "    <tr>\n",
       "      <th>unique</th>\n",
       "      <td>260093</td>\n",
       "      <td>NaN</td>\n",
       "      <td>NaN</td>\n",
       "      <td>5</td>\n",
       "    </tr>\n",
       "    <tr>\n",
       "      <th>top</th>\n",
       "      <td>4/7/2014 20:21:00</td>\n",
       "      <td>NaN</td>\n",
       "      <td>NaN</td>\n",
       "      <td>B02617</td>\n",
       "    </tr>\n",
       "    <tr>\n",
       "      <th>freq</th>\n",
       "      <td>97</td>\n",
       "      <td>NaN</td>\n",
       "      <td>NaN</td>\n",
       "      <td>1458853</td>\n",
       "    </tr>\n",
       "    <tr>\n",
       "      <th>mean</th>\n",
       "      <td>NaN</td>\n",
       "      <td>4.073926e+01</td>\n",
       "      <td>-7.397302e+01</td>\n",
       "      <td>NaN</td>\n",
       "    </tr>\n",
       "    <tr>\n",
       "      <th>std</th>\n",
       "      <td>NaN</td>\n",
       "      <td>3.994991e-02</td>\n",
       "      <td>5.726670e-02</td>\n",
       "      <td>NaN</td>\n",
       "    </tr>\n",
       "    <tr>\n",
       "      <th>min</th>\n",
       "      <td>NaN</td>\n",
       "      <td>3.965690e+01</td>\n",
       "      <td>-7.492900e+01</td>\n",
       "      <td>NaN</td>\n",
       "    </tr>\n",
       "    <tr>\n",
       "      <th>25%</th>\n",
       "      <td>NaN</td>\n",
       "      <td>4.072110e+01</td>\n",
       "      <td>-7.399650e+01</td>\n",
       "      <td>NaN</td>\n",
       "    </tr>\n",
       "    <tr>\n",
       "      <th>50%</th>\n",
       "      <td>NaN</td>\n",
       "      <td>4.074220e+01</td>\n",
       "      <td>-7.398340e+01</td>\n",
       "      <td>NaN</td>\n",
       "    </tr>\n",
       "    <tr>\n",
       "      <th>75%</th>\n",
       "      <td>NaN</td>\n",
       "      <td>4.076100e+01</td>\n",
       "      <td>-7.396530e+01</td>\n",
       "      <td>NaN</td>\n",
       "    </tr>\n",
       "    <tr>\n",
       "      <th>max</th>\n",
       "      <td>NaN</td>\n",
       "      <td>4.211660e+01</td>\n",
       "      <td>-7.206660e+01</td>\n",
       "      <td>NaN</td>\n",
       "    </tr>\n",
       "  </tbody>\n",
       "</table>\n",
       "</div>"
      ],
      "text/plain": [
       "                Date/Time           Lat           Lon     Base\n",
       "count             4534327  4.534327e+06  4.534327e+06  4534327\n",
       "unique             260093           NaN           NaN        5\n",
       "top     4/7/2014 20:21:00           NaN           NaN   B02617\n",
       "freq                   97           NaN           NaN  1458853\n",
       "mean                  NaN  4.073926e+01 -7.397302e+01      NaN\n",
       "std                   NaN  3.994991e-02  5.726670e-02      NaN\n",
       "min                   NaN  3.965690e+01 -7.492900e+01      NaN\n",
       "25%                   NaN  4.072110e+01 -7.399650e+01      NaN\n",
       "50%                   NaN  4.074220e+01 -7.398340e+01      NaN\n",
       "75%                   NaN  4.076100e+01 -7.396530e+01      NaN\n",
       "max                   NaN  4.211660e+01 -7.206660e+01      NaN"
      ]
     },
     "execution_count": 4,
     "metadata": {},
     "output_type": "execute_result"
    }
   ],
   "source": [
    "dataset.describe(include='all')"
   ]
  },
  {
   "cell_type": "markdown",
   "metadata": {},
   "source": [
    "# 3. Créer une copie de la data."
   ]
  },
  {
   "cell_type": "code",
   "execution_count": 5,
   "metadata": {},
   "outputs": [],
   "source": [
    "dataset_1 = dataset"
   ]
  },
  {
   "cell_type": "markdown",
   "metadata": {},
   "source": [
    "# 4. Création des colonnes \"Heure\", \"Jour\", \"Jour_Semaine\" et \"Mois\" de la colonne \"Date/Time\"."
   ]
  },
  {
   "cell_type": "code",
   "execution_count": 6,
   "metadata": {},
   "outputs": [
    {
     "name": "stdout",
     "output_type": "stream",
     "text": [
      "Dropping useless columns...\n",
      "Display of dataset: \n"
     ]
    },
    {
     "data": {
      "text/html": [
       "<div>\n",
       "<style scoped>\n",
       "    .dataframe tbody tr th:only-of-type {\n",
       "        vertical-align: middle;\n",
       "    }\n",
       "\n",
       "    .dataframe tbody tr th {\n",
       "        vertical-align: top;\n",
       "    }\n",
       "\n",
       "    .dataframe thead th {\n",
       "        text-align: right;\n",
       "    }\n",
       "</style>\n",
       "<table border=\"1\" class=\"dataframe\">\n",
       "  <thead>\n",
       "    <tr style=\"text-align: right;\">\n",
       "      <th></th>\n",
       "      <th>Lat</th>\n",
       "      <th>Lon</th>\n",
       "      <th>Heure</th>\n",
       "      <th>Jour</th>\n",
       "      <th>Jour_Semaine</th>\n",
       "      <th>Mois</th>\n",
       "    </tr>\n",
       "  </thead>\n",
       "  <tbody>\n",
       "    <tr>\n",
       "      <th>0</th>\n",
       "      <td>40.7690</td>\n",
       "      <td>-73.9549</td>\n",
       "      <td>0</td>\n",
       "      <td>1</td>\n",
       "      <td>1</td>\n",
       "      <td>4</td>\n",
       "    </tr>\n",
       "    <tr>\n",
       "      <th>1</th>\n",
       "      <td>40.7267</td>\n",
       "      <td>-74.0345</td>\n",
       "      <td>0</td>\n",
       "      <td>1</td>\n",
       "      <td>1</td>\n",
       "      <td>4</td>\n",
       "    </tr>\n",
       "    <tr>\n",
       "      <th>2</th>\n",
       "      <td>40.7316</td>\n",
       "      <td>-73.9873</td>\n",
       "      <td>0</td>\n",
       "      <td>1</td>\n",
       "      <td>1</td>\n",
       "      <td>4</td>\n",
       "    </tr>\n",
       "    <tr>\n",
       "      <th>3</th>\n",
       "      <td>40.7588</td>\n",
       "      <td>-73.9776</td>\n",
       "      <td>0</td>\n",
       "      <td>1</td>\n",
       "      <td>1</td>\n",
       "      <td>4</td>\n",
       "    </tr>\n",
       "    <tr>\n",
       "      <th>4</th>\n",
       "      <td>40.7594</td>\n",
       "      <td>-73.9722</td>\n",
       "      <td>0</td>\n",
       "      <td>1</td>\n",
       "      <td>1</td>\n",
       "      <td>4</td>\n",
       "    </tr>\n",
       "  </tbody>\n",
       "</table>\n",
       "</div>"
      ],
      "text/plain": [
       "       Lat      Lon  Heure  Jour  Jour_Semaine  Mois\n",
       "0  40.7690 -73.9549      0     1             1     4\n",
       "1  40.7267 -74.0345      0     1             1     4\n",
       "2  40.7316 -73.9873      0     1             1     4\n",
       "3  40.7588 -73.9776      0     1             1     4\n",
       "4  40.7594 -73.9722      0     1             1     4"
      ]
     },
     "metadata": {},
     "output_type": "display_data"
    },
    {
     "name": "stdout",
     "output_type": "stream",
     "text": [
      "\n"
     ]
    }
   ],
   "source": [
    "useless_cols = ['Base']\n",
    "\n",
    "print(\"Dropping useless columns...\")\n",
    "dataset_1 = dataset_1.drop(useless_cols, axis=1)                            # suprimer la colonne Basse \n",
    "dataset_1[\"Date/Time\"] = pd.to_datetime(dataset_1[\"Date/Time\"])             # transformer datetime \n",
    "dataset_1['Heure'] = dataset_1['Date/Time'].dt.hour                         # récuperation de l'heure\n",
    "dataset_1['Jour'] = dataset_1['Date/Time'].dt.day                           # récuperation du jour\n",
    "dataset_1['Jour_Semaine'] = dataset_1['Date/Time'].dt.dayofweek             # récuperation du jour de la semaine\n",
    "dataset_1['Mois'] = dataset_1['Date/Time'].dt.month                         # récuperation du mois \n",
    "\n",
    "supri_col = ['Date/Time']\n",
    "dataset_1 = dataset_1.drop(supri_col, axis=1)                               # puis suprimmé la colonne Date/Time une fois les info récupérer\n",
    "\n",
    "print(\"Display of dataset: \")\n",
    "display(dataset_1.head())\n",
    "print()"
   ]
  },
  {
   "cell_type": "markdown",
   "metadata": {},
   "source": [
    "# 5. Identification des variables voulues."
   ]
  },
  {
   "cell_type": "code",
   "execution_count": 7,
   "metadata": {},
   "outputs": [],
   "source": [
    "Test1 = ['Lat', 'Lon', 'Heure', 'Jour', 'Jour_Semaine', 'Mois']\n",
    "dataset_Test1 = dataset_1[Test1]"
   ]
  },
  {
   "cell_type": "markdown",
   "metadata": {},
   "source": [
    "## - Renommer les variables (\"Mois\" et \"Jour_Semaine\") par leurs vrais noms pour pouvoir faire mes visualisations."
   ]
  },
  {
   "cell_type": "code",
   "execution_count": 8,
   "metadata": {},
   "outputs": [],
   "source": [
    "Mois_map = {\n",
    "    4: 'Avril',\n",
    "    5: 'Mai',\n",
    "    6: 'Juin', \n",
    "    7: 'Juillet',\n",
    "    8: 'Aout',\n",
    "    9: 'Septembre'\n",
    "}\n",
    "\n",
    "dataset_Test1['Mois'] = dataset_1['Mois'].replace(Mois_map)\n",
    "\n",
    "# Map weekday\n",
    "Jour_map = {\n",
    "    0: 'Lundi',\n",
    "    1: 'Mardi',\n",
    "    2: 'Mercredi',\n",
    "    3: 'Jeudi', \n",
    "    4: 'Vendredi', \n",
    "    5: 'Samedi',\n",
    "    6: 'Dimanche'\n",
    "}\n",
    "\n",
    "dataset_Test1['Jour_Semaine'] = dataset_1['Jour_Semaine'].replace(Jour_map)\n"
   ]
  },
  {
   "cell_type": "code",
   "execution_count": 9,
   "metadata": {},
   "outputs": [
    {
     "data": {
      "text/html": [
       "<div>\n",
       "<style scoped>\n",
       "    .dataframe tbody tr th:only-of-type {\n",
       "        vertical-align: middle;\n",
       "    }\n",
       "\n",
       "    .dataframe tbody tr th {\n",
       "        vertical-align: top;\n",
       "    }\n",
       "\n",
       "    .dataframe thead th {\n",
       "        text-align: right;\n",
       "    }\n",
       "</style>\n",
       "<table border=\"1\" class=\"dataframe\">\n",
       "  <thead>\n",
       "    <tr style=\"text-align: right;\">\n",
       "      <th></th>\n",
       "      <th>Lat</th>\n",
       "      <th>Lon</th>\n",
       "      <th>Heure</th>\n",
       "      <th>Jour</th>\n",
       "      <th>Jour_Semaine</th>\n",
       "      <th>Mois</th>\n",
       "    </tr>\n",
       "  </thead>\n",
       "  <tbody>\n",
       "    <tr>\n",
       "      <th>0</th>\n",
       "      <td>40.7690</td>\n",
       "      <td>-73.9549</td>\n",
       "      <td>0</td>\n",
       "      <td>1</td>\n",
       "      <td>Mardi</td>\n",
       "      <td>Avril</td>\n",
       "    </tr>\n",
       "    <tr>\n",
       "      <th>1</th>\n",
       "      <td>40.7267</td>\n",
       "      <td>-74.0345</td>\n",
       "      <td>0</td>\n",
       "      <td>1</td>\n",
       "      <td>Mardi</td>\n",
       "      <td>Avril</td>\n",
       "    </tr>\n",
       "    <tr>\n",
       "      <th>2</th>\n",
       "      <td>40.7316</td>\n",
       "      <td>-73.9873</td>\n",
       "      <td>0</td>\n",
       "      <td>1</td>\n",
       "      <td>Mardi</td>\n",
       "      <td>Avril</td>\n",
       "    </tr>\n",
       "    <tr>\n",
       "      <th>3</th>\n",
       "      <td>40.7588</td>\n",
       "      <td>-73.9776</td>\n",
       "      <td>0</td>\n",
       "      <td>1</td>\n",
       "      <td>Mardi</td>\n",
       "      <td>Avril</td>\n",
       "    </tr>\n",
       "    <tr>\n",
       "      <th>4</th>\n",
       "      <td>40.7594</td>\n",
       "      <td>-73.9722</td>\n",
       "      <td>0</td>\n",
       "      <td>1</td>\n",
       "      <td>Mardi</td>\n",
       "      <td>Avril</td>\n",
       "    </tr>\n",
       "    <tr>\n",
       "      <th>...</th>\n",
       "      <td>...</td>\n",
       "      <td>...</td>\n",
       "      <td>...</td>\n",
       "      <td>...</td>\n",
       "      <td>...</td>\n",
       "      <td>...</td>\n",
       "    </tr>\n",
       "    <tr>\n",
       "      <th>1028131</th>\n",
       "      <td>40.7668</td>\n",
       "      <td>-73.9845</td>\n",
       "      <td>22</td>\n",
       "      <td>30</td>\n",
       "      <td>Mardi</td>\n",
       "      <td>Septembre</td>\n",
       "    </tr>\n",
       "    <tr>\n",
       "      <th>1028132</th>\n",
       "      <td>40.6911</td>\n",
       "      <td>-74.1773</td>\n",
       "      <td>22</td>\n",
       "      <td>30</td>\n",
       "      <td>Mardi</td>\n",
       "      <td>Septembre</td>\n",
       "    </tr>\n",
       "    <tr>\n",
       "      <th>1028133</th>\n",
       "      <td>40.8519</td>\n",
       "      <td>-73.9319</td>\n",
       "      <td>22</td>\n",
       "      <td>30</td>\n",
       "      <td>Mardi</td>\n",
       "      <td>Septembre</td>\n",
       "    </tr>\n",
       "    <tr>\n",
       "      <th>1028134</th>\n",
       "      <td>40.7081</td>\n",
       "      <td>-74.0066</td>\n",
       "      <td>22</td>\n",
       "      <td>30</td>\n",
       "      <td>Mardi</td>\n",
       "      <td>Septembre</td>\n",
       "    </tr>\n",
       "    <tr>\n",
       "      <th>1028135</th>\n",
       "      <td>40.7140</td>\n",
       "      <td>-73.9496</td>\n",
       "      <td>22</td>\n",
       "      <td>30</td>\n",
       "      <td>Mardi</td>\n",
       "      <td>Septembre</td>\n",
       "    </tr>\n",
       "  </tbody>\n",
       "</table>\n",
       "<p>4534327 rows × 6 columns</p>\n",
       "</div>"
      ],
      "text/plain": [
       "             Lat      Lon  Heure  Jour Jour_Semaine       Mois\n",
       "0        40.7690 -73.9549      0     1        Mardi      Avril\n",
       "1        40.7267 -74.0345      0     1        Mardi      Avril\n",
       "2        40.7316 -73.9873      0     1        Mardi      Avril\n",
       "3        40.7588 -73.9776      0     1        Mardi      Avril\n",
       "4        40.7594 -73.9722      0     1        Mardi      Avril\n",
       "...          ...      ...    ...   ...          ...        ...\n",
       "1028131  40.7668 -73.9845     22    30        Mardi  Septembre\n",
       "1028132  40.6911 -74.1773     22    30        Mardi  Septembre\n",
       "1028133  40.8519 -73.9319     22    30        Mardi  Septembre\n",
       "1028134  40.7081 -74.0066     22    30        Mardi  Septembre\n",
       "1028135  40.7140 -73.9496     22    30        Mardi  Septembre\n",
       "\n",
       "[4534327 rows x 6 columns]"
      ]
     },
     "execution_count": 9,
     "metadata": {},
     "output_type": "execute_result"
    }
   ],
   "source": [
    "dataset_Test1"
   ]
  },
  {
   "cell_type": "markdown",
   "metadata": {},
   "source": [
    "# 6. Identification du meilleur mois de ramassage pour sélectionner le dataset."
   ]
  },
  {
   "cell_type": "code",
   "execution_count": 10,
   "metadata": {},
   "outputs": [
    {
     "data": {
      "image/png": "[encoded data removed]",
      "text/plain": [
       "<Figure size 432x288 with 1 Axes>"
      ]
     },
     "metadata": {
      "needs_background": "light"
     },
     "output_type": "display_data"
    }
   ],
   "source": [
    "ramassages_mensuel = dataset_Test1['Mois'].value_counts(ascending=True)[Mois_map.values()]\n",
    "\n",
    "ramassages_mensuel.plot(kind='bar', rot=0)\n",
    "plt.title('Ramassages Par Mois Uber')\n",
    "plt.xlabel('Mois')\n",
    "plt.ylabel('# Ramassages (Millions)');"
   ]
  },
  {
   "cell_type": "markdown",
   "metadata": {},
   "source": [
    "### On constate que les ramassages Uber sont plus importants pendant le mois de septembre."
   ]
  },
  {
   "cell_type": "markdown",
   "metadata": {},
   "source": [
    "## 6.1 Identification des meilleurs jours de ramassage."
   ]
  },
  {
   "cell_type": "code",
   "execution_count": 11,
   "metadata": {},
   "outputs": [
    {
     "data": {
      "image/png": "[encoded data removed]",
      "text/plain": [
       "<Figure size 432x288 with 1 Axes>"
      ]
     },
     "metadata": {
      "needs_background": "light"
     },
     "output_type": "display_data"
    }
   ],
   "source": [
    "ramassages_Jour_Semaine = dataset_Test1['Jour_Semaine'].value_counts()[Jour_map.values()]\n",
    "\n",
    "ramassages_Jour_Semaine.plot(kind='bar', rot=0)\n",
    "plt.title('Ramassages Par Jour De La Semaine Uber')\n",
    "plt.xlabel('Jour De La Semaine')\n",
    "plt.ylabel('# Ramassages');"
   ]
  },
  {
   "cell_type": "markdown",
   "metadata": {
    "tags": []
   },
   "source": [
    "### Le graphique montre que les ramassages Uber sont plus importants les Jeudis et Vendredis."
   ]
  },
  {
   "cell_type": "markdown",
   "metadata": {},
   "source": [
    "## 6.2 Identification de la journée où il y a eu le plus de ramassage en septembre pour éventuelement travailler dessus."
   ]
  },
  {
   "cell_type": "code",
   "execution_count": 12,
   "metadata": {},
   "outputs": [
    {
     "name": "stdout",
     "output_type": "stream",
     "text": [
      "Journée la plus chargée: (13, 'Septembre')\n",
      "Nombre de ramassages: 43205\n"
     ]
    }
   ],
   "source": [
    "ramassage_quotidien = dataset_Test1.groupby(['Jour', 'Mois'])['Heure'].count()\n",
    "print('Journée la plus chargée: {}'.format(ramassage_quotidien.idxmax()))\n",
    "print('Nombre de ramassages: {}'.format(ramassage_quotidien.max()))"
   ]
  },
  {
   "cell_type": "markdown",
   "metadata": {},
   "source": [
    "### Le jour où il y a eu le plus de ramassage au mois de septembre 2014 est le Samedi 13 Septembre avec plus de 40923 ramassages."
   ]
  },
  {
   "cell_type": "markdown",
   "metadata": {},
   "source": [
    "## 6.3 Identification des heures d'affluence où le ramassage est très important."
   ]
  },
  {
   "cell_type": "code",
   "execution_count": 13,
   "metadata": {},
   "outputs": [
    {
     "name": "stderr",
     "output_type": "stream",
     "text": [
      "/opt/conda/lib/python3.9/site-packages/seaborn/_decorators.py:36: FutureWarning: Pass the following variable as a keyword arg: x. From version 0.12, the only valid positional argument will be `data`, and passing other arguments without an explicit keyword will result in an error or misinterpretation.\n",
      "  warnings.warn(\n"
     ]
    },
    {
     "data": {
      "text/plain": [
       "Text(0.5, 1.0, 'Rush dans New York City')"
      ]
     },
     "execution_count": 13,
     "metadata": {},
     "output_type": "execute_result"
    },
    {
     "data": {
      "image/png": "[encoded data removed]",
      "text/plain": [
       "<Figure size 864x432 with 1 Axes>"
      ]
     },
     "metadata": {
      "needs_background": "light"
     },
     "output_type": "display_data"
    }
   ],
   "source": [
    "plt.figure(figsize=(12,6))\n",
    "sns.countplot(dataset_Test1['Heure'])\n",
    "plt.title(\"Rush dans New York City\")"
   ]
  },
  {
   "cell_type": "markdown",
   "metadata": {},
   "source": [
    "## La figure ci-dessus montre que les ramassages Uber sont plus importants dans la ville de New York, le samedi 13 septembre, entre 14 et 22 heures."
   ]
  },
  {
   "cell_type": "markdown",
   "metadata": {},
   "source": [
    "## - Regroupement des données sur la base des jours de la semaine et des heures avec une carte thermique pour voir la densité."
   ]
  },
  {
   "cell_type": "code",
   "execution_count": 14,
   "metadata": {},
   "outputs": [
    {
     "data": {
      "image/png": "[encoded data removed]",
      "text/plain": [
       "<Figure size 864x216 with 2 Axes>"
      ]
     },
     "metadata": {
      "needs_background": "light"
     },
     "output_type": "display_data"
    }
   ],
   "source": [
    "\n",
    "gouper_jour_heure = dataset_Test1.groupby(['Jour_Semaine','Heure'])['Heure'].count().unstack()\n",
    "plt.figure(figsize=(12,3))\n",
    "sns.heatmap(gouper_jour_heure.iloc[[2,3,4,1,6,5,0]],\n",
    "            cmap='rocket_r',\n",
    "            linewidths=0.5,\n",
    "            linecolor='white')\n",
    "\n",
    "# rotaion de l'axe y\n",
    "\n",
    "plt.yticks(rotation=0)\n",
    "\n",
    "# supprimer l'étiquette x et y\n",
    "\n",
    "plt.xlabel(None)\n",
    "plt.ylabel(None)\n",
    "plt.title('Rush : Jours de la semaine vs Heures');"
   ]
  },
  {
   "cell_type": "markdown",
   "metadata": {},
   "source": [
    "## La carte thermique montre que les ramassage Uber sont plus importants entre de 14h à 22 heures les jours de la semaine."
   ]
  },
  {
   "cell_type": "markdown",
   "metadata": {},
   "source": [
    "## En tirant les conclusions de l'analyse ci-dessus, nous pouvons affirmer que:\n",
    "## - Le mois de septembre 2014 a connu le plus grand nombre de ramassage.\n",
    "## - C'est entre 14 et 22 heures qu'il y a eu le plus de trajets. En d'autres termes, les ramassages étaient importants dans cette tranche horaire.\n",
    "## - Les jeudis et les vendredis ont enregistré le plus grand nombre de ramassage par rapport aux autres jours.\n",
    "## - Du lundi au vendredi, entre minuit et 4 heures, le nombre de ramassage était le plus faible."
   ]
  },
  {
   "cell_type": "code",
   "execution_count": null,
   "metadata": {},
   "outputs": [],
   "source": []
  },
  {
   "cell_type": "markdown",
   "metadata": {},
   "source": [
    "# 7. Détermination et description des zones chaudes\n",
    "\n",
    "## - Considérons le jour 'Samedi 13', du mois de 'Septembre', le plus fréquenté avec 43 000 ramassage pour travailler."
   ]
  },
  {
   "cell_type": "code",
   "execution_count": 15,
   "metadata": {},
   "outputs": [
    {
     "data": {
      "text/html": [
       "<div>\n",
       "<style scoped>\n",
       "    .dataframe tbody tr th:only-of-type {\n",
       "        vertical-align: middle;\n",
       "    }\n",
       "\n",
       "    .dataframe tbody tr th {\n",
       "        vertical-align: top;\n",
       "    }\n",
       "\n",
       "    .dataframe thead th {\n",
       "        text-align: right;\n",
       "    }\n",
       "</style>\n",
       "<table border=\"1\" class=\"dataframe\">\n",
       "  <thead>\n",
       "    <tr style=\"text-align: right;\">\n",
       "      <th></th>\n",
       "      <th>Lat</th>\n",
       "      <th>Lon</th>\n",
       "      <th>Heure</th>\n",
       "      <th>Jour</th>\n",
       "      <th>Jour_Semaine</th>\n",
       "      <th>Mois</th>\n",
       "    </tr>\n",
       "  </thead>\n",
       "  <tbody>\n",
       "    <tr>\n",
       "      <th>15762</th>\n",
       "      <td>40.7228</td>\n",
       "      <td>-74.0045</td>\n",
       "      <td>0</td>\n",
       "      <td>13</td>\n",
       "      <td>Samedi</td>\n",
       "      <td>Septembre</td>\n",
       "    </tr>\n",
       "    <tr>\n",
       "      <th>15763</th>\n",
       "      <td>40.7618</td>\n",
       "      <td>-73.9940</td>\n",
       "      <td>0</td>\n",
       "      <td>13</td>\n",
       "      <td>Samedi</td>\n",
       "      <td>Septembre</td>\n",
       "    </tr>\n",
       "    <tr>\n",
       "      <th>15764</th>\n",
       "      <td>40.7505</td>\n",
       "      <td>-74.0031</td>\n",
       "      <td>0</td>\n",
       "      <td>13</td>\n",
       "      <td>Samedi</td>\n",
       "      <td>Septembre</td>\n",
       "    </tr>\n",
       "    <tr>\n",
       "      <th>15765</th>\n",
       "      <td>40.7418</td>\n",
       "      <td>-73.9972</td>\n",
       "      <td>0</td>\n",
       "      <td>13</td>\n",
       "      <td>Samedi</td>\n",
       "      <td>Septembre</td>\n",
       "    </tr>\n",
       "    <tr>\n",
       "      <th>15766</th>\n",
       "      <td>40.7092</td>\n",
       "      <td>-74.0132</td>\n",
       "      <td>0</td>\n",
       "      <td>13</td>\n",
       "      <td>Samedi</td>\n",
       "      <td>Septembre</td>\n",
       "    </tr>\n",
       "    <tr>\n",
       "      <th>...</th>\n",
       "      <td>...</td>\n",
       "      <td>...</td>\n",
       "      <td>...</td>\n",
       "      <td>...</td>\n",
       "      <td>...</td>\n",
       "      <td>...</td>\n",
       "    </tr>\n",
       "    <tr>\n",
       "      <th>912695</th>\n",
       "      <td>40.7521</td>\n",
       "      <td>-73.9853</td>\n",
       "      <td>23</td>\n",
       "      <td>13</td>\n",
       "      <td>Samedi</td>\n",
       "      <td>Septembre</td>\n",
       "    </tr>\n",
       "    <tr>\n",
       "      <th>912696</th>\n",
       "      <td>40.7622</td>\n",
       "      <td>-73.9899</td>\n",
       "      <td>23</td>\n",
       "      <td>13</td>\n",
       "      <td>Samedi</td>\n",
       "      <td>Septembre</td>\n",
       "    </tr>\n",
       "    <tr>\n",
       "      <th>912697</th>\n",
       "      <td>40.7159</td>\n",
       "      <td>-74.0085</td>\n",
       "      <td>23</td>\n",
       "      <td>13</td>\n",
       "      <td>Samedi</td>\n",
       "      <td>Septembre</td>\n",
       "    </tr>\n",
       "    <tr>\n",
       "      <th>912698</th>\n",
       "      <td>40.7810</td>\n",
       "      <td>-73.9762</td>\n",
       "      <td>23</td>\n",
       "      <td>13</td>\n",
       "      <td>Samedi</td>\n",
       "      <td>Septembre</td>\n",
       "    </tr>\n",
       "    <tr>\n",
       "      <th>912699</th>\n",
       "      <td>40.7494</td>\n",
       "      <td>-73.9838</td>\n",
       "      <td>23</td>\n",
       "      <td>13</td>\n",
       "      <td>Samedi</td>\n",
       "      <td>Septembre</td>\n",
       "    </tr>\n",
       "  </tbody>\n",
       "</table>\n",
       "<p>43205 rows × 6 columns</p>\n",
       "</div>"
      ],
      "text/plain": [
       "            Lat      Lon  Heure  Jour Jour_Semaine       Mois\n",
       "15762   40.7228 -74.0045      0    13       Samedi  Septembre\n",
       "15763   40.7618 -73.9940      0    13       Samedi  Septembre\n",
       "15764   40.7505 -74.0031      0    13       Samedi  Septembre\n",
       "15765   40.7418 -73.9972      0    13       Samedi  Septembre\n",
       "15766   40.7092 -74.0132      0    13       Samedi  Septembre\n",
       "...         ...      ...    ...   ...          ...        ...\n",
       "912695  40.7521 -73.9853     23    13       Samedi  Septembre\n",
       "912696  40.7622 -73.9899     23    13       Samedi  Septembre\n",
       "912697  40.7159 -74.0085     23    13       Samedi  Septembre\n",
       "912698  40.7810 -73.9762     23    13       Samedi  Septembre\n",
       "912699  40.7494 -73.9838     23    13       Samedi  Septembre\n",
       "\n",
       "[43205 rows x 6 columns]"
      ]
     },
     "execution_count": 15,
     "metadata": {},
     "output_type": "execute_result"
    }
   ],
   "source": [
    "jour_freq = dataset_Test1[\n",
    "    (dataset_Test1['Mois'] == 'Septembre') & (dataset_Test1['Jour'] == 13)]\n",
    "jour_freq"
   ]
  },
  {
   "cell_type": "markdown",
   "metadata": {},
   "source": [
    "## - Mettre de coté les catégoriels."
   ]
  },
  {
   "cell_type": "code",
   "execution_count": 16,
   "metadata": {},
   "outputs": [],
   "source": [
    "#On selectionne uniquement les colonnes pertinentes\n",
    "Test1 = ['Lat', 'Lon', 'Heure']\n",
    "jour_freq = jour_freq[Test1]"
   ]
  },
  {
   "cell_type": "code",
   "execution_count": 17,
   "metadata": {},
   "outputs": [
    {
     "data": {
      "text/html": [
       "<div>\n",
       "<style scoped>\n",
       "    .dataframe tbody tr th:only-of-type {\n",
       "        vertical-align: middle;\n",
       "    }\n",
       "\n",
       "    .dataframe tbody tr th {\n",
       "        vertical-align: top;\n",
       "    }\n",
       "\n",
       "    .dataframe thead th {\n",
       "        text-align: right;\n",
       "    }\n",
       "</style>\n",
       "<table border=\"1\" class=\"dataframe\">\n",
       "  <thead>\n",
       "    <tr style=\"text-align: right;\">\n",
       "      <th></th>\n",
       "      <th>Lat</th>\n",
       "      <th>Lon</th>\n",
       "      <th>Heure</th>\n",
       "    </tr>\n",
       "  </thead>\n",
       "  <tbody>\n",
       "    <tr>\n",
       "      <th>15762</th>\n",
       "      <td>40.7228</td>\n",
       "      <td>-74.0045</td>\n",
       "      <td>0</td>\n",
       "    </tr>\n",
       "    <tr>\n",
       "      <th>15763</th>\n",
       "      <td>40.7618</td>\n",
       "      <td>-73.9940</td>\n",
       "      <td>0</td>\n",
       "    </tr>\n",
       "    <tr>\n",
       "      <th>15764</th>\n",
       "      <td>40.7505</td>\n",
       "      <td>-74.0031</td>\n",
       "      <td>0</td>\n",
       "    </tr>\n",
       "    <tr>\n",
       "      <th>15765</th>\n",
       "      <td>40.7418</td>\n",
       "      <td>-73.9972</td>\n",
       "      <td>0</td>\n",
       "    </tr>\n",
       "    <tr>\n",
       "      <th>15766</th>\n",
       "      <td>40.7092</td>\n",
       "      <td>-74.0132</td>\n",
       "      <td>0</td>\n",
       "    </tr>\n",
       "    <tr>\n",
       "      <th>...</th>\n",
       "      <td>...</td>\n",
       "      <td>...</td>\n",
       "      <td>...</td>\n",
       "    </tr>\n",
       "    <tr>\n",
       "      <th>912695</th>\n",
       "      <td>40.7521</td>\n",
       "      <td>-73.9853</td>\n",
       "      <td>23</td>\n",
       "    </tr>\n",
       "    <tr>\n",
       "      <th>912696</th>\n",
       "      <td>40.7622</td>\n",
       "      <td>-73.9899</td>\n",
       "      <td>23</td>\n",
       "    </tr>\n",
       "    <tr>\n",
       "      <th>912697</th>\n",
       "      <td>40.7159</td>\n",
       "      <td>-74.0085</td>\n",
       "      <td>23</td>\n",
       "    </tr>\n",
       "    <tr>\n",
       "      <th>912698</th>\n",
       "      <td>40.7810</td>\n",
       "      <td>-73.9762</td>\n",
       "      <td>23</td>\n",
       "    </tr>\n",
       "    <tr>\n",
       "      <th>912699</th>\n",
       "      <td>40.7494</td>\n",
       "      <td>-73.9838</td>\n",
       "      <td>23</td>\n",
       "    </tr>\n",
       "  </tbody>\n",
       "</table>\n",
       "<p>43205 rows × 3 columns</p>\n",
       "</div>"
      ],
      "text/plain": [
       "            Lat      Lon  Heure\n",
       "15762   40.7228 -74.0045      0\n",
       "15763   40.7618 -73.9940      0\n",
       "15764   40.7505 -74.0031      0\n",
       "15765   40.7418 -73.9972      0\n",
       "15766   40.7092 -74.0132      0\n",
       "...         ...      ...    ...\n",
       "912695  40.7521 -73.9853     23\n",
       "912696  40.7622 -73.9899     23\n",
       "912697  40.7159 -74.0085     23\n",
       "912698  40.7810 -73.9762     23\n",
       "912699  40.7494 -73.9838     23\n",
       "\n",
       "[43205 rows x 3 columns]"
      ]
     },
     "execution_count": 17,
     "metadata": {},
     "output_type": "execute_result"
    }
   ],
   "source": [
    "jour_freq"
   ]
  },
  {
   "cell_type": "markdown",
   "metadata": {},
   "source": [
    "# 7.1 Premier model avec la Méthode kmeans."
   ]
  },
  {
   "cell_type": "code",
   "execution_count": 18,
   "metadata": {},
   "outputs": [],
   "source": [
    "from sklearn.preprocessing import  OneHotEncoder, StandardScaler"
   ]
  },
  {
   "cell_type": "markdown",
   "metadata": {},
   "source": [
    "## - preprocessing du dataset."
   ]
  },
  {
   "cell_type": "code",
   "execution_count": 19,
   "metadata": {},
   "outputs": [
    {
     "data": {
      "text/plain": [
       "array([[-0.34764359, -0.55067873, -2.31846281],\n",
       "       [ 0.59401888, -0.35745696, -2.31846281],\n",
       "       [ 0.32117821, -0.52491583, -2.31846281],\n",
       "       [ 0.11111505, -0.41634359, -2.31846281],\n",
       "       [-0.67601819, -0.71077678, -2.31846281]])"
      ]
     },
     "execution_count": 19,
     "metadata": {},
     "output_type": "execute_result"
    }
   ],
   "source": [
    "X = jour_freq\n",
    "sc = StandardScaler()\n",
    "X = sc.fit_transform(X)\n",
    "X[:5]"
   ]
  },
  {
   "cell_type": "code",
   "execution_count": 20,
   "metadata": {},
   "outputs": [
    {
     "data": {
      "text/plain": [
       "KMeans(n_clusters=7, random_state=0)"
      ]
     },
     "execution_count": 20,
     "metadata": {},
     "output_type": "execute_result"
    }
   ],
   "source": [
    "kmeans = KMeans(n_clusters=7, random_state=0)  # fixer le nombre K aléatoirment \n",
    "kmeans.fit(X)"
   ]
  },
  {
   "cell_type": "code",
   "execution_count": 21,
   "metadata": {},
   "outputs": [
    {
     "name": "stdout",
     "output_type": "stream",
     "text": [
      "wcss for k=1 --> 129614.9999999999\n",
      "wcss for k=2 --> 98890.838855773\n",
      "wcss for k=3 --> 78846.19950187544\n",
      "wcss for k=4 --> 63096.9728019275\n",
      "wcss for k=5 --> 54822.94025294109\n",
      "wcss for k=6 --> 49120.39359117541\n",
      "wcss for k=7 --> 43257.38183783718\n",
      "wcss for k=8 --> 38620.531195181546\n",
      "wcss for k=9 --> 35055.51235904034\n",
      "wcss for k=10 --> 32120.422435805835\n"
     ]
    }
   ],
   "source": [
    "# Création une boucle qui collectera la somme des carrés internes (wcss) pour chaque valeur K \n",
    "# .inertia_ pour obtenir la valeur de la somme des carrés internes pour chaque valeur K.\n",
    "\n",
    "wcss =  []\n",
    "k = []\n",
    "for i in range (1,11): \n",
    "    kmeans = KMeans(n_clusters= i, random_state=0)\n",
    "    kmeans.fit(X)\n",
    "    wcss.append(kmeans.inertia_)\n",
    "    k.append(i)\n",
    "    print(\"wcss for k={} --> {}\".format(i, wcss[-1]))"
   ]
  },
  {
   "cell_type": "code",
   "execution_count": 22,
   "metadata": {},
   "outputs": [],
   "source": [
    "import plotly.express as px\n",
    "import plotly.io as pio\n",
    "pio.renderers.default = \"iframe_connected\""
   ]
  },
  {
   "cell_type": "markdown",
   "metadata": {},
   "source": [
    "## - Création d'un plot pour visualiser l'inertie par cluster pour prendre une décision sur le nombre de clusters optimal."
   ]
  },
  {
   "cell_type": "code",
   "execution_count": 23,
   "metadata": {},
   "outputs": [
    {
     "data": {
      "text/html": [
       "<iframe\n",
       "    scrolling=\"no\"\n",
       "    width=\"100%\"\n",
       "    height=\"545px\"\n",
       "    src=\"iframe_figures/figure_23.html\"\n",
       "    frameborder=\"0\"\n",
       "    allowfullscreen\n",
       "></iframe>\n"
      ]
     },
     "metadata": {},
     "output_type": "display_data"
    }
   ],
   "source": [
    "# Création du DataFrame\n",
    "\n",
    "wcss_frame = pd.DataFrame(wcss)\n",
    "k_frame = pd.Series(k)\n",
    "\n",
    "# Création de la figure \n",
    "\n",
    "fig= px.line(\n",
    "    wcss_frame,\n",
    "    x=k_frame,\n",
    "    y=wcss_frame.iloc[:,-1]\n",
    ")\n",
    "\n",
    "# Création du titre et des étiquettes de mes axes \n",
    "\n",
    "fig.update_layout(\n",
    "    yaxis_title=\"Inertie\",\n",
    "    xaxis_title=\"# Clusters\",\n",
    "    title=\"Inertie par cluster\"\n",
    ")\n",
    "\n",
    "# voir le rendu\n",
    "\n",
    "fig.show(renderer=\"iframe\") # sinon utilise workspace"
   ]
  },
  {
   "cell_type": "markdown",
   "metadata": {},
   "source": [
    "## Le nombre de clusters optimal se situerait entre 5 ET 7 clusters qui ont une inertie plus faible."
   ]
  },
  {
   "cell_type": "code",
   "execution_count": 24,
   "metadata": {},
   "outputs": [],
   "source": [
    "from sklearn.metrics import  silhouette_score"
   ]
  },
  {
   "cell_type": "code",
   "execution_count": 25,
   "metadata": {},
   "outputs": [
    {
     "name": "stdout",
     "output_type": "stream",
     "text": [
      "Silhouette score for K2=2 is 0.3661828632109072\n",
      "Silhouette score for K2=3 is 0.38393398966290837\n",
      "Silhouette score for K2=4 is 0.31242919986941053\n",
      "Silhouette score for K2=5 is 0.3297803380936473\n",
      "Silhouette score for K2=6 is 0.31256233893220564\n",
      "Silhouette score for K2=7 is 0.3196237879042215\n",
      "Silhouette score for K2=8 is 0.3082134001459005\n",
      "Silhouette score for K2=9 is 0.3121670072222899\n",
      "Silhouette score for K2=10 is 0.31111445355096934\n"
     ]
    }
   ],
   "source": [
    "# Compter mean silhouette score\n",
    "\n",
    "s_score = []\n",
    "k2 = []\n",
    "\n",
    "## Attention, on doit commencer à i=2 car la silhouette ne peut accepter moins de 2 cluster (logique).\n",
    "\n",
    "for i in range (2,11): \n",
    "    kmeans = KMeans(n_clusters= i, init = \"k-means++\")\n",
    "    kmeans.fit(X)\n",
    "    s_score.append(silhouette_score(X, kmeans.predict(X)))\n",
    "    k2.append(i)\n",
    "    print(\"Silhouette score for K2={} is {}\".format(i, s_score[-1]))"
   ]
  },
  {
   "cell_type": "markdown",
   "metadata": {},
   "source": [
    "## - Affichage des scores en fonction du nombre de clusters pour trancher sur le nombre de clusters optimal."
   ]
  },
  {
   "cell_type": "code",
   "execution_count": 26,
   "metadata": {},
   "outputs": [
    {
     "data": {
      "text/html": [
       "<iframe\n",
       "    scrolling=\"no\"\n",
       "    width=\"100%\"\n",
       "    height=\"545px\"\n",
       "    src=\"iframe_figures/figure_26.html\"\n",
       "    frameborder=\"0\"\n",
       "    allowfullscreen\n",
       "></iframe>\n"
      ]
     },
     "metadata": {},
     "output_type": "display_data"
    }
   ],
   "source": [
    "# Création du DataFrame \n",
    "\n",
    "cluster_scores=pd.DataFrame(s_score)\n",
    "k_frame = pd.Series(k2)\n",
    "\n",
    "# Création de la figure\n",
    "fig = px.bar(data_frame=cluster_scores,  \n",
    "             x=k2, \n",
    "             y=cluster_scores.iloc[:, -1]\n",
    "            )\n",
    "\n",
    "# Création du titre et des étiquettes de mes axes \n",
    "\n",
    "fig.update_layout(\n",
    "    yaxis_title=\"Score avec Silhouette\",\n",
    "    xaxis_title=\"# Clusters\",\n",
    "    title=\"Score avec Silhouette par cluster\"\n",
    ")\n",
    "\n",
    "# voir le rendu\n",
    "\n",
    "fig.show(renderer=\"iframe\") # sinon utilise workspace"
   ]
  },
  {
   "cell_type": "markdown",
   "metadata": {},
   "source": [
    "## Donc 5 ou 6 clusters sera le nombre optimal à choisir selon les 2 graphiques."
   ]
  },
  {
   "cell_type": "markdown",
   "metadata": {},
   "source": [
    "## - On ré-entraîne un KMeans avec le nombre optimal de clusters."
   ]
  },
  {
   "cell_type": "code",
   "execution_count": 27,
   "metadata": {},
   "outputs": [
    {
     "data": {
      "text/plain": [
       "KMeans(n_clusters=5)"
      ]
     },
     "execution_count": 27,
     "metadata": {},
     "output_type": "execute_result"
    }
   ],
   "source": [
    "kmeans = KMeans(n_clusters= 5)\n",
    "kmeans.fit(X)"
   ]
  },
  {
   "cell_type": "markdown",
   "metadata": {},
   "source": [
    "## - Création d'une nouvelle colonne 'Cluster_KMeans' sur les prédictions de notre jeu de données."
   ]
  },
  {
   "cell_type": "code",
   "execution_count": 28,
   "metadata": {},
   "outputs": [
    {
     "name": "stderr",
     "output_type": "stream",
     "text": [
      "/tmp/ipykernel_125/1606484659.py:1: SettingWithCopyWarning:\n",
      "\n",
      "\n",
      "A value is trying to be set on a copy of a slice from a DataFrame.\n",
      "Try using .loc[row_indexer,col_indexer] = value instead\n",
      "\n",
      "See the caveats in the documentation: https://pandas.pydata.org/pandas-docs/stable/user_guide/indexing.html#returning-a-view-versus-a-copy\n",
      "\n"
     ]
    },
    {
     "data": {
      "text/html": [
       "<div>\n",
       "<style scoped>\n",
       "    .dataframe tbody tr th:only-of-type {\n",
       "        vertical-align: middle;\n",
       "    }\n",
       "\n",
       "    .dataframe tbody tr th {\n",
       "        vertical-align: top;\n",
       "    }\n",
       "\n",
       "    .dataframe thead th {\n",
       "        text-align: right;\n",
       "    }\n",
       "</style>\n",
       "<table border=\"1\" class=\"dataframe\">\n",
       "  <thead>\n",
       "    <tr style=\"text-align: right;\">\n",
       "      <th></th>\n",
       "      <th>Lat</th>\n",
       "      <th>Lon</th>\n",
       "      <th>Heure</th>\n",
       "      <th>Cluster_KMeans</th>\n",
       "    </tr>\n",
       "  </thead>\n",
       "  <tbody>\n",
       "    <tr>\n",
       "      <th>15762</th>\n",
       "      <td>40.7228</td>\n",
       "      <td>-74.0045</td>\n",
       "      <td>0</td>\n",
       "      <td>0</td>\n",
       "    </tr>\n",
       "    <tr>\n",
       "      <th>15763</th>\n",
       "      <td>40.7618</td>\n",
       "      <td>-73.9940</td>\n",
       "      <td>0</td>\n",
       "      <td>0</td>\n",
       "    </tr>\n",
       "    <tr>\n",
       "      <th>15764</th>\n",
       "      <td>40.7505</td>\n",
       "      <td>-74.0031</td>\n",
       "      <td>0</td>\n",
       "      <td>0</td>\n",
       "    </tr>\n",
       "    <tr>\n",
       "      <th>15765</th>\n",
       "      <td>40.7418</td>\n",
       "      <td>-73.9972</td>\n",
       "      <td>0</td>\n",
       "      <td>0</td>\n",
       "    </tr>\n",
       "    <tr>\n",
       "      <th>15766</th>\n",
       "      <td>40.7092</td>\n",
       "      <td>-74.0132</td>\n",
       "      <td>0</td>\n",
       "      <td>0</td>\n",
       "    </tr>\n",
       "  </tbody>\n",
       "</table>\n",
       "</div>"
      ],
      "text/plain": [
       "           Lat      Lon  Heure  Cluster_KMeans\n",
       "15762  40.7228 -74.0045      0               0\n",
       "15763  40.7618 -73.9940      0               0\n",
       "15764  40.7505 -74.0031      0               0\n",
       "15765  40.7418 -73.9972      0               0\n",
       "15766  40.7092 -74.0132      0               0"
      ]
     },
     "execution_count": 28,
     "metadata": {},
     "output_type": "execute_result"
    }
   ],
   "source": [
    "jour_freq.loc[:,'Cluster_KMeans'] = kmeans.predict(X)\n",
    "jour_freq.head()"
   ]
  },
  {
   "cell_type": "markdown",
   "metadata": {},
   "source": [
    "## - Visualisation de nos clusters sur une map."
   ]
  },
  {
   "cell_type": "code",
   "execution_count": 29,
   "metadata": {},
   "outputs": [
    {
     "data": {
      "text/html": [
       "<iframe\n",
       "    scrolling=\"no\"\n",
       "    width=\"100%\"\n",
       "    height=\"545px\"\n",
       "    src=\"iframe_figures/figure_29.html\"\n",
       "    frameborder=\"0\"\n",
       "    allowfullscreen\n",
       "></iframe>\n"
      ]
     },
     "metadata": {},
     "output_type": "display_data"
    }
   ],
   "source": [
    "jour_freq = jour_freq.sort_values(\"Heure\", ascending=True)\n",
    "\n",
    "fig = px.scatter_mapbox(jour_freq, lat=\"Lat\", lon=\"Lon\", mapbox_style=\"carto-positron\", animation_frame = \"Heure\", zoom=9, color='Cluster_KMeans')\n",
    "fig.show(\"iframe_connected\")"
   ]
  },
  {
   "cell_type": "markdown",
   "metadata": {},
   "source": [
    "## Conclusions :\n",
    "### - Le model K-Means a permis d'identifier 5 clusters en mettant en évidence les différentes zones chaudes.\n",
    "### - Manhattan est la zone la plus chaude qui est divisée en 2 zones différentes : nord et sud. \n",
    "### - Brookklyn et Queens correspondent à d'autres clusters et les points sont moins concentrés.\n",
    "### - Les ramassages sont moins fréquents entre 1 h et 5h dans toutes les zones."
   ]
  },
  {
   "cell_type": "markdown",
   "metadata": {
    "tags": []
   },
   "source": [
    "# 7.2 Méthode DBSCAN avec la colonne \"Date\". "
   ]
  },
  {
   "cell_type": "markdown",
   "metadata": {},
   "source": [
    "## - Nous allons prendre le dataset de Septembre sur un échantillon de 20000 lignes."
   ]
  },
  {
   "cell_type": "code",
   "execution_count": 43,
   "metadata": {},
   "outputs": [
    {
     "data": {
      "text/html": [
       "<div>\n",
       "<style scoped>\n",
       "    .dataframe tbody tr th:only-of-type {\n",
       "        vertical-align: middle;\n",
       "    }\n",
       "\n",
       "    .dataframe tbody tr th {\n",
       "        vertical-align: top;\n",
       "    }\n",
       "\n",
       "    .dataframe thead th {\n",
       "        text-align: right;\n",
       "    }\n",
       "</style>\n",
       "<table border=\"1\" class=\"dataframe\">\n",
       "  <thead>\n",
       "    <tr style=\"text-align: right;\">\n",
       "      <th></th>\n",
       "      <th>Lat</th>\n",
       "      <th>Lon</th>\n",
       "      <th>Heure</th>\n",
       "      <th>Jour</th>\n",
       "      <th>Jour_Semaine</th>\n",
       "      <th>Mois</th>\n",
       "    </tr>\n",
       "  </thead>\n",
       "  <tbody>\n",
       "    <tr>\n",
       "      <th>254348</th>\n",
       "      <td>40.7314</td>\n",
       "      <td>-74.0012</td>\n",
       "      <td>22</td>\n",
       "      <td>27</td>\n",
       "      <td>5</td>\n",
       "      <td>9</td>\n",
       "    </tr>\n",
       "    <tr>\n",
       "      <th>551436</th>\n",
       "      <td>40.7218</td>\n",
       "      <td>-74.0099</td>\n",
       "      <td>8</td>\n",
       "      <td>22</td>\n",
       "      <td>0</td>\n",
       "      <td>9</td>\n",
       "    </tr>\n",
       "    <tr>\n",
       "      <th>468286</th>\n",
       "      <td>40.7579</td>\n",
       "      <td>-73.9732</td>\n",
       "      <td>19</td>\n",
       "      <td>15</td>\n",
       "      <td>0</td>\n",
       "      <td>9</td>\n",
       "    </tr>\n",
       "    <tr>\n",
       "      <th>379403</th>\n",
       "      <td>40.7237</td>\n",
       "      <td>-74.0103</td>\n",
       "      <td>6</td>\n",
       "      <td>9</td>\n",
       "      <td>1</td>\n",
       "      <td>9</td>\n",
       "    </tr>\n",
       "    <tr>\n",
       "      <th>389534</th>\n",
       "      <td>40.7569</td>\n",
       "      <td>-73.9744</td>\n",
       "      <td>20</td>\n",
       "      <td>9</td>\n",
       "      <td>1</td>\n",
       "      <td>9</td>\n",
       "    </tr>\n",
       "    <tr>\n",
       "      <th>...</th>\n",
       "      <td>...</td>\n",
       "      <td>...</td>\n",
       "      <td>...</td>\n",
       "      <td>...</td>\n",
       "      <td>...</td>\n",
       "      <td>...</td>\n",
       "    </tr>\n",
       "    <tr>\n",
       "      <th>396262</th>\n",
       "      <td>40.6802</td>\n",
       "      <td>-73.9465</td>\n",
       "      <td>13</td>\n",
       "      <td>10</td>\n",
       "      <td>2</td>\n",
       "      <td>9</td>\n",
       "    </tr>\n",
       "    <tr>\n",
       "      <th>607131</th>\n",
       "      <td>40.7470</td>\n",
       "      <td>-73.9529</td>\n",
       "      <td>23</td>\n",
       "      <td>26</td>\n",
       "      <td>4</td>\n",
       "      <td>9</td>\n",
       "    </tr>\n",
       "    <tr>\n",
       "      <th>680322</th>\n",
       "      <td>40.7582</td>\n",
       "      <td>-73.9687</td>\n",
       "      <td>15</td>\n",
       "      <td>5</td>\n",
       "      <td>4</td>\n",
       "      <td>9</td>\n",
       "    </tr>\n",
       "    <tr>\n",
       "      <th>744876</th>\n",
       "      <td>40.7704</td>\n",
       "      <td>-73.9582</td>\n",
       "      <td>15</td>\n",
       "      <td>14</td>\n",
       "      <td>6</td>\n",
       "      <td>9</td>\n",
       "    </tr>\n",
       "    <tr>\n",
       "      <th>522622</th>\n",
       "      <td>40.6954</td>\n",
       "      <td>-73.9833</td>\n",
       "      <td>21</td>\n",
       "      <td>19</td>\n",
       "      <td>4</td>\n",
       "      <td>9</td>\n",
       "    </tr>\n",
       "  </tbody>\n",
       "</table>\n",
       "<p>20000 rows × 6 columns</p>\n",
       "</div>"
      ],
      "text/plain": [
       "            Lat      Lon  Heure  Jour  Jour_Semaine  Mois\n",
       "254348  40.7314 -74.0012     22    27             5     9\n",
       "551436  40.7218 -74.0099      8    22             0     9\n",
       "468286  40.7579 -73.9732     19    15             0     9\n",
       "379403  40.7237 -74.0103      6     9             1     9\n",
       "389534  40.7569 -73.9744     20     9             1     9\n",
       "...         ...      ...    ...   ...           ...   ...\n",
       "396262  40.6802 -73.9465     13    10             2     9\n",
       "607131  40.7470 -73.9529     23    26             4     9\n",
       "680322  40.7582 -73.9687     15     5             4     9\n",
       "744876  40.7704 -73.9582     15    14             6     9\n",
       "522622  40.6954 -73.9833     21    19             4     9\n",
       "\n",
       "[20000 rows x 6 columns]"
      ]
     },
     "execution_count": 43,
     "metadata": {},
     "output_type": "execute_result"
    }
   ],
   "source": [
    "dataset_DB = dataset_1[dataset_1['Mois'] == 9]\n",
    "dataset_DB = dataset_DB.sample(20000) # nous prenons un échantillons de 20000 ce qui va jouer forcement sur la dansité et le nombre de cleusteur\n",
    "dataset_DB"
   ]
  },
  {
   "cell_type": "markdown",
   "metadata": {},
   "source": [
    "## - Preprocessing du dataset."
   ]
  },
  {
   "cell_type": "code",
   "execution_count": 44,
   "metadata": {},
   "outputs": [
    {
     "data": {
      "text/plain": [
       "array([[-0.18539494, -0.52268009,  1.33453909,  1.36700032,  1.05025833,\n",
       "         0.        ],\n",
       "       [-0.41596206, -0.6737315 , -1.01887854,  0.77233951, -1.5158537 ,\n",
       "         0.        ],\n",
       "       [ 0.45106638, -0.0365376 ,  0.83023531, -0.06018562, -1.5158537 ,\n",
       "         0.        ],\n",
       "       [-0.37032898, -0.68067639, -1.35508106, -0.77377859, -1.00263129,\n",
       "         0.        ],\n",
       "       [ 0.42704897, -0.05737228,  0.99833657, -0.77377859, -1.00263129,\n",
       "         0.        ]])"
      ]
     },
     "execution_count": 44,
     "metadata": {},
     "output_type": "execute_result"
    }
   ],
   "source": [
    "X_1 = dataset_DB\n",
    "sc = StandardScaler()\n",
    "X_1 = sc.fit_transform(X_1)\n",
    "X_1[:5]"
   ]
  },
  {
   "cell_type": "code",
   "execution_count": 45,
   "metadata": {},
   "outputs": [
    {
     "data": {
      "text/plain": [
       "DBSCAN(algorithm='brute', eps=1.2)"
      ]
     },
     "execution_count": 45,
     "metadata": {},
     "output_type": "execute_result"
    }
   ],
   "source": [
    "from sklearn.cluster import DBSCAN\n",
    "\n",
    "db = DBSCAN(eps=1.2 , min_samples=5, metric=\"euclidean\", algorithm=\"brute\") \n",
    "# 0.005, min_samples=5, metric=\"euclidean\", algorithm=\"brute\"\n",
    "# eps=0.2, min_samples=100, metric=\"manhattan\"\n",
    "# eps=1.2, min_samples=60, metric=\"manhattan\", algorithm=\"brute\"\n",
    "\n",
    "db.fit(X_1)"
   ]
  },
  {
   "cell_type": "markdown",
   "metadata": {},
   "source": [
    "## - Détermination du nombre des clusters."
   ]
  },
  {
   "cell_type": "code",
   "execution_count": 46,
   "metadata": {},
   "outputs": [
    {
     "data": {
      "text/html": [
       "<iframe\n",
       "    scrolling=\"no\"\n",
       "    width=\"100%\"\n",
       "    height=\"545px\"\n",
       "    src=\"iframe_figures/figure_46.html\"\n",
       "    frameborder=\"0\"\n",
       "    allowfullscreen\n",
       "></iframe>\n"
      ]
     },
     "metadata": {},
     "output_type": "display_data"
    }
   ],
   "source": [
    "fig = go.Figure()\n",
    "\n",
    "# Boucle permettant d'ajouter les points au graphique \n",
    "\n",
    "for i in np.unique(db.labels_):\n",
    "    label = X_1[db.labels_== i] \n",
    "    fig.add_trace(go.Scatter(x=label[:, 0], y=label[:, 1], mode=\"markers\", name=\"Cluster {}\".format(i)))\n",
    "\n",
    "fig.show('iframe_connected')"
   ]
  },
  {
   "cell_type": "markdown",
   "metadata": {},
   "source": [
    "## Nous relevons 5 clusters et des outliers."
   ]
  },
  {
   "cell_type": "code",
   "execution_count": 47,
   "metadata": {
    "tags": []
   },
   "outputs": [
    {
     "data": {
      "text/plain": [
       "array([-1,  0,  1,  2,  3,  4])"
      ]
     },
     "execution_count": 47,
     "metadata": {},
     "output_type": "execute_result"
    }
   ],
   "source": [
    "np.unique(db.labels_) # on peu le verifier"
   ]
  },
  {
   "cell_type": "markdown",
   "metadata": {},
   "source": [
    "## - On ajoute la colonne \"cluster_DBSCAN\" à notre datast."
   ]
  },
  {
   "cell_type": "code",
   "execution_count": 48,
   "metadata": {},
   "outputs": [
    {
     "data": {
      "text/html": [
       "<div>\n",
       "<style scoped>\n",
       "    .dataframe tbody tr th:only-of-type {\n",
       "        vertical-align: middle;\n",
       "    }\n",
       "\n",
       "    .dataframe tbody tr th {\n",
       "        vertical-align: top;\n",
       "    }\n",
       "\n",
       "    .dataframe thead th {\n",
       "        text-align: right;\n",
       "    }\n",
       "</style>\n",
       "<table border=\"1\" class=\"dataframe\">\n",
       "  <thead>\n",
       "    <tr style=\"text-align: right;\">\n",
       "      <th></th>\n",
       "      <th>Lat</th>\n",
       "      <th>Lon</th>\n",
       "      <th>Heure</th>\n",
       "      <th>Jour</th>\n",
       "      <th>Jour_Semaine</th>\n",
       "      <th>Mois</th>\n",
       "      <th>cluster_DBSCAN</th>\n",
       "    </tr>\n",
       "  </thead>\n",
       "  <tbody>\n",
       "    <tr>\n",
       "      <th>254348</th>\n",
       "      <td>40.7314</td>\n",
       "      <td>-74.0012</td>\n",
       "      <td>22</td>\n",
       "      <td>27</td>\n",
       "      <td>5</td>\n",
       "      <td>9</td>\n",
       "      <td>0</td>\n",
       "    </tr>\n",
       "    <tr>\n",
       "      <th>551436</th>\n",
       "      <td>40.7218</td>\n",
       "      <td>-74.0099</td>\n",
       "      <td>8</td>\n",
       "      <td>22</td>\n",
       "      <td>0</td>\n",
       "      <td>9</td>\n",
       "      <td>0</td>\n",
       "    </tr>\n",
       "    <tr>\n",
       "      <th>468286</th>\n",
       "      <td>40.7579</td>\n",
       "      <td>-73.9732</td>\n",
       "      <td>19</td>\n",
       "      <td>15</td>\n",
       "      <td>0</td>\n",
       "      <td>9</td>\n",
       "      <td>0</td>\n",
       "    </tr>\n",
       "    <tr>\n",
       "      <th>379403</th>\n",
       "      <td>40.7237</td>\n",
       "      <td>-74.0103</td>\n",
       "      <td>6</td>\n",
       "      <td>9</td>\n",
       "      <td>1</td>\n",
       "      <td>9</td>\n",
       "      <td>0</td>\n",
       "    </tr>\n",
       "    <tr>\n",
       "      <th>389534</th>\n",
       "      <td>40.7569</td>\n",
       "      <td>-73.9744</td>\n",
       "      <td>20</td>\n",
       "      <td>9</td>\n",
       "      <td>1</td>\n",
       "      <td>9</td>\n",
       "      <td>0</td>\n",
       "    </tr>\n",
       "  </tbody>\n",
       "</table>\n",
       "</div>"
      ],
      "text/plain": [
       "            Lat      Lon  Heure  Jour  Jour_Semaine  Mois  cluster_DBSCAN\n",
       "254348  40.7314 -74.0012     22    27             5     9               0\n",
       "551436  40.7218 -74.0099      8    22             0     9               0\n",
       "468286  40.7579 -73.9732     19    15             0     9               0\n",
       "379403  40.7237 -74.0103      6     9             1     9               0\n",
       "389534  40.7569 -73.9744     20     9             1     9               0"
      ]
     },
     "execution_count": 48,
     "metadata": {},
     "output_type": "execute_result"
    }
   ],
   "source": [
    "dataset_DB[\"cluster_DBSCAN\"] = db.labels_\n",
    "dataset_DB.head()"
   ]
  },
  {
   "cell_type": "markdown",
   "metadata": {},
   "source": [
    "## - Visualisation de l'évolution des clusters en 24 heure sur une map."
   ]
  },
  {
   "cell_type": "code",
   "execution_count": 36,
   "metadata": {},
   "outputs": [
    {
     "data": {
      "text/html": [
       "<iframe\n",
       "    scrolling=\"no\"\n",
       "    width=\"100%\"\n",
       "    height=\"545px\"\n",
       "    src=\"iframe_figures/figure_36.html\"\n",
       "    frameborder=\"0\"\n",
       "    allowfullscreen\n",
       "></iframe>\n"
      ]
     },
     "metadata": {},
     "output_type": "display_data"
    }
   ],
   "source": [
    "dataset_DB = dataset_DB.sort_values(\"Heure\", ascending=True)\n",
    "\n",
    "fig = px.scatter_mapbox(dataset_DB, lat=\"Lat\", lon=\"Lon\", mapbox_style=\"carto-positron\", animation_frame = \"Heure\", zoom=9, color='cluster_DBSCAN')\n",
    "fig.show(\"iframe_connected\")"
   ]
  },
  {
   "cell_type": "markdown",
   "metadata": {},
   "source": [
    "## La carte ci-dessus montre que dans les zones chaudes les clusters sont plus dense entre 14 et 21 Heures."
   ]
  },
  {
   "cell_type": "markdown",
   "metadata": {},
   "source": [
    "## - Visualisation de l'évolution des clusters par jours de la semaine."
   ]
  },
  {
   "cell_type": "code",
   "execution_count": 49,
   "metadata": {},
   "outputs": [],
   "source": [
    "dataset_DB = dataset_DB[dataset_DB['Jour'] < 8]"
   ]
  },
  {
   "cell_type": "code",
   "execution_count": 50,
   "metadata": {},
   "outputs": [
    {
     "data": {
      "text/html": [
       "<div>\n",
       "<style scoped>\n",
       "    .dataframe tbody tr th:only-of-type {\n",
       "        vertical-align: middle;\n",
       "    }\n",
       "\n",
       "    .dataframe tbody tr th {\n",
       "        vertical-align: top;\n",
       "    }\n",
       "\n",
       "    .dataframe thead th {\n",
       "        text-align: right;\n",
       "    }\n",
       "</style>\n",
       "<table border=\"1\" class=\"dataframe\">\n",
       "  <thead>\n",
       "    <tr style=\"text-align: right;\">\n",
       "      <th></th>\n",
       "      <th>Lat</th>\n",
       "      <th>Lon</th>\n",
       "      <th>Heure</th>\n",
       "      <th>Jour</th>\n",
       "      <th>Jour_Semaine</th>\n",
       "      <th>Mois</th>\n",
       "      <th>cluster_DBSCAN</th>\n",
       "    </tr>\n",
       "  </thead>\n",
       "  <tbody>\n",
       "    <tr>\n",
       "      <th>315139</th>\n",
       "      <td>40.7516</td>\n",
       "      <td>-74.0035</td>\n",
       "      <td>16</td>\n",
       "      <td>4</td>\n",
       "      <td>3</td>\n",
       "      <td>9</td>\n",
       "      <td>0</td>\n",
       "    </tr>\n",
       "    <tr>\n",
       "      <th>326114</th>\n",
       "      <td>40.7305</td>\n",
       "      <td>-73.9866</td>\n",
       "      <td>9</td>\n",
       "      <td>5</td>\n",
       "      <td>4</td>\n",
       "      <td>9</td>\n",
       "      <td>0</td>\n",
       "    </tr>\n",
       "    <tr>\n",
       "      <th>865749</th>\n",
       "      <td>40.6671</td>\n",
       "      <td>-73.9814</td>\n",
       "      <td>9</td>\n",
       "      <td>5</td>\n",
       "      <td>4</td>\n",
       "      <td>9</td>\n",
       "      <td>0</td>\n",
       "    </tr>\n",
       "    <tr>\n",
       "      <th>88865</th>\n",
       "      <td>40.7056</td>\n",
       "      <td>-74.0095</td>\n",
       "      <td>18</td>\n",
       "      <td>7</td>\n",
       "      <td>6</td>\n",
       "      <td>9</td>\n",
       "      <td>0</td>\n",
       "    </tr>\n",
       "    <tr>\n",
       "      <th>676725</th>\n",
       "      <td>40.7194</td>\n",
       "      <td>-74.0055</td>\n",
       "      <td>5</td>\n",
       "      <td>5</td>\n",
       "      <td>4</td>\n",
       "      <td>9</td>\n",
       "      <td>0</td>\n",
       "    </tr>\n",
       "    <tr>\n",
       "      <th>...</th>\n",
       "      <td>...</td>\n",
       "      <td>...</td>\n",
       "      <td>...</td>\n",
       "      <td>...</td>\n",
       "      <td>...</td>\n",
       "      <td>...</td>\n",
       "      <td>...</td>\n",
       "    </tr>\n",
       "    <tr>\n",
       "      <th>360920</th>\n",
       "      <td>40.7169</td>\n",
       "      <td>-74.0079</td>\n",
       "      <td>15</td>\n",
       "      <td>7</td>\n",
       "      <td>6</td>\n",
       "      <td>9</td>\n",
       "      <td>0</td>\n",
       "    </tr>\n",
       "    <tr>\n",
       "      <th>82819</th>\n",
       "      <td>40.7433</td>\n",
       "      <td>-74.0032</td>\n",
       "      <td>23</td>\n",
       "      <td>6</td>\n",
       "      <td>5</td>\n",
       "      <td>9</td>\n",
       "      <td>0</td>\n",
       "    </tr>\n",
       "    <tr>\n",
       "      <th>660034</th>\n",
       "      <td>40.7478</td>\n",
       "      <td>-73.9848</td>\n",
       "      <td>17</td>\n",
       "      <td>2</td>\n",
       "      <td>1</td>\n",
       "      <td>9</td>\n",
       "      <td>0</td>\n",
       "    </tr>\n",
       "    <tr>\n",
       "      <th>45201</th>\n",
       "      <td>40.7693</td>\n",
       "      <td>-73.9693</td>\n",
       "      <td>20</td>\n",
       "      <td>2</td>\n",
       "      <td>1</td>\n",
       "      <td>9</td>\n",
       "      <td>0</td>\n",
       "    </tr>\n",
       "    <tr>\n",
       "      <th>680322</th>\n",
       "      <td>40.7582</td>\n",
       "      <td>-73.9687</td>\n",
       "      <td>15</td>\n",
       "      <td>5</td>\n",
       "      <td>4</td>\n",
       "      <td>9</td>\n",
       "      <td>0</td>\n",
       "    </tr>\n",
       "  </tbody>\n",
       "</table>\n",
       "<p>4491 rows × 7 columns</p>\n",
       "</div>"
      ],
      "text/plain": [
       "            Lat      Lon  Heure  Jour  Jour_Semaine  Mois  cluster_DBSCAN\n",
       "315139  40.7516 -74.0035     16     4             3     9               0\n",
       "326114  40.7305 -73.9866      9     5             4     9               0\n",
       "865749  40.6671 -73.9814      9     5             4     9               0\n",
       "88865   40.7056 -74.0095     18     7             6     9               0\n",
       "676725  40.7194 -74.0055      5     5             4     9               0\n",
       "...         ...      ...    ...   ...           ...   ...             ...\n",
       "360920  40.7169 -74.0079     15     7             6     9               0\n",
       "82819   40.7433 -74.0032     23     6             5     9               0\n",
       "660034  40.7478 -73.9848     17     2             1     9               0\n",
       "45201   40.7693 -73.9693     20     2             1     9               0\n",
       "680322  40.7582 -73.9687     15     5             4     9               0\n",
       "\n",
       "[4491 rows x 7 columns]"
      ]
     },
     "execution_count": 50,
     "metadata": {},
     "output_type": "execute_result"
    }
   ],
   "source": [
    "dataset_DB"
   ]
  },
  {
   "cell_type": "markdown",
   "metadata": {},
   "source": []
  },
  {
   "cell_type": "code",
   "execution_count": 51,
   "metadata": {},
   "outputs": [],
   "source": [
    "dataset_DB = dataset_DB.sort_values(\"Jour_Semaine\", ascending=True)"
   ]
  },
  {
   "cell_type": "code",
   "execution_count": 52,
   "metadata": {},
   "outputs": [],
   "source": [
    "Jour_map2 = {\n",
    "    0: 'Lundi',\n",
    "    1: 'Mardi',\n",
    "    2: 'Mercredi',\n",
    "    3: 'Jeudi', \n",
    "    4: 'Vendredi', \n",
    "    5: 'Samedi',\n",
    "    6: 'Dimanche'\n",
    "}"
   ]
  },
  {
   "cell_type": "code",
   "execution_count": 53,
   "metadata": {},
   "outputs": [
    {
     "data": {
      "text/html": [
       "<iframe\n",
       "    scrolling=\"no\"\n",
       "    width=\"100%\"\n",
       "    height=\"545px\"\n",
       "    src=\"iframe_figures/figure_53.html\"\n",
       "    frameborder=\"0\"\n",
       "    allowfullscreen\n",
       "></iframe>\n"
      ]
     },
     "metadata": {},
     "output_type": "display_data"
    }
   ],
   "source": [
    "dataset_DB['Jour_Semaine'] = dataset_DB['Jour_Semaine'].replace(Jour_map2)\n",
    "\n",
    "fig1 = px.scatter_mapbox(dataset_DB, lat=\"Lat\", lon=\"Lon\", mapbox_style=\"carto-positron\", animation_frame = \"Jour_Semaine\", zoom=9, color='cluster_DBSCAN')\n",
    "fig1.show(\"iframe_connected\")"
   ]
  },
  {
   "cell_type": "markdown",
   "metadata": {},
   "source": [
    "## La carte ci-dessus montre que la densité des clusters est plus élevée jeudi, vendredi et samedi de la semaine."
   ]
  },
  {
   "cell_type": "markdown",
   "metadata": {},
   "source": [
    "## Conclusion \n",
    "### DBSCAN considère Manhattan et Brooklyn comme les zones les plus chaudes avec un seul cluster de forte densité entre 14 et 21 Heures. Au niveau de Manhattan se trouvent de nombreux sites populaires comme Times Square, Broadway, Central Park, etc. En bas à droite du tracé, nous observons une petite zone de forte densité où se trouve l'aéroport JFK. Le fait que les ramassages soient concentrés dans ces zones n'est pas surprenant vu l'activité au niveau de ces endroits. Jeudi, vedredi et samedi sont les jours où il y a le plus de ramassage Uber."
   ]
  },
  {
   "cell_type": "markdown",
   "metadata": {},
   "source": [
    "# Conclusion générale"
   ]
  },
  {
   "cell_type": "markdown",
   "metadata": {},
   "source": [
    "## Le model DBSCAN permet d'identifier la zone de densité la plus élevée à New York alors que le model K-mean nous permet de dégager plusieurs zones de forte densité. Cette différence nous permet de déduire que le model DBSCAN est plus pratique pour ce type de données car il nous permet de contôler les hyperparamètres afin d'identifier avec plus de précision les zones où il y a le plus de demandes uber par jour et par heure."
   ]
  },
  {
   "cell_type": "code",
   "execution_count": null,
   "metadata": {},
   "outputs": [],
   "source": []
  }
 ],
 "metadata": {
  "kernelspec": {
   "display_name": "Python 3 (ipykernel)",
   "language": "python",
   "name": "python3"
  },
  "language_info": {
   "codemirror_mode": {
    "name": "ipython",
    "version": 3
   },
   "file_extension": ".py",
   "mimetype": "text/x-python",
   "name": "python",
   "nbconvert_exporter": "python",
   "pygments_lexer": "ipython3",
   "version": "3.9.7"
  }
 },
 "nbformat": 4,
 "nbformat_minor": 4
}
