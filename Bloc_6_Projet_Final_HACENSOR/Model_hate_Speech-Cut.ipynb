{
 "cells": [
  {
   "cell_type": "code",
   "execution_count": 1,
   "id": "fe1eca22",
   "metadata": {
    "id": "ec5d5d59-2d17-46a3-8b66-f0f5eb70f6af"
   },
   "outputs": [
    {
     "name": "stdout",
     "output_type": "stream",
     "text": [
      "Collecting seaborn\n",
      "  Using cached seaborn-0.11.2-py3-none-any.whl (292 kB)\n"
     ]
    },
    {
     "name": "stderr",
     "output_type": "stream",
     "text": [
      "ERROR: Could not find a version that satisfies the requirement as (from versions: none)\n",
      "ERROR: No matching distribution found for as\n",
      "[nltk_data] Downloading package punkt to\n",
      "[nltk_data]     C:\\Users\\conta\\AppData\\Roaming\\nltk_data...\n",
      "[nltk_data]   Package punkt is already up-to-date!\n"
     ]
    }
   ],
   "source": [
    "!pip install spacy==3.2.0 -q\n",
    "!pip install tensorflow -q\n",
    "!pip install matplotlib -q\n",
    "!pip install pyspellchecker -q\n",
    "!pip install nltk -q\n",
    "!pip install seaborn as sns\n",
    "\n",
    "import nltk\n",
    "from nltk.tokenize import word_tokenize\n",
    "nltk.download('punkt')\n",
    "\n",
    "from spellchecker import SpellChecker\n",
    "import time\n",
    "from multiprocessing import  Pool\n",
    "from nltk.stem import WordNetLemmatizer \n",
    "import io\n",
    "import os\n",
    "import re\n",
    "import shutil\n",
    "import string\n",
    "import tensorflow as tf\n",
    "import pandas as pd\n",
    "import numpy as np\n",
    "import matplotlib.pyplot as plt\n",
    "import plotly.graph_objects as go\n",
    "import json\n",
    "import string\n",
    "\n",
    "from tensorflow.keras import Sequential\n",
    "from tensorflow.keras.layers import Dense, Embedding, GlobalAveragePooling1D\n",
    "from tensorflow.keras.layers.experimental.preprocessing import TextVectorization\n",
    "from tensorflow import keras\n",
    "from tensorflow.keras import layers\n",
    "from tensorflow.keras.preprocessing.text import Tokenizer\n",
    "from tensorflow import keras\n",
    "from tensorflow.keras.layers import Embedding, SimpleRNN, Dense, GRU, LSTM\n",
    "from keras.callbacks import ModelCheckpoint, EarlyStopping\n",
    "from keras.layers import Embedding\n",
    "from keras.models import Sequential\n",
    "from keras.layers import Activation, SimpleRNN,Dense\n",
    "\n",
    "import spacy\n",
    "from spacy.lang.en.stop_words import STOP_WORDS\n"
   ]
  },
  {
   "cell_type": "code",
   "execution_count": 2,
   "id": "7c3e9d0a",
   "metadata": {
    "id": "81354634-d496-487e-8327-4a26e5376bf3"
   },
   "outputs": [],
   "source": [
    "speech1 = pd.read_csv('train_data2.csv', index_col = 'id')\n",
    "\n",
    "#Second dataset to balance the first one\n",
    "speech2 = pd.read_csv('labeled_data.csv', index_col = 'Unnamed: 0') \n"
   ]
  },
  {
   "cell_type": "code",
   "execution_count": 3,
   "id": "9ecc0a55",
   "metadata": {},
   "outputs": [
    {
     "data": {
      "text/html": [
       "<div>\n",
       "<style scoped>\n",
       "    .dataframe tbody tr th:only-of-type {\n",
       "        vertical-align: middle;\n",
       "    }\n",
       "\n",
       "    .dataframe tbody tr th {\n",
       "        vertical-align: top;\n",
       "    }\n",
       "\n",
       "    .dataframe thead th {\n",
       "        text-align: right;\n",
       "    }\n",
       "</style>\n",
       "<table border=\"1\" class=\"dataframe\">\n",
       "  <thead>\n",
       "    <tr style=\"text-align: right;\">\n",
       "      <th></th>\n",
       "      <th>label</th>\n",
       "      <th>tweet</th>\n",
       "    </tr>\n",
       "    <tr>\n",
       "      <th>id</th>\n",
       "      <th></th>\n",
       "      <th></th>\n",
       "    </tr>\n",
       "  </thead>\n",
       "  <tbody>\n",
       "    <tr>\n",
       "      <th>1</th>\n",
       "      <td>0</td>\n",
       "      <td>@user when a father is dysfunctional and is s...</td>\n",
       "    </tr>\n",
       "    <tr>\n",
       "      <th>2</th>\n",
       "      <td>0</td>\n",
       "      <td>@user @user thanks for #lyft credit i can't us...</td>\n",
       "    </tr>\n",
       "    <tr>\n",
       "      <th>3</th>\n",
       "      <td>0</td>\n",
       "      <td>bihday your majesty</td>\n",
       "    </tr>\n",
       "    <tr>\n",
       "      <th>4</th>\n",
       "      <td>0</td>\n",
       "      <td>#model   i love u take with u all the time in ...</td>\n",
       "    </tr>\n",
       "    <tr>\n",
       "      <th>5</th>\n",
       "      <td>0</td>\n",
       "      <td>factsguide: society now    #motivation</td>\n",
       "    </tr>\n",
       "    <tr>\n",
       "      <th>...</th>\n",
       "      <td>...</td>\n",
       "      <td>...</td>\n",
       "    </tr>\n",
       "    <tr>\n",
       "      <th>31958</th>\n",
       "      <td>0</td>\n",
       "      <td>ate @user isz that youuu?ðððððð...</td>\n",
       "    </tr>\n",
       "    <tr>\n",
       "      <th>31959</th>\n",
       "      <td>0</td>\n",
       "      <td>to see nina turner on the airwaves trying to...</td>\n",
       "    </tr>\n",
       "    <tr>\n",
       "      <th>31960</th>\n",
       "      <td>0</td>\n",
       "      <td>listening to sad songs on a monday morning otw...</td>\n",
       "    </tr>\n",
       "    <tr>\n",
       "      <th>31961</th>\n",
       "      <td>1</td>\n",
       "      <td>@user #sikh #temple vandalised in in #calgary,...</td>\n",
       "    </tr>\n",
       "    <tr>\n",
       "      <th>31962</th>\n",
       "      <td>0</td>\n",
       "      <td>thank you @user for you follow</td>\n",
       "    </tr>\n",
       "  </tbody>\n",
       "</table>\n",
       "<p>31962 rows × 2 columns</p>\n",
       "</div>"
      ],
      "text/plain": [
       "       label                                              tweet\n",
       "id                                                             \n",
       "1          0   @user when a father is dysfunctional and is s...\n",
       "2          0  @user @user thanks for #lyft credit i can't us...\n",
       "3          0                                bihday your majesty\n",
       "4          0  #model   i love u take with u all the time in ...\n",
       "5          0             factsguide: society now    #motivation\n",
       "...      ...                                                ...\n",
       "31958      0  ate @user isz that youuu?ðððððð...\n",
       "31959      0    to see nina turner on the airwaves trying to...\n",
       "31960      0  listening to sad songs on a monday morning otw...\n",
       "31961      1  @user #sikh #temple vandalised in in #calgary,...\n",
       "31962      0                   thank you @user for you follow  \n",
       "\n",
       "[31962 rows x 2 columns]"
      ]
     },
     "execution_count": 3,
     "metadata": {},
     "output_type": "execute_result"
    }
   ],
   "source": [
    "speech1"
   ]
  },
  {
   "cell_type": "code",
   "execution_count": 4,
   "id": "be3aa1d6",
   "metadata": {
    "colab": {
     "base_uri": "https://localhost:8080/"
    },
    "executionInfo": {
     "elapsed": 90,
     "status": "ok",
     "timestamp": 1637179872264,
     "user": {
      "displayName": "Youss BBB",
      "photoUrl": "https://lh3.googleusercontent.com/a/default-user=s64",
      "userId": "04616849028342739253"
     },
     "user_tz": -60
    },
    "id": "200394e5-2704-40eb-a87c-7776257dd90e",
    "outputId": "d672a172-7cc6-46cc-a41f-f350e290da1e"
   },
   "outputs": [
    {
     "data": {
      "text/plain": [
       "0    29720\n",
       "1     2242\n",
       "Name: label, dtype: int64"
      ]
     },
     "execution_count": 4,
     "metadata": {},
     "output_type": "execute_result"
    }
   ],
   "source": [
    "speech1['label'].value_counts()"
   ]
  },
  {
   "cell_type": "code",
   "execution_count": null,
   "id": "59cf1044",
   "metadata": {},
   "outputs": [],
   "source": []
  },
  {
   "cell_type": "code",
   "execution_count": 5,
   "id": "b46c5c8b",
   "metadata": {
    "colab": {
     "base_uri": "https://localhost:8080/",
     "height": 424
    },
    "executionInfo": {
     "elapsed": 78,
     "status": "ok",
     "timestamp": 1637179872265,
     "user": {
      "displayName": "Youss BBB",
      "photoUrl": "https://lh3.googleusercontent.com/a/default-user=s64",
      "userId": "04616849028342739253"
     },
     "user_tz": -60
    },
    "id": "a820daa6-821f-437a-a69a-e0b4926d11f6",
    "outputId": "b79d3d33-8276-4004-9b23-531538762012"
   },
   "outputs": [
    {
     "data": {
      "text/html": [
       "<div>\n",
       "<style scoped>\n",
       "    .dataframe tbody tr th:only-of-type {\n",
       "        vertical-align: middle;\n",
       "    }\n",
       "\n",
       "    .dataframe tbody tr th {\n",
       "        vertical-align: top;\n",
       "    }\n",
       "\n",
       "    .dataframe thead th {\n",
       "        text-align: right;\n",
       "    }\n",
       "</style>\n",
       "<table border=\"1\" class=\"dataframe\">\n",
       "  <thead>\n",
       "    <tr style=\"text-align: right;\">\n",
       "      <th></th>\n",
       "      <th>label</th>\n",
       "      <th>tweet</th>\n",
       "    </tr>\n",
       "  </thead>\n",
       "  <tbody>\n",
       "    <tr>\n",
       "      <th>0</th>\n",
       "      <td>1</td>\n",
       "      <td>!!! RT @mayasolovely: As a woman you shouldn't...</td>\n",
       "    </tr>\n",
       "    <tr>\n",
       "      <th>40</th>\n",
       "      <td>1</td>\n",
       "      <td>\" momma said no pussy cats inside my doghouse \"</td>\n",
       "    </tr>\n",
       "    <tr>\n",
       "      <th>63</th>\n",
       "      <td>1</td>\n",
       "      <td>\"@Addicted2Guys: -SimplyAddictedToGuys http://...</td>\n",
       "    </tr>\n",
       "    <tr>\n",
       "      <th>66</th>\n",
       "      <td>1</td>\n",
       "      <td>\"@AllAboutManFeet: http://t.co/3gzUpfuMev\" woo...</td>\n",
       "    </tr>\n",
       "    <tr>\n",
       "      <th>67</th>\n",
       "      <td>1</td>\n",
       "      <td>\"@Allyhaaaaa: Lemmie eat a Oreo &amp;amp; do these...</td>\n",
       "    </tr>\n",
       "    <tr>\n",
       "      <th>...</th>\n",
       "      <td>...</td>\n",
       "      <td>...</td>\n",
       "    </tr>\n",
       "    <tr>\n",
       "      <th>25249</th>\n",
       "      <td>1</td>\n",
       "      <td>yaya ho.. cute avi tho RT @ViVaLa_Ari I had no...</td>\n",
       "    </tr>\n",
       "    <tr>\n",
       "      <th>25250</th>\n",
       "      <td>1</td>\n",
       "      <td>yea so about @N_tel 's new friend.. all my fri...</td>\n",
       "    </tr>\n",
       "    <tr>\n",
       "      <th>25280</th>\n",
       "      <td>1</td>\n",
       "      <td>you know what they say, the early bird gets th...</td>\n",
       "    </tr>\n",
       "    <tr>\n",
       "      <th>25292</th>\n",
       "      <td>1</td>\n",
       "      <td>you've gone and broke the wrong heart baby, an...</td>\n",
       "    </tr>\n",
       "    <tr>\n",
       "      <th>25296</th>\n",
       "      <td>1</td>\n",
       "      <td>~~Ruffled | Ntac Eileen Dahlia - Beautiful col...</td>\n",
       "    </tr>\n",
       "  </tbody>\n",
       "</table>\n",
       "<p>4163 rows × 2 columns</p>\n",
       "</div>"
      ],
      "text/plain": [
       "       label                                              tweet\n",
       "0          1  !!! RT @mayasolovely: As a woman you shouldn't...\n",
       "40         1    \" momma said no pussy cats inside my doghouse \"\n",
       "63         1  \"@Addicted2Guys: -SimplyAddictedToGuys http://...\n",
       "66         1  \"@AllAboutManFeet: http://t.co/3gzUpfuMev\" woo...\n",
       "67         1  \"@Allyhaaaaa: Lemmie eat a Oreo &amp; do these...\n",
       "...      ...                                                ...\n",
       "25249      1  yaya ho.. cute avi tho RT @ViVaLa_Ari I had no...\n",
       "25250      1  yea so about @N_tel 's new friend.. all my fri...\n",
       "25280      1  you know what they say, the early bird gets th...\n",
       "25292      1  you've gone and broke the wrong heart baby, an...\n",
       "25296      1  ~~Ruffled | Ntac Eileen Dahlia - Beautiful col...\n",
       "\n",
       "[4163 rows x 2 columns]"
      ]
     },
     "execution_count": 5,
     "metadata": {},
     "output_type": "execute_result"
    }
   ],
   "source": [
    "speech2 = speech2.loc[:,['tweet', 'class']] \n",
    "# Séparer les classes 'Hate', 'Offensive', 'Neutral' en 2 classes binaires : offensif ou neutre\n",
    "speech2['good_bad'] = speech2['class'].apply(lambda x : 0 if x == 0 or x == 1\n",
    "                                                        else 1)\n",
    "speech2.dropna(axis = 0)\n",
    "speech2 = speech2[speech2['good_bad'] == 1] #On ne gardera que les ligne où les tweets sont considérés offensifs.\n",
    "speech2.drop(columns = 'class', inplace = True)\n",
    "speech2 = speech2[speech2.columns[::-1]] #Changer l'ordre des colones afin de concatener les deux dataframes\n",
    "speech2.rename(columns = {'good_bad' : 'label'}, inplace = True)\n",
    "speech2"
   ]
  },
  {
   "cell_type": "code",
   "execution_count": 6,
   "id": "d91306a3",
   "metadata": {
    "id": "00cc4d79-c31c-432e-bf8e-f37b2acd37b4"
   },
   "outputs": [
    {
     "data": {
      "text/plain": [
       "0    29720\n",
       "1     6405\n",
       "Name: label, dtype: int64"
      ]
     },
     "execution_count": 6,
     "metadata": {},
     "output_type": "execute_result"
    }
   ],
   "source": [
    "speech3 = pd.concat([speech1,speech2], axis=0)\n",
    "speech3['label'].value_counts()"
   ]
  },
  {
   "cell_type": "code",
   "execution_count": 7,
   "id": "869357dc",
   "metadata": {
    "id": "a77c3c3a-2323-483d-b42d-4bfb40a43f89"
   },
   "outputs": [
    {
     "data": {
      "text/html": [
       "<div>\n",
       "<style scoped>\n",
       "    .dataframe tbody tr th:only-of-type {\n",
       "        vertical-align: middle;\n",
       "    }\n",
       "\n",
       "    .dataframe tbody tr th {\n",
       "        vertical-align: top;\n",
       "    }\n",
       "\n",
       "    .dataframe thead th {\n",
       "        text-align: right;\n",
       "    }\n",
       "</style>\n",
       "<table border=\"1\" class=\"dataframe\">\n",
       "  <thead>\n",
       "    <tr style=\"text-align: right;\">\n",
       "      <th></th>\n",
       "      <th>label</th>\n",
       "      <th>tweet</th>\n",
       "    </tr>\n",
       "  </thead>\n",
       "  <tbody>\n",
       "    <tr>\n",
       "      <th>22932</th>\n",
       "      <td>0</td>\n",
       "      <td>how the @user made grandma sad. #grandma,   #l...</td>\n",
       "    </tr>\n",
       "    <tr>\n",
       "      <th>10886</th>\n",
       "      <td>0</td>\n",
       "      <td>i am independent. #i_am #positive #affirmation...</td>\n",
       "    </tr>\n",
       "    <tr>\n",
       "      <th>15443</th>\n",
       "      <td>0</td>\n",
       "      <td>enjoy #lifeofaking starring cuba gooding jr ! ...</td>\n",
       "    </tr>\n",
       "    <tr>\n",
       "      <th>15569</th>\n",
       "      <td>0</td>\n",
       "      <td>going to #fabcon3d tomorrow! talk scheduled fo...</td>\n",
       "    </tr>\n",
       "    <tr>\n",
       "      <th>26575</th>\n",
       "      <td>0</td>\n",
       "      <td>@user went to fye and they didn't have your al...</td>\n",
       "    </tr>\n",
       "    <tr>\n",
       "      <th>...</th>\n",
       "      <td>...</td>\n",
       "      <td>...</td>\n",
       "    </tr>\n",
       "    <tr>\n",
       "      <th>21724</th>\n",
       "      <td>0</td>\n",
       "      <td>@user   take a look. #ukip in scotland are non...</td>\n",
       "    </tr>\n",
       "    <tr>\n",
       "      <th>31829</th>\n",
       "      <td>0</td>\n",
       "      <td>happy daddy's day to all the fab dads out ther...</td>\n",
       "    </tr>\n",
       "    <tr>\n",
       "      <th>28635</th>\n",
       "      <td>0</td>\n",
       "      <td>a girl broken his hea ð ð ââââ #...</td>\n",
       "    </tr>\n",
       "    <tr>\n",
       "      <th>11916</th>\n",
       "      <td>0</td>\n",
       "      <td>update: my free app will be live within 7 days.</td>\n",
       "    </tr>\n",
       "    <tr>\n",
       "      <th>28328</th>\n",
       "      <td>0</td>\n",
       "      <td>#juneteenth, our #annual #celebration of the...</td>\n",
       "    </tr>\n",
       "  </tbody>\n",
       "</table>\n",
       "<p>6405 rows × 2 columns</p>\n",
       "</div>"
      ],
      "text/plain": [
       "       label                                              tweet\n",
       "22932      0  how the @user made grandma sad. #grandma,   #l...\n",
       "10886      0  i am independent. #i_am #positive #affirmation...\n",
       "15443      0  enjoy #lifeofaking starring cuba gooding jr ! ...\n",
       "15569      0  going to #fabcon3d tomorrow! talk scheduled fo...\n",
       "26575      0  @user went to fye and they didn't have your al...\n",
       "...      ...                                                ...\n",
       "21724      0  @user   take a look. #ukip in scotland are non...\n",
       "31829      0  happy daddy's day to all the fab dads out ther...\n",
       "28635      0  a girl broken his hea ð ð ââââ #...\n",
       "11916      0  update: my free app will be live within 7 days.  \n",
       "28328      0    #juneteenth, our #annual #celebration of the...\n",
       "\n",
       "[6405 rows x 2 columns]"
      ]
     },
     "execution_count": 7,
     "metadata": {},
     "output_type": "execute_result"
    }
   ],
   "source": [
    "#Créer un dataframe équilibré.\n",
    "speech3[speech3['label'] == 1 ]\n",
    "speech3[speech3['label'] == 0 ].sample(speech3[speech3['label'] == 1 ].count()[0])"
   ]
  },
  {
   "cell_type": "code",
   "execution_count": 8,
   "id": "43b8ce80",
   "metadata": {
    "id": "7348d4d3-0692-4234-a3cf-1232bd7d191a"
   },
   "outputs": [
    {
     "data": {
      "text/html": [
       "<div>\n",
       "<style scoped>\n",
       "    .dataframe tbody tr th:only-of-type {\n",
       "        vertical-align: middle;\n",
       "    }\n",
       "\n",
       "    .dataframe tbody tr th {\n",
       "        vertical-align: top;\n",
       "    }\n",
       "\n",
       "    .dataframe thead th {\n",
       "        text-align: right;\n",
       "    }\n",
       "</style>\n",
       "<table border=\"1\" class=\"dataframe\">\n",
       "  <thead>\n",
       "    <tr style=\"text-align: right;\">\n",
       "      <th></th>\n",
       "      <th>label</th>\n",
       "      <th>text</th>\n",
       "    </tr>\n",
       "  </thead>\n",
       "  <tbody>\n",
       "    <tr>\n",
       "      <th>0</th>\n",
       "      <td>1</td>\n",
       "      <td>#newyearseve #skynews presenter to asian woman...</td>\n",
       "    </tr>\n",
       "    <tr>\n",
       "      <th>1</th>\n",
       "      <td>1</td>\n",
       "      <td>@LILNTHEBASEDGOD her face ugly to me, &amp;amp; he...</td>\n",
       "    </tr>\n",
       "    <tr>\n",
       "      <th>2</th>\n",
       "      <td>0</td>\n",
       "      <td>oh how disappointed i was to see that there wa...</td>\n",
       "    </tr>\n",
       "    <tr>\n",
       "      <th>3</th>\n",
       "      <td>1</td>\n",
       "      <td>\"the dying of the light\"  village green/townÂ²...</td>\n",
       "    </tr>\n",
       "    <tr>\n",
       "      <th>4</th>\n",
       "      <td>1</td>\n",
       "      <td>@BlackManUSA @chrislhayes well that's some cra...</td>\n",
       "    </tr>\n",
       "    <tr>\n",
       "      <th>...</th>\n",
       "      <td>...</td>\n",
       "      <td>...</td>\n",
       "    </tr>\n",
       "    <tr>\n",
       "      <th>12805</th>\n",
       "      <td>0</td>\n",
       "      <td>@user i have missed radio next week back in t...</td>\n",
       "    </tr>\n",
       "    <tr>\n",
       "      <th>12806</th>\n",
       "      <td>1</td>\n",
       "      <td>RT @WorIdStarFunnyy: this the \"I play soccer, ...</td>\n",
       "    </tr>\n",
       "    <tr>\n",
       "      <th>12807</th>\n",
       "      <td>0</td>\n",
       "      <td>kim taeyeon!  @user new project coming up.</td>\n",
       "    </tr>\n",
       "    <tr>\n",
       "      <th>12808</th>\n",
       "      <td>1</td>\n",
       "      <td>\"@BabyAnimalPics: baby monkey bathtime http://...</td>\n",
       "    </tr>\n",
       "    <tr>\n",
       "      <th>12809</th>\n",
       "      <td>1</td>\n",
       "      <td>RT @calvin2000: Really? This is what's concern...</td>\n",
       "    </tr>\n",
       "  </tbody>\n",
       "</table>\n",
       "<p>12810 rows × 2 columns</p>\n",
       "</div>"
      ],
      "text/plain": [
       "       label                                               text\n",
       "0          1  #newyearseve #skynews presenter to asian woman...\n",
       "1          1  @LILNTHEBASEDGOD her face ugly to me, &amp; he...\n",
       "2          0  oh how disappointed i was to see that there wa...\n",
       "3          1  \"the dying of the light\"  village green/townÂ²...\n",
       "4          1  @BlackManUSA @chrislhayes well that's some cra...\n",
       "...      ...                                                ...\n",
       "12805      0   @user i have missed radio next week back in t...\n",
       "12806      1  RT @WorIdStarFunnyy: this the \"I play soccer, ...\n",
       "12807      0       kim taeyeon!  @user new project coming up.  \n",
       "12808      1  \"@BabyAnimalPics: baby monkey bathtime http://...\n",
       "12809      1  RT @calvin2000: Really? This is what's concern...\n",
       "\n",
       "[12810 rows x 2 columns]"
      ]
     },
     "execution_count": 8,
     "metadata": {},
     "output_type": "execute_result"
    }
   ],
   "source": [
    "speech = pd.concat([\n",
    "                    speech3[speech3['label'] == 1] ,\n",
    "                    speech3[speech3['label'] == 0].sample(speech3[speech3['label'] == 1 ].count()[0]\n",
    "                    )],\n",
    "                    axis = 0 )\n",
    "\n",
    "speech = speech.sample(frac=1) #Shuffling du dataset\n",
    "speech = speech.reset_index() #Resetting index\n",
    "speech= speech.drop('index', axis = 1)\n",
    "\n",
    "#aligner les noms de colonnes\n",
    "\n",
    "speech.rename(columns = {'tweet' : 'text'}, inplace = True)\n",
    "speech"
   ]
  },
  {
   "cell_type": "code",
   "execution_count": 9,
   "id": "0f613ce8",
   "metadata": {
    "colab": {
     "base_uri": "https://localhost:8080/",
     "height": 206
    },
    "executionInfo": {
     "elapsed": 23,
     "status": "ok",
     "timestamp": 1637179872518,
     "user": {
      "displayName": "Youss BBB",
      "photoUrl": "https://lh3.googleusercontent.com/a/default-user=s64",
      "userId": "04616849028342739253"
     },
     "user_tz": -60
    },
    "id": "04c229be-b8c3-4a18-88a5-bb2d30ed1853",
    "outputId": "eaf67c20-2b4c-4ab7-884c-2f37d31e7ea0"
   },
   "outputs": [
    {
     "data": {
      "text/html": [
       "<div>\n",
       "<style scoped>\n",
       "    .dataframe tbody tr th:only-of-type {\n",
       "        vertical-align: middle;\n",
       "    }\n",
       "\n",
       "    .dataframe tbody tr th {\n",
       "        vertical-align: top;\n",
       "    }\n",
       "\n",
       "    .dataframe thead th {\n",
       "        text-align: right;\n",
       "    }\n",
       "</style>\n",
       "<table border=\"1\" class=\"dataframe\">\n",
       "  <thead>\n",
       "    <tr style=\"text-align: right;\">\n",
       "      <th></th>\n",
       "      <th>label</th>\n",
       "      <th>text</th>\n",
       "    </tr>\n",
       "  </thead>\n",
       "  <tbody>\n",
       "    <tr>\n",
       "      <th>0</th>\n",
       "      <td>1</td>\n",
       "      <td>#newyearseve #skynews presenter to asian woman...</td>\n",
       "    </tr>\n",
       "    <tr>\n",
       "      <th>1</th>\n",
       "      <td>1</td>\n",
       "      <td>@LILNTHEBASEDGOD her face ugly to me, &amp;amp; he...</td>\n",
       "    </tr>\n",
       "    <tr>\n",
       "      <th>2</th>\n",
       "      <td>0</td>\n",
       "      <td>oh how disappointed i was to see that there wa...</td>\n",
       "    </tr>\n",
       "    <tr>\n",
       "      <th>3</th>\n",
       "      <td>1</td>\n",
       "      <td>\"the dying of the light\"  village green/townÂ²...</td>\n",
       "    </tr>\n",
       "    <tr>\n",
       "      <th>4</th>\n",
       "      <td>1</td>\n",
       "      <td>@BlackManUSA @chrislhayes well that's some cra...</td>\n",
       "    </tr>\n",
       "  </tbody>\n",
       "</table>\n",
       "</div>"
      ],
      "text/plain": [
       "   label                                               text\n",
       "0      1  #newyearseve #skynews presenter to asian woman...\n",
       "1      1  @LILNTHEBASEDGOD her face ugly to me, &amp; he...\n",
       "2      0  oh how disappointed i was to see that there wa...\n",
       "3      1  \"the dying of the light\"  village green/townÂ²...\n",
       "4      1  @BlackManUSA @chrislhayes well that's some cra..."
      ]
     },
     "execution_count": 9,
     "metadata": {},
     "output_type": "execute_result"
    }
   ],
   "source": [
    "speech.head()"
   ]
  },
  {
   "cell_type": "code",
   "execution_count": 10,
   "id": "841e99b8",
   "metadata": {},
   "outputs": [
    {
     "data": {
      "text/plain": [
       "1    6405\n",
       "0    6405\n",
       "Name: label, dtype: int64"
      ]
     },
     "execution_count": 10,
     "metadata": {},
     "output_type": "execute_result"
    }
   ],
   "source": [
    "speech['label'].value_counts()"
   ]
  },
  {
   "cell_type": "code",
   "execution_count": 11,
   "id": "cc7de4a7",
   "metadata": {
    "colab": {
     "base_uri": "https://localhost:8080/"
    },
    "executionInfo": {
     "elapsed": 25,
     "status": "ok",
     "timestamp": 1637179872521,
     "user": {
      "displayName": "Youss BBB",
      "photoUrl": "https://lh3.googleusercontent.com/a/default-user=s64",
      "userId": "04616849028342739253"
     },
     "user_tz": -60
    },
    "id": "06889f95-3f32-4a5c-8bf1-dbf56ce3da04",
    "outputId": "8ec54254-b272-460f-ba68-d44c8783a0a9"
   },
   "outputs": [
    {
     "name": "stdout",
     "output_type": "stream",
     "text": [
      "<class 'pandas.core.frame.DataFrame'>\n",
      "RangeIndex: 12810 entries, 0 to 12809\n",
      "Data columns (total 2 columns):\n",
      " #   Column  Non-Null Count  Dtype \n",
      "---  ------  --------------  ----- \n",
      " 0   label   12810 non-null  int64 \n",
      " 1   text    12810 non-null  object\n",
      "dtypes: int64(1), object(1)\n",
      "memory usage: 200.3+ KB\n"
     ]
    }
   ],
   "source": [
    "speech.info()"
   ]
  },
  {
   "cell_type": "markdown",
   "id": "1069fe8d",
   "metadata": {
    "id": "0814bba7-7d09-462b-b12e-7ff2a8888ed7"
   },
   "source": [
    "##### "
   ]
  },
  {
   "cell_type": "markdown",
   "id": "dc3b3a60",
   "metadata": {
    "id": "91a18313-5591-4bd0-bb50-3ccb75cb5482"
   },
   "source": [
    "### Preprocessing texts"
   ]
  },
  {
   "cell_type": "code",
   "execution_count": 12,
   "id": "cd152216",
   "metadata": {
    "colab": {
     "base_uri": "https://localhost:8080/"
    },
    "executionInfo": {
     "elapsed": 7191,
     "status": "ok",
     "timestamp": 1637229544799,
     "user": {
      "displayName": "Youss BBB",
      "photoUrl": "https://lh3.googleusercontent.com/a/default-user=s64",
      "userId": "04616849028342739253"
     },
     "user_tz": -60
    },
    "id": "TAeJIzW8OVmc",
    "outputId": "09b35c52-4072-4138-b241-e8b278c294ed"
   },
   "outputs": [
    {
     "name": "stdout",
     "output_type": "stream",
     "text": [
      "✔ Download and installation successful\n",
      "You can now load the package via spacy.load('en_core_web_md')\n"
     ]
    }
   ],
   "source": [
    "spacy.cli.download(\"en_core_web_md\")\n",
    "nlp = spacy.load(\"en_core_web_md\")"
   ]
  },
  {
   "cell_type": "code",
   "execution_count": 13,
   "id": "f0b3da81",
   "metadata": {
    "id": "8989912f-fc28-4363-97e2-720986089762"
   },
   "outputs": [],
   "source": [
    "nlp = spacy.load(\"en_core_web_md\")"
   ]
  },
  {
   "cell_type": "code",
   "execution_count": 14,
   "id": "0632e6cc-e07f-43e6-8408-62b95574720d",
   "metadata": {},
   "outputs": [],
   "source": [
    "# https://stackoverflow.com/a/47091490\n",
    "def decontracted(phrase):\n",
    "    \"\"\"Convert contractions like \"can't\" into \"can not\"\n",
    "    \"\"\"\n",
    "    # specific\n",
    "    phrase = re.sub(r\"won\\'t\", \"will not\", phrase)\n",
    "    phrase = re.sub(r\"can\\'t\", \"can not\", phrase)\n",
    "\n",
    "    # general\n",
    "    #phrase = re.sub(r\"n't\", \" not\", phrase) # resulted in \"ca not\" when sentence started with \"can't\"\n",
    "    phrase = re.sub(r\"\\'re\", \" are\", phrase)\n",
    "    phrase = re.sub(r\"\\'s\", \" is\", phrase)\n",
    "    phrase = re.sub(r\"\\'d\", \" would\", phrase)\n",
    "    phrase = re.sub(r\"\\'ll\", \" will\", phrase)\n",
    "    phrase = re.sub(r\"\\'t\", \" not\", phrase)\n",
    "    phrase = re.sub(r\"\\'ve\", \" have\", phrase)\n",
    "    phrase = re.sub(r\"\\'m\", \" am\", phrase)\n",
    "    return phrase\n",
    "\n",
    "\n",
    "slang_abbrev_dict = {\n",
    "    'AFAIK': 'As Far As I Know',\n",
    "    'AFK': 'Away From Keyboard',\n",
    "    'ASAP': 'As Soon As Possible',\n",
    "    'ATK': 'At The Keyboard',\n",
    "    'ATM': 'At The Moment',\n",
    "    'A3': 'Anytime, Anywhere, Anyplace',\n",
    "    'BAK': 'Back At Keyboard',\n",
    "    'BBL': 'Be Back Later',\n",
    "    'BBS': 'Be Back Soon',\n",
    "    'BFN': 'Bye For Now',\n",
    "    'B4N': 'Bye For Now',\n",
    "    'BRB': 'Be Right Back',\n",
    "    'BRT': 'Be Right There',\n",
    "    'BTW': 'By The Way',\n",
    "    'B4': 'Before',\n",
    "    'B4N': 'Bye For Now',\n",
    "    'CU': 'See You',\n",
    "    'CUL8R': 'See You Later',\n",
    "    'CYA': 'See You',\n",
    "    'FAQ': 'Frequently Asked Questions',\n",
    "    'FC': 'Fingers Crossed',\n",
    "    'FWIW': 'For What It\\'s Worth',\n",
    "    'FYI': 'For Your Information',\n",
    "    'GAL': 'Get A Life',\n",
    "    'GG': 'Good Game',\n",
    "    'GN': 'Good Night',\n",
    "    'GMTA': 'Great Minds Think Alike',\n",
    "    'GR8': 'Great!',\n",
    "    'G9': 'Genius',\n",
    "    'IC': 'I See',\n",
    "    'ICQ': 'I Seek you',\n",
    "    'ILU': 'I Love You',\n",
    "    'IMHO': 'In My Humble Opinion',\n",
    "    'IMO': 'In My Opinion',\n",
    "    'IOW': 'In Other Words',\n",
    "    'IRL': 'In Real Life',\n",
    "    'KISS': 'Keep It Simple, Stupid',\n",
    "    'LDR': 'Long Distance Relationship',\n",
    "    'LMAO': 'Laugh My Ass Off',\n",
    "    'LOL': 'Laughing Out Loud',\n",
    "    'LTNS': 'Long Time No See',\n",
    "    'L8R': 'Later',\n",
    "    'MTE': 'My Thoughts Exactly',\n",
    "    'M8': 'Mate',\n",
    "    'NRN': 'No Reply Necessary',\n",
    "    'OIC': 'Oh I See',\n",
    "    'OMG': 'Oh My God',\n",
    "    'PITA': 'Pain In The Ass',\n",
    "    'PRT': 'Party',\n",
    "    'PRW': 'Parents Are Watching',\n",
    "    'QPSA?': 'Que Pasa?',\n",
    "    'ROFL': 'Rolling On The Floor Laughing',\n",
    "    'ROFLOL': 'Rolling On The Floor Laughing Out Loud',\n",
    "    'ROTFLMAO': 'Rolling On The Floor Laughing My Ass Off',\n",
    "    'SK8': 'Skate',\n",
    "    'STATS': 'Your sex and age',\n",
    "    'ASL': 'Age, Sex, Location',\n",
    "    'THX': 'Thank You',\n",
    "    'TTFN': 'Ta-Ta For Now!',\n",
    "    'TTYL': 'Talk To You Later',\n",
    "    'U': 'You',\n",
    "    'U2': 'You Too',\n",
    "    'U4E': 'Yours For Ever',\n",
    "    'WB': 'Welcome Back',\n",
    "    'WTF': 'What The Fuck',\n",
    "    'WTG': 'Way To Go!',\n",
    "    'WUF': 'Where Are You From?',\n",
    "    'W8': 'Wait',\n",
    "    '7K': 'Sick:-D Laugher'\n",
    "}\n",
    "\n",
    "\n",
    "def unslang(text):\n",
    "    \"\"\"Converts text like \"OMG\" into \"Oh my God\"\n",
    "    \"\"\"\n",
    "    if text.upper() in slang_abbrev_dict.keys():\n",
    "        return slang_abbrev_dict[text.upper()]\n",
    "    else:\n",
    "        return text\n",
    "\n",
    "\n",
    "stopwords = [\n",
    "    \"a\", \"about\", \"above\", \"after\", \"again\", \"against\", \"ain\", \"all\", \"am\",\n",
    "    \"an\", \"and\", \"any\", \"are\", \"aren\", \"aren't\", \"as\", \"at\", \"be\", \"because\",\n",
    "    \"been\", \"before\", \"being\", \"below\", \"between\", \"both\", \"but\", \"by\", \"can\",\n",
    "    \"couldn\", \"couldn't\", \"d\", \"did\", \"didn\", \"didn't\", \"do\", \"does\", \"doesn\",\n",
    "    \"doesn't\", \"doing\", \"don\", \"don't\", \"down\", \"during\", \"each\", \"few\", \"for\",\n",
    "    \"from\", \"further\", \"had\", \"hadn\", \"hadn't\", \"has\", \"hasn\", \"hasn't\", \"have\",\n",
    "    \"haven\", \"haven't\", \"having\", \"he\", \"her\", \"here\", \"hers\", \"herself\", \"him\",\n",
    "    \"himself\", \"his\", \"how\", \"i\", \"if\", \"in\", \"into\", \"is\", \"isn\", \"isn't\",\n",
    "    \"it\", \"it's\", \"its\", \"itself\", \"just\", \"ll\", \"m\", \"ma\", \"me\", \"mightn\",\n",
    "    \"mightn't\", \"more\", \"most\", \"mustn\", \"mustn't\", \"my\", \"myself\", \"needn\",\n",
    "    \"needn't\", \"no\", \"nor\", \"not\", \"now\", \"o\", \"of\", \"off\", \"on\", \"once\",\n",
    "    \"only\", \"or\", \"other\", \"our\", \"ours\", \"ourselves\", \"out\", \"over\", \"own\",\n",
    "    \"re\", \"s\", \"same\", \"shan\", \"shan't\", \"she\", \"she's\", \"should\", \"should've\",\n",
    "    \"shouldn\", \"shouldn't\", \"so\", \"some\", \"such\", \"t\", \"than\", \"that\",\n",
    "    \"that'll\", \"the\", \"their\", \"theirs\", \"them\", \"themselves\", \"then\", \"there\",\n",
    "    \"these\", \"they\", \"this\", \"those\", \"through\", \"to\", \"too\", \"under\", \"until\",\n",
    "    \"up\", \"ve\", \"very\", \"was\", \"wasn\", \"wasn't\", \"we\", \"were\", \"weren\",\n",
    "    \"weren't\", \"what\", \"when\", \"where\", \"which\", \"while\", \"who\", \"whom\", \"why\",\n",
    "    \"will\", \"with\", \"won\", \"won't\", \"wouldn\", \"wouldn't\", \"y\", \"you\", \"you'd\",\n",
    "    \"you'll\", \"you're\", \"you've\", \"your\", \"yours\", \"yourself\", \"yourselves\",\n",
    "    \"could\", \"he'd\", \"he'll\", \"he's\", \"here's\", \"how's\", \"i'd\", \"i'll\", \"i'm\",\n",
    "    \"i've\", \"let's\", \"ought\", \"she'd\", \"she'll\", \"that's\", \"there's\", \"they'd\",\n",
    "    \"they'll\", \"they're\", \"they've\", \"we'd\", \"we'll\", \"we're\", \"we've\",\n",
    "    \"what's\", \"when's\", \"where's\", \"who's\", \"why's\", \"would\", \"able\", \"abst\",\n",
    "    \"accordance\", \"according\", \"accordingly\", \"across\", \"act\", \"actually\",\n",
    "    \"added\", \"adj\", \"affected\", \"affecting\", \"affects\", \"afterwards\", \"ah\",\n",
    "    \"almost\", \"alone\", \"along\", \"already\", \"also\", \"although\", \"always\",\n",
    "    \"among\", \"amongst\", \"announce\", \"another\", \"anybody\", \"anyhow\", \"anymore\",\n",
    "    \"anyone\", \"anything\", \"anyway\", \"anyways\", \"anywhere\", \"apparently\",\n",
    "    \"approximately\", \"arent\", \"arise\", \"around\", \"aside\", \"ask\", \"asking\",\n",
    "    \"auth\", \"available\", \"away\", \"awfully\", \"b\", \"back\", \"became\", \"become\",\n",
    "    \"becomes\", \"becoming\", \"beforehand\", \"begin\", \"beginning\", \"beginnings\",\n",
    "    \"begins\", \"behind\", \"believe\", \"beside\", \"besides\", \"beyond\", \"biol\",\n",
    "    \"brief\", \"briefly\", \"c\", \"ca\", \"came\", \"cannot\", \"can't\", \"cause\", \"causes\",\n",
    "    \"certain\", \"certainly\", \"co\", \"com\", \"come\", \"comes\", \"contain\",\n",
    "    \"containing\", \"contains\", \"couldnt\", \"date\", \"different\", \"done\",\n",
    "    \"downwards\", \"due\", \"e\", \"ed\", \"edu\", \"effect\", \"eg\", \"eight\", \"eighty\",\n",
    "    \"either\", \"else\", \"elsewhere\", \"end\", \"ending\", \"enough\", \"especially\",\n",
    "    \"et\", \"etc\", \"even\", \"ever\", \"every\", \"everybody\", \"everyone\", \"everything\",\n",
    "    \"everywhere\", \"ex\", \"except\", \"f\", \"far\", \"ff\", \"fifth\", \"first\", \"five\",\n",
    "    \"fix\", \"followed\", \"following\", \"follows\", \"former\", \"formerly\", \"forth\",\n",
    "    \"found\", \"four\", \"furthermore\", \"g\", \"gave\", \"get\", \"gets\", \"getting\",\n",
    "    \"give\", \"given\", \"gives\", \"giving\", \"go\", \"goes\", \"gone\", \"got\", \"gotten\",\n",
    "    \"h\", \"happens\", \"hardly\", \"hed\", \"hence\", \"hereafter\", \"hereby\", \"herein\",\n",
    "    \"heres\", \"hereupon\", \"hes\", \"hi\", \"hid\", \"hither\", \"home\", \"howbeit\",\n",
    "    \"however\", \"hundred\", \"id\", \"ie\", \"im\", \"immediate\", \"immediately\",\n",
    "    \"importance\", \"important\", \"inc\", \"indeed\", \"index\", \"information\",\n",
    "    \"instead\", \"invention\", \"inward\", \"itd\", \"it'll\", \"j\", \"k\", \"keep\", \"keeps\",\n",
    "    \"kept\", \"kg\", \"km\", \"know\", \"known\", \"knows\", \"l\", \"largely\", \"last\",\n",
    "    \"lately\", \"later\", \"latter\", \"latterly\", \"least\", \"less\", \"lest\", \"let\",\n",
    "    \"lets\", \"like\", \"liked\", \"likely\", \"line\", \"little\", \"'ll\", \"look\",\n",
    "    \"looking\", \"looks\", \"ltd\", \"made\", \"mainly\", \"make\", \"makes\", \"many\", \"may\",\n",
    "    \"maybe\", \"mean\", \"means\", \"meantime\", \"meanwhile\", \"merely\", \"mg\", \"might\",\n",
    "    \"million\", \"miss\", \"ml\", \"moreover\", \"mostly\", \"mr\", \"mrs\", \"much\", \"mug\",\n",
    "    \"must\", \"n\", \"na\", \"name\", \"namely\", \"nay\", \"nd\", \"near\", \"nearly\",\n",
    "    \"necessarily\", \"necessary\", \"need\", \"needs\", \"neither\", \"never\",\n",
    "    \"nevertheless\", \"new\", \"next\", \"nine\", \"ninety\", \"nobody\", \"non\", \"none\",\n",
    "    \"nonetheless\", \"noone\", \"normally\", \"nos\", \"noted\", \"nothing\", \"nowhere\",\n",
    "    \"obtain\", \"obtained\", \"obviously\", \"often\", \"oh\", \"ok\", \"okay\", \"old\",\n",
    "    \"omitted\", \"one\", \"ones\", \"onto\", \"ord\", \"others\", \"otherwise\", \"outside\",\n",
    "    \"overall\", \"owing\", \"p\", \"page\", \"pages\", \"part\", \"particular\",\n",
    "    \"particularly\", \"past\", \"per\", \"perhaps\", \"placed\", \"please\", \"plus\",\n",
    "    \"poorly\", \"possible\", \"possibly\", \"potentially\", \"pp\", \"predominantly\",\n",
    "    \"present\", \"previously\", \"primarily\", \"probably\", \"promptly\", \"proud\",\n",
    "    \"provides\", \"put\", \"q\", \"que\", \"quickly\", \"quite\", \"qv\", \"r\", \"ran\",\n",
    "    \"rather\", \"rd\", \"readily\", \"really\", \"recent\", \"recently\", \"ref\", \"refs\",\n",
    "    \"regarding\", \"regardless\", \"regards\", \"related\", \"relatively\", \"research\",\n",
    "    \"respectively\", \"resulted\", \"resulting\", \"results\", \"right\", \"run\", \"said\",\n",
    "    \"saw\", \"say\", \"saying\", \"says\", \"sec\", \"section\", \"see\", \"seeing\", \"seem\",\n",
    "    \"seemed\", \"seeming\", \"seems\", \"seen\", \"self\", \"selves\", \"sent\", \"seven\",\n",
    "    \"several\", \"shall\", \"shed\", \"shes\", \"show\", \"showed\", \"shown\", \"showns\",\n",
    "    \"shows\", \"significant\", \"significantly\", \"similar\", \"similarly\", \"since\",\n",
    "    \"six\", \"slightly\", \"somebody\", \"somehow\", \"someone\", \"somethan\",\n",
    "    \"something\", \"sometime\", \"sometimes\", \"somewhat\", \"somewhere\", \"soon\",\n",
    "    \"sorry\", \"specifically\", \"specified\", \"specify\", \"specifying\", \"still\",\n",
    "    \"stop\", \"strongly\", \"sub\", \"substantially\", \"successfully\", \"sufficiently\",\n",
    "    \"suggest\", \"sup\", \"sure\", \"take\", \"taken\", \"taking\", \"tell\", \"tends\", \"th\",\n",
    "    \"thank\", \"thanks\", \"thanx\", \"thats\", \"that've\", \"thence\", \"thereafter\",\n",
    "    \"thereby\", \"thered\", \"therefore\", \"therein\", \"there'll\", \"thereof\",\n",
    "    \"therere\", \"theres\", \"thereto\", \"thereupon\", \"there've\", \"theyd\", \"theyre\",\n",
    "    \"think\", \"thou\", \"though\", \"thoughh\", \"thousand\", \"throug\", \"throughout\",\n",
    "    \"thru\", \"thus\", \"til\", \"tip\", \"together\", \"took\", \"toward\", \"towards\",\n",
    "    \"tried\", \"tries\", \"truly\", \"try\", \"trying\", \"ts\", \"twice\", \"two\", \"u\", \"un\",\n",
    "    \"unfortunately\", \"unless\", \"unlike\", \"unlikely\", \"unto\", \"upon\", \"ups\",\n",
    "    \"us\", \"use\", \"used\", \"useful\", \"usefully\", \"usefulness\", \"uses\", \"using\",\n",
    "    \"usually\", \"v\", \"value\", \"various\", \"'ve\", \"via\", \"viz\", \"vol\", \"vols\",\n",
    "    \"vs\", \"w\", \"want\", \"wants\", \"wasnt\", \"way\", \"wed\", \"welcome\", \"went\",\n",
    "    \"werent\", \"whatever\", \"what'll\", \"whats\", \"whence\", \"whenever\",\n",
    "    \"whereafter\", \"whereas\", \"whereby\", \"wherein\", \"wheres\", \"whereupon\",\n",
    "    \"wherever\", \"whether\", \"whim\", \"whither\", \"whod\", \"whoever\", \"whole\",\n",
    "    \"who'll\", \"whomever\", \"whos\", \"whose\", \"widely\", \"willing\", \"wish\",\n",
    "    \"within\", \"without\", \"wont\", \"words\", \"world\", \"wouldnt\", \"www\", \"x\", \"yes\",\n",
    "    \"yet\", \"youd\", \"youre\", \"z\", \"zero\", \"a's\", \"ain't\", \"allow\", \"allows\",\n",
    "    \"apart\", \"appear\", \"appreciate\", \"appropriate\", \"associated\", \"best\",\n",
    "    \"better\", \"c'mon\", \"c's\", \"cant\", \"changes\", \"clearly\", \"concerning\",\n",
    "    \"consequently\", \"consider\", \"considering\", \"corresponding\", \"course\",\n",
    "    \"currently\", \"definitely\", \"described\", \"despite\", \"entirely\", \"exactly\",\n",
    "    \"example\", \"going\", \"greetings\", \"hello\", \"help\", \"hopefully\", \"ignored\",\n",
    "    \"inasmuch\", \"indicate\", \"indicated\", \"indicates\", \"inner\", \"insofar\",\n",
    "    \"it'd\", \"keep\", \"keeps\", \"novel\", \"presumably\", \"reasonably\", \"second\",\n",
    "    \"secondly\", \"sensible\", \"serious\", \"seriously\", \"sure\", \"t's\", \"third\",\n",
    "    \"thorough\", \"thoroughly\", \"three\", \"well\", \"wonder\", \"a\", \"about\", \"above\",\n",
    "    \"above\", \"across\", \"after\", \"afterwards\", \"again\", \"against\", \"all\",\n",
    "    \"almost\", \"alone\", \"along\", \"already\", \"also\", \"although\", \"always\", \"am\",\n",
    "    \"among\", \"amongst\", \"amoungst\", \"amount\", \"an\", \"and\", \"another\", \"any\",\n",
    "    \"anyhow\", \"anyone\", \"anything\", \"anyway\", \"anywhere\", \"are\", \"around\", \"as\",\n",
    "    \"at\", \"back\", \"be\", \"became\", \"because\", \"become\", \"becomes\", \"becoming\",\n",
    "    \"been\", \"before\", \"beforehand\", \"behind\", \"being\", \"below\", \"beside\",\n",
    "    \"besides\", \"between\", \"beyond\", \"bill\", \"both\", \"bottom\", \"but\", \"by\",\n",
    "    \"call\", \"can\", \"cannot\", \"cant\", \"co\", \"con\", \"could\", \"couldnt\", \"cry\",\n",
    "    \"de\", \"describe\", \"detail\", \"do\", \"done\", \"down\", \"due\", \"during\", \"each\",\n",
    "    \"eg\", \"eight\", \"either\", \"eleven\", \"else\", \"elsewhere\", \"empty\", \"enough\",\n",
    "    \"etc\", \"even\", \"ever\", \"every\", \"everyone\", \"everything\", \"everywhere\",\n",
    "    \"except\", \"few\", \"fifteen\", \"fify\", \"fill\", \"find\", \"fire\", \"first\", \"five\",\n",
    "    \"for\", \"former\", \"formerly\", \"forty\", \"found\", \"four\", \"from\", \"front\",\n",
    "    \"full\", \"further\", \"get\", \"give\", \"go\", \"had\", \"has\", \"hasnt\", \"have\", \"he\",\n",
    "    \"hence\", \"her\", \"here\", \"hereafter\", \"hereby\", \"herein\", \"hereupon\", \"hers\",\n",
    "    \"herself\", \"him\", \"himself\", \"his\", \"how\", \"however\", \"hundred\", \"ie\", \"if\",\n",
    "    \"in\", \"inc\", \"indeed\", \"interest\", \"into\", \"is\", \"it\", \"its\", \"itself\",\n",
    "    \"keep\", \"last\", \"latter\", \"latterly\", \"least\", \"less\", \"ltd\", \"made\",\n",
    "    \"many\", \"may\", \"me\", \"meanwhile\", \"might\", \"mill\", \"mine\", \"more\",\n",
    "    \"moreover\", \"most\", \"mostly\", \"move\", \"much\", \"must\", \"my\", \"myself\",\n",
    "    \"name\", \"namely\", \"neither\", \"never\", \"nevertheless\", \"next\", \"nine\", \"no\",\n",
    "    \"nobody\", \"none\", \"noone\", \"nor\", \"not\", \"nothing\", \"now\", \"nowhere\", \"of\",\n",
    "    \"off\", \"often\", \"on\", \"once\", \"one\", \"only\", \"onto\", \"or\", \"other\",\n",
    "    \"others\", \"otherwise\", \"our\", \"ours\", \"ourselves\", \"out\", \"over\", \"own\",\n",
    "    \"part\", \"per\", \"perhaps\", \"please\", \"put\", \"rather\", \"re\", \"same\", \"see\",\n",
    "    \"seem\", \"seemed\", \"seeming\", \"seems\", \"serious\", \"several\", \"she\", \"should\",\n",
    "    \"show\", \"side\", \"since\", \"sincere\", \"six\", \"sixty\", \"so\", \"some\", \"somehow\",\n",
    "    \"someone\", \"something\", \"sometime\", \"sometimes\", \"somewhere\", \"still\",\n",
    "    \"such\", \"system\", \"take\", \"ten\", \"than\", \"that\", \"the\", \"their\", \"them\",\n",
    "    \"themselves\", \"then\", \"thence\", \"there\", \"thereafter\", \"thereby\",\n",
    "    \"therefore\", \"therein\", \"thereupon\", \"these\", \"they\", \"thickv\", \"thin\",\n",
    "    \"third\", \"this\", \"those\", \"though\", \"three\", \"through\", \"throughout\",\n",
    "    \"thru\", \"thus\", \"to\", \"together\", \"too\", \"top\", \"toward\", \"towards\",\n",
    "    \"twelve\", \"twenty\", \"two\", \"un\", \"under\", \"until\", \"up\", \"upon\", \"us\",\n",
    "    \"very\", \"via\", \"was\", \"we\", \"well\", \"were\", \"what\", \"whatever\", \"when\",\n",
    "    \"whence\", \"whenever\", \"where\", \"whereafter\", \"whereas\", \"whereby\",\n",
    "    \"wherein\", \"whereupon\", \"wherever\", \"whether\", \"which\", \"while\", \"whither\",\n",
    "    \"who\", \"whoever\", \"whole\", \"whom\", \"whose\", \"why\", \"will\", \"with\", \"within\",\n",
    "    \"without\", \"would\", \"yet\", \"you\", \"your\", \"yours\", \"yourself\", \"yourselves\",\n",
    "    \"the\", \"a\", \"b\", \"c\", \"d\", \"e\", \"f\", \"g\", \"h\", \"i\", \"j\", \"k\", \"l\", \"m\", \"n\",\n",
    "    \"o\", \"p\", \"q\", \"r\", \"s\", \"t\", \"u\", \"v\", \"w\", \"x\", \"y\", \"z\", \"A\", \"B\", \"C\",\n",
    "    \"D\", \"E\", \"F\", \"G\", \"H\", \"I\", \"J\", \"K\", \"L\", \"M\", \"N\", \"O\", \"P\", \"Q\", \"R\",\n",
    "    \"S\", \"T\", \"U\", \"V\", \"W\", \"X\", \"Y\", \"Z\", \"co\", \"op\", \"research-articl\",\n",
    "    \"pagecount\", \"cit\", \"ibid\", \"les\", \"le\", \"au\", \"que\", \"est\", \"pas\", \"vol\",\n",
    "    \"el\", \"los\", \"pp\", \"u201d\", \"well-b\", \"http\", \"volumtype\", \"par\", \"0o\",\n",
    "    \"0s\", \"3a\", \"3b\", \"3d\", \"6b\", \"6o\", \"a1\", \"a2\", \"a3\", \"a4\", \"ab\", \"ac\",\n",
    "    \"ad\", \"ae\", \"af\", \"ag\", \"aj\", \"al\", \"an\", \"ao\", \"ap\", \"ar\", \"av\", \"aw\",\n",
    "    \"ax\", \"ay\", \"az\", \"b1\", \"b2\", \"b3\", \"ba\", \"bc\", \"bd\", \"be\", \"bi\", \"bj\",\n",
    "    \"bk\", \"bl\", \"bn\", \"bp\", \"br\", \"bs\", \"bt\", \"bu\", \"bx\", \"c1\", \"c2\", \"c3\",\n",
    "    \"cc\", \"cd\", \"ce\", \"cf\", \"cg\", \"ch\", \"ci\", \"cj\", \"cl\", \"cm\", \"cn\", \"cp\",\n",
    "    \"cq\", \"cr\", \"cs\", \"ct\", \"cu\", \"cv\", \"cx\", \"cy\", \"cz\", \"d2\", \"da\", \"dc\",\n",
    "    \"dd\", \"de\", \"df\", \"di\", \"dj\", \"dk\", \"dl\", \"do\", \"dp\", \"dr\", \"ds\", \"dt\",\n",
    "    \"du\", \"dx\", \"dy\", \"e2\", \"e3\", \"ea\", \"ec\", \"ed\", \"ee\", \"ef\", \"ei\", \"ej\",\n",
    "    \"el\", \"em\", \"en\", \"eo\", \"ep\", \"eq\", \"er\", \"es\", \"et\", \"eu\", \"ev\", \"ex\",\n",
    "    \"ey\", \"f2\", \"fa\", \"fc\", \"ff\", \"fi\", \"fj\", \"fl\", \"fn\", \"fo\", \"fr\", \"fs\",\n",
    "    \"ft\", \"fu\", \"fy\", \"ga\", \"ge\", \"gi\", \"gj\", \"gl\", \"go\", \"gr\", \"gs\", \"gy\",\n",
    "    \"h2\", \"h3\", \"hh\", \"hi\", \"hj\", \"ho\", \"hr\", \"hs\", \"hu\", \"hy\", \"i\", \"i2\", \"i3\",\n",
    "    \"i4\", \"i6\", \"i7\", \"i8\", \"ia\", \"ib\", \"ic\", \"ie\", \"ig\", \"ih\", \"ii\", \"ij\",\n",
    "    \"il\", \"in\", \"io\", \"ip\", \"iq\", \"ir\", \"iv\", \"ix\", \"iy\", \"iz\", \"jj\", \"jr\",\n",
    "    \"js\", \"jt\", \"ju\", \"ke\", \"kg\", \"kj\", \"km\", \"ko\", \"l2\", \"la\", \"lb\", \"lc\",\n",
    "    \"lf\", \"lj\", \"ln\", \"lo\", \"lr\", \"ls\", \"lt\", \"m2\", \"ml\", \"mn\", \"mo\", \"ms\",\n",
    "    \"mt\", \"mu\", \"n2\", \"nc\", \"nd\", \"ne\", \"ng\", \"ni\", \"nj\", \"nl\", \"nn\", \"nr\",\n",
    "    \"ns\", \"nt\", \"ny\", \"oa\", \"ob\", \"oc\", \"od\", \"of\", \"og\", \"oi\", \"oj\", \"ol\",\n",
    "    \"om\", \"on\", \"oo\", \"oq\", \"or\", \"os\", \"ot\", \"ou\", \"ow\", \"ox\", \"oz\", \"p1\",\n",
    "    \"p2\", \"p3\", \"pc\", \"pd\", \"pe\", \"pf\", \"ph\", \"pi\", \"pj\", \"pk\", \"pl\", \"pm\",\n",
    "    \"pn\", \"po\", \"pq\", \"pr\", \"ps\", \"pt\", \"pu\", \"py\", \"qj\", \"qu\", \"r2\", \"ra\",\n",
    "    \"rc\", \"rd\", \"rf\", \"rh\", \"ri\", \"rj\", \"rl\", \"rm\", \"rn\", \"ro\", \"rq\", \"rr\",\n",
    "    \"rs\", \"rt\", \"ru\", \"rv\", \"ry\", \"s2\", \"sa\", \"sc\", \"sd\", \"se\", \"sf\", \"si\",\n",
    "    \"sj\", \"sl\", \"sm\", \"sn\", \"sp\", \"sq\", \"sr\", \"ss\", \"st\", \"sy\", \"sz\", \"t1\",\n",
    "    \"t2\", \"t3\", \"tb\", \"tc\", \"td\", \"te\", \"tf\", \"th\", \"ti\", \"tj\", \"tl\", \"tm\",\n",
    "    \"tn\", \"tp\", \"tq\", \"tr\", \"ts\", \"tt\", \"tv\", \"tx\", \"ue\", \"ui\", \"uj\", \"uk\",\n",
    "    \"um\", \"un\", \"uo\", \"ur\", \"ut\", \"va\", \"wa\", \"vd\", \"wi\", \"vj\", \"vo\", \"wo\",\n",
    "    \"vq\", \"vt\", \"vu\", \"x1\", \"x2\", \"x3\", \"xf\", \"xi\", \"xj\", \"xk\", \"xl\", \"xn\",\n",
    "    \"xo\", \"xs\", \"xt\", \"xv\", \"xx\", \"y2\", \"yj\", \"yl\", \"yr\", \"ys\", \"yt\", \"zi\", \"zz\"\n",
    "]\n",
    "\n",
    "\n",
    "def remove_emoji(text):\n",
    "    emoji_pattern = re.compile(\n",
    "        \"[\"\n",
    "        u\"\\U0001F600-\\U0001F64F\"  # emoticons\n",
    "        u\"\\U0001F300-\\U0001F5FF\"  # symbols & pictographs\n",
    "        u\"\\U0001F680-\\U0001F6FF\"  # transport & map symbols\n",
    "        u\"\\U0001F1E0-\\U0001F1FF\"  # flags (iOS)\n",
    "        u\"\\U00002702-\\U000027B0\"\n",
    "        u\"\\U000024C2-\\U0001F251\"\n",
    "        \"]+\",\n",
    "        flags=re.UNICODE)\n",
    "    return emoji_pattern.sub(r'', text)\n",
    "\n",
    "\n",
    "# from: https://www.kaggle.com/shahules/basic-eda-cleaning-and-glove\n",
    "# maybe a bug, it removes question marks?\n",
    "spell = SpellChecker()\n",
    "\n",
    "def correct_spellings(text):\n",
    "    corrected_text = []\n",
    "    misspelled_words = spell.unknown(text.split())\n",
    "    for word in text.split():\n",
    "        if word in misspelled_words:\n",
    "            corrected_text.append(spell.correction(word))\n",
    "        else:\n",
    "            corrected_text.append(word)\n",
    "    return \" \".join(corrected_text)\n",
    "\n",
    "def remove_urls(text):\n",
    "    text = clean(r\"http\\S+\", text)\n",
    "    text = clean(r\"www\\S+\", text)\n",
    "    text = clean(r\"pic.twitter.com\\S+\", text)\n",
    "\n",
    "    return text\n",
    "\n",
    "def clean(reg_exp, text):\n",
    "    text = re.sub(reg_exp, \" \", text)\n",
    "\n",
    "    # replace multiple spaces with one.\n",
    "    text = re.sub('\\s{2,}', ' ', text)\n",
    "\n",
    "    return text\n",
    "\n",
    "lemmatizer = WordNetLemmatizer()\n",
    "\n",
    "def clean_all(t, correct_spelling=False, remove_stopwords=False, lemmatize=False):\n",
    "    \n",
    "    # first do bulk cleanup on tokens that don't depend on word tokenization\n",
    "\n",
    "    t = re.sub('rt', '', t) #'Retweets'\n",
    "    \n",
    "    t = re.sub('[0-9]', '', t) #chiffre\n",
    "    \n",
    "    #Usernames\n",
    "    t = re.sub( r'(^|[^@\\w])@(\\w{1,15})\\b', '',t) #Twitter Usernames \n",
    "    \n",
    "    # remove xml tags\n",
    "    t = clean(r\"<[^>]+>\", t)\n",
    "    t = clean(r\"&lt;\", t)\n",
    "    t = clean(r\"&gt;\", t)\n",
    "\n",
    "    # remove URLs\n",
    "    t = remove_urls(t)\n",
    "\n",
    "    # https://stackoverflow.com/a/35041925\n",
    "    # replace multiple punctuation with single. Ex: !?!?!? would become ?\n",
    "    t = clean(r'[\\?\\.\\!]+(?=[\\?\\.\\!])', t)\n",
    "\n",
    "    t = remove_emoji(t)\n",
    "\n",
    "    # expand common contractions like \"I'm\" \"he'll\"\n",
    "    t = decontracted(t)\n",
    "\n",
    "    # now remove/expand bad patterns per word\n",
    "    words = word_tokenize(t)\n",
    "\n",
    "    # remove stopwords\n",
    "    if remove_stopwords is True:\n",
    "        words = [w for w in words if not w in stopwords]\n",
    "\n",
    "    clean_words = []\n",
    "\n",
    "    for w in words:\n",
    "        # normalize punctuation\n",
    "        w = re.sub(r'&', 'and', w)\n",
    "\n",
    "        # expand slang like OMG = Oh my God\n",
    "        w = unslang(w)\n",
    "\n",
    "        if lemmatize is True:\n",
    "            w = lemmatizer.lemmatize(w)\n",
    "        \n",
    "        clean_words.append(w)\n",
    "\n",
    "        # join the words back into a full string\n",
    "        #t = untokenize(clean_words)\n",
    "\n",
    "    if correct_spelling is True:\n",
    "        # this resulted in lots of lost punctuation - omitting for now. Also greatly speeds things up\n",
    "        t = correct_spellings(t)\n",
    "\n",
    "    # finally, remove any non ascii and special characters that made it through\n",
    "    t = clean(r\"[^A-Za-z0-9\\.\\'!\\?,\\$]\", t)\n",
    "    \n",
    "    #Removing punctuation and lower\n",
    "    t = re.sub('[#$%&?,!()*+-/:;<=>@]', '', t).lower()\n",
    "\n",
    "    return t\n",
    "\n",
    "\n",
    "def clean_dataframe(df, correct_spelling=False, remove_stopwords=False):\n",
    "    df['clean'] = df.apply(lambda x: clean_all(x['text'], correct_spelling=correct_spelling, remove_stopwords=remove_stopwords), axis=1)\n",
    "\n",
    "    return df\n",
    "\n",
    "\n",
    "def parallelize_dataframe(\n",
    "        df, func, n_cores=2):  # I think Kaggle notebooks only have 2 cores?\n",
    "    df_split = np.array_split(df, n_cores)\n",
    "    pool = Pool(n_cores)\n",
    "    df = pd.concat(pool.map(func, df_split))\n",
    "    pool.close()\n",
    "    pool.join()\n",
    "\n",
    "    return df"
   ]
  },
  {
   "cell_type": "code",
   "execution_count": 15,
   "id": "df9a09b8-350b-4da3-a250-62e000a1aa79",
   "metadata": {},
   "outputs": [],
   "source": [
    "#Cleaning process\n",
    "speech['clean_text'] = speech['text'].apply(lambda x: clean_all(x, \n",
    "                                                                correct_spelling=True, \n",
    "                                                                remove_stopwords=True, \n",
    "                                                                lemmatize=False))"
   ]
  },
  {
   "cell_type": "code",
   "execution_count": 16,
   "id": "4ba17f13-2e3e-4e58-aa15-51a31433d505",
   "metadata": {},
   "outputs": [],
   "source": [
    "#Saving the clean dataframe to save time\n",
    "speech.to_csv('speech_clean.csv')"
   ]
  },
  {
   "cell_type": "code",
   "execution_count": 17,
   "id": "2ff20ec9-d934-4904-8917-51f1e93eeb02",
   "metadata": {},
   "outputs": [],
   "source": [
    "#Lemma\n",
    "def lemmatize(text):\n",
    "    text = nlp(text)\n",
    "    text = text = ' '.join([token.lemma_ for token in text if token.lemma not in STOP_WORDS and token.text not in STOP_WORDS])\n",
    "    return text"
   ]
  },
  {
   "cell_type": "code",
   "execution_count": 18,
   "id": "7fd74723",
   "metadata": {
    "id": "231012c3-2f96-432c-a741-5abac689d475"
   },
   "outputs": [],
   "source": [
    "speech['clean_lemma'] = speech['clean_text'].apply(lambda x : lemmatize(x))"
   ]
  },
  {
   "cell_type": "code",
   "execution_count": 19,
   "id": "b184ef5c-5ebe-48fc-b57e-f8dd156543fd",
   "metadata": {},
   "outputs": [
    {
     "data": {
      "text/plain": [
       "0          newyearseve skynews presenter asian woman ed...\n",
       "1                                face ugly camp nude trash\n",
       "2        oh disappointed reddeadredemption sequel announce\n",
       "3        dying light village green town antisemitism ho...\n",
       "4                     cracker jack secret service work jak\n",
       "                               ...                        \n",
       "12805    miss radio week game cover show come   radioli...\n",
       "12806    rt play soccer cheat girl wear khaki colour ca...\n",
       "12807                         kim taeyeon new project come\n",
       "12808                  baby monkey bathtime soooo adorable\n",
       "12809    rt concern right mt look ford speak john kerry...\n",
       "Name: clean_lemma, Length: 12810, dtype: object"
      ]
     },
     "execution_count": 19,
     "metadata": {},
     "output_type": "execute_result"
    }
   ],
   "source": [
    "speech['clean_lemma']"
   ]
  },
  {
   "cell_type": "code",
   "execution_count": 20,
   "id": "eddf8ca3",
   "metadata": {
    "id": "223a87ce-dd61-43b7-848b-edf46631cb80"
   },
   "outputs": [],
   "source": [
    "#Tokenization"
   ]
  },
  {
   "cell_type": "code",
   "execution_count": 21,
   "id": "7c07687d",
   "metadata": {
    "id": "5d79e179-63e3-4a9c-9253-f9271a9dd1d7"
   },
   "outputs": [
    {
     "data": {
      "text/html": [
       "<div>\n",
       "<style scoped>\n",
       "    .dataframe tbody tr th:only-of-type {\n",
       "        vertical-align: middle;\n",
       "    }\n",
       "\n",
       "    .dataframe tbody tr th {\n",
       "        vertical-align: top;\n",
       "    }\n",
       "\n",
       "    .dataframe thead th {\n",
       "        text-align: right;\n",
       "    }\n",
       "</style>\n",
       "<table border=\"1\" class=\"dataframe\">\n",
       "  <thead>\n",
       "    <tr style=\"text-align: right;\">\n",
       "      <th></th>\n",
       "      <th>label</th>\n",
       "      <th>text</th>\n",
       "      <th>clean_text</th>\n",
       "      <th>clean_lemma</th>\n",
       "      <th>tokens_sequences</th>\n",
       "    </tr>\n",
       "  </thead>\n",
       "  <tbody>\n",
       "    <tr>\n",
       "      <th>0</th>\n",
       "      <td>1</td>\n",
       "      <td>#newyearseve #skynews presenter to asian woman...</td>\n",
       "      <td>newyearseve skynews presenter to asian woman ...</td>\n",
       "      <td>newyearseve skynews presenter asian woman ed...</td>\n",
       "      <td>[3024, 7153, 4866, 272, 44, 2583, 197, 272, 44...</td>\n",
       "    </tr>\n",
       "    <tr>\n",
       "      <th>1</th>\n",
       "      <td>1</td>\n",
       "      <td>@LILNTHEBASEDGOD her face ugly to me, &amp;amp; he...</td>\n",
       "      <td>her face ugly to me camp her nudes were trash</td>\n",
       "      <td>face ugly camp nude trash</td>\n",
       "      <td>[171, 804, 4, 468, 5]</td>\n",
       "    </tr>\n",
       "    <tr>\n",
       "      <th>2</th>\n",
       "      <td>0</td>\n",
       "      <td>oh how disappointed i was to see that there wa...</td>\n",
       "      <td>oh how disappointed i was to see that there wa...</td>\n",
       "      <td>oh disappointed reddeadredemption sequel announce</td>\n",
       "      <td>[163, 1193, 7154, 3709, 761]</td>\n",
       "    </tr>\n",
       "    <tr>\n",
       "      <th>3</th>\n",
       "      <td>1</td>\n",
       "      <td>\"the dying of the light\"  village green/townÂ²...</td>\n",
       "      <td>the dying of the light village green town anti...</td>\n",
       "      <td>dying light village green town antisemitism ho...</td>\n",
       "      <td>[4867, 225, 2584, 298, 653, 1194, 4868, 4869, ...</td>\n",
       "    </tr>\n",
       "    <tr>\n",
       "      <th>4</th>\n",
       "      <td>1</td>\n",
       "      <td>@BlackManUSA @chrislhayes well that's some cra...</td>\n",
       "      <td>well that is some cracker jack secret service ...</td>\n",
       "      <td>cracker jack secret service work jak</td>\n",
       "      <td>[209, 2012, 851, 672, 27, 7155]</td>\n",
       "    </tr>\n",
       "  </tbody>\n",
       "</table>\n",
       "</div>"
      ],
      "text/plain": [
       "   label                                               text  \\\n",
       "0      1  #newyearseve #skynews presenter to asian woman...   \n",
       "1      1  @LILNTHEBASEDGOD her face ugly to me, &amp; he...   \n",
       "2      0  oh how disappointed i was to see that there wa...   \n",
       "3      1  \"the dying of the light\"  village green/townÂ²...   \n",
       "4      1  @BlackManUSA @chrislhayes well that's some cra...   \n",
       "\n",
       "                                          clean_text  \\\n",
       "0   newyearseve skynews presenter to asian woman ...   \n",
       "1      her face ugly to me camp her nudes were trash   \n",
       "2  oh how disappointed i was to see that there wa...   \n",
       "3  the dying of the light village green town anti...   \n",
       "4  well that is some cracker jack secret service ...   \n",
       "\n",
       "                                         clean_lemma  \\\n",
       "0    newyearseve skynews presenter asian woman ed...   \n",
       "1                          face ugly camp nude trash   \n",
       "2  oh disappointed reddeadredemption sequel announce   \n",
       "3  dying light village green town antisemitism ho...   \n",
       "4               cracker jack secret service work jak   \n",
       "\n",
       "                                    tokens_sequences  \n",
       "0  [3024, 7153, 4866, 272, 44, 2583, 197, 272, 44...  \n",
       "1                              [171, 804, 4, 468, 5]  \n",
       "2                       [163, 1193, 7154, 3709, 761]  \n",
       "3  [4867, 225, 2584, 298, 653, 1194, 4868, 4869, ...  \n",
       "4                    [209, 2012, 851, 672, 27, 7155]  "
      ]
     },
     "execution_count": 21,
     "metadata": {},
     "output_type": "execute_result"
    }
   ],
   "source": [
    "#Transformation des textes en tokens, sequences puis sequences padded\n",
    "tokenizer = tf.keras.preprocessing.text.Tokenizer() # Tokenizer instance\n",
    "tokenizer.fit_on_texts(speech['clean_lemma']) #Lemme to Tokens\n",
    "speech['tokens_sequences'] = tokenizer.texts_to_sequences(speech['clean_lemma']) #Tokens to sequences \n",
    "speech.head()"
   ]
  },
  {
   "cell_type": "code",
   "execution_count": 22,
   "id": "5f0f83b0",
   "metadata": {
    "id": "44e75167-73e6-4a98-98d0-286c85e79fba"
   },
   "outputs": [
    {
     "data": {
      "text/plain": [
       "array([[ 3024,  7153,  4866, ...,     0,     0,     0],\n",
       "       [  171,   804,     4, ...,     0,     0,     0],\n",
       "       [  163,  1193,  7154, ...,     0,     0,     0],\n",
       "       ...,\n",
       "       [ 1966, 17652,    13, ...,     0,     0,     0],\n",
       "       [  116,    86, 17653, ...,     0,     0,     0],\n",
       "       [    1,  2857,    39, ...,     0,     0,     0]])"
      ]
     },
     "execution_count": 22,
     "metadata": {},
     "output_type": "execute_result"
    }
   ],
   "source": [
    "#Padding des sequences.\n",
    "tweets_padded = tf.keras.preprocessing.sequence.pad_sequences(speech.tokens_sequences, padding=\"post\")\n",
    "tweets_padded"
   ]
  },
  {
   "cell_type": "code",
   "execution_count": 23,
   "id": "6ebd7840",
   "metadata": {
    "id": "44a8eb95-1c8f-4b0c-a057-4d89da5f7c7e"
   },
   "outputs": [
    {
     "data": {
      "text/plain": [
       "<TensorSliceDataset shapes: ((31,), ()), types: (tf.int32, tf.int64)>"
      ]
     },
     "execution_count": 23,
     "metadata": {},
     "output_type": "execute_result"
    }
   ],
   "source": [
    "# create the tensorflow dataset\n",
    "all_encoded_data = tf.data.Dataset.from_tensor_slices((tweets_padded, speech[\"label\"]))\n",
    "all_encoded_data"
   ]
  },
  {
   "cell_type": "code",
   "execution_count": 24,
   "id": "c22b4ca9",
   "metadata": {
    "id": "bcd17d27-2f20-49da-a6da-901ce828aa27"
   },
   "outputs": [
    {
     "data": {
      "text/plain": [
       "(12810, 5)"
      ]
     },
     "execution_count": 24,
     "metadata": {},
     "output_type": "execute_result"
    }
   ],
   "source": [
    "speech.shape"
   ]
  },
  {
   "cell_type": "markdown",
   "id": "144986d6",
   "metadata": {
    "id": "ac9b15d7-0a00-46e0-94bc-6ce1b2d31bba"
   },
   "source": [
    "### Building the model"
   ]
  },
  {
   "cell_type": "code",
   "execution_count": 25,
   "id": "6c91c448",
   "metadata": {
    "id": "7a91ed07-b98f-45b6-9d5c-f271f76093c2"
   },
   "outputs": [],
   "source": [
    "from tensorflow.keras.layers import Embedding, SimpleRNN, Dense, GRU, LSTM"
   ]
  },
  {
   "cell_type": "code",
   "execution_count": 26,
   "id": "e358f8ab",
   "metadata": {
    "id": "798039e1-371e-4cef-aa60-882788050f34"
   },
   "outputs": [],
   "source": [
    "#Train test Split\n",
    "\n",
    "TAKE_SIZE = int(0.7*speech.shape[0]) #Test_size = 0.3\n",
    "\n",
    "train_data = all_encoded_data.take(TAKE_SIZE).shuffle(TAKE_SIZE)\n",
    "train_data = train_data.batch(800)\n",
    "\n",
    "test_data = all_encoded_data.skip(TAKE_SIZE)\n",
    "test_data = test_data.batch(800)"
   ]
  },
  {
   "cell_type": "code",
   "execution_count": 27,
   "id": "9939cf48",
   "metadata": {
    "id": "26029f38-9ef7-47f2-b517-56a193a65b55"
   },
   "outputs": [
    {
     "name": "stdout",
     "output_type": "stream",
     "text": [
      "tf.Tensor(\n",
      "[[  196     3    15 ...     0     0     0]\n",
      " [  131   371 11719 ...     0     0     0]\n",
      " [   21   585  5461 ...     0     0     0]\n",
      " ...\n",
      " [   96    97   784 ...     0     0     0]\n",
      " [  301   731   249 ...     0     0     0]\n",
      " [   11    53    63 ...     0     0     0]], shape=(800, 31), dtype=int32) tf.Tensor(\n",
      "[0 0 1 1 1 0 0 1 0 1 0 0 0 0 0 0 1 0 0 0 0 1 1 0 0 0 0 0 1 0 0 1 0 0 1 0 0\n",
      " 1 0 0 1 0 1 1 0 0 0 0 1 0 0 1 0 0 1 0 0 1 1 0 0 0 0 0 0 0 1 0 0 1 0 1 0 1\n",
      " 0 1 0 1 1 0 1 1 1 0 1 1 1 0 1 0 0 1 1 0 1 0 0 1 1 1 1 0 1 1 1 0 1 1 1 0 0\n",
      " 1 0 1 0 0 1 0 1 0 1 1 0 0 0 1 0 0 0 0 1 0 0 0 0 0 1 0 1 1 0 1 0 0 0 1 1 1\n",
      " 0 1 1 1 1 1 0 1 1 1 1 1 1 0 0 1 0 0 1 1 0 0 1 0 0 0 0 0 1 0 1 1 0 1 1 1 1\n",
      " 0 1 0 0 0 1 1 1 1 1 0 1 1 1 0 0 0 0 0 1 1 1 1 1 0 1 1 0 1 1 1 1 1 1 0 1 1\n",
      " 1 1 0 0 1 0 0 1 1 1 1 0 0 0 1 0 1 1 1 1 0 0 1 1 0 1 1 0 1 0 0 0 0 0 0 0 0\n",
      " 1 0 1 0 1 1 1 1 1 1 0 0 0 1 0 0 1 1 0 1 1 1 1 0 1 1 0 1 0 1 0 1 1 1 0 1 1\n",
      " 0 1 0 0 0 0 1 1 0 1 1 1 0 0 0 1 0 1 1 0 1 0 0 0 1 0 1 1 1 0 1 0 0 1 0 0 1\n",
      " 0 0 1 1 0 0 1 1 0 1 0 0 1 1 1 1 0 1 0 0 0 0 0 0 0 0 0 0 1 0 1 0 0 0 0 0 1\n",
      " 1 1 0 1 1 0 1 1 1 0 1 0 1 1 1 1 1 1 1 0 1 0 1 1 0 1 1 1 1 0 1 0 1 0 1 1 0\n",
      " 0 1 0 0 0 1 1 0 1 0 1 0 0 1 1 1 0 0 0 1 0 1 1 0 0 1 0 0 0 1 0 1 0 0 1 1 0\n",
      " 1 1 0 1 1 0 0 1 1 1 0 0 0 0 1 0 0 1 0 1 0 1 1 0 0 1 1 1 1 0 0 1 0 1 1 0 0\n",
      " 0 1 1 0 0 1 0 1 1 1 1 0 1 0 1 1 1 1 0 0 1 1 1 1 1 1 0 1 1 1 1 1 0 1 0 1 0\n",
      " 0 0 0 1 0 0 1 1 1 0 0 1 1 1 1 1 0 1 0 1 0 0 1 1 1 1 0 1 1 1 0 1 1 1 0 1 0\n",
      " 0 1 0 0 1 0 0 1 1 1 1 1 0 0 1 0 1 0 1 1 1 1 1 1 1 0 1 0 0 1 1 0 0 1 1 0 0\n",
      " 0 1 0 1 1 1 1 1 1 0 0 1 1 1 1 1 1 1 1 0 1 0 0 1 1 0 1 1 0 1 0 1 1 1 0 1 1\n",
      " 0 1 0 0 1 0 1 1 1 0 0 1 0 1 0 1 1 0 0 0 1 0 0 0 0 0 0 1 1 0 0 1 0 1 0 0 0\n",
      " 1 1 1 0 0 0 1 1 1 1 0 1 0 1 1 1 0 0 0 1 1 1 0 1 0 0 1 0 1 1 1 0 0 0 0 0 1\n",
      " 1 1 1 1 0 0 1 1 1 1 0 0 1 0 0 1 1 0 1 1 1 0 1 0 0 0 0 1 0 0 0 1 1 0 1 1 0\n",
      " 1 1 1 1 0 1 1 0 1 1 0 0 0 0 1 1 1 0 0 0 0 1 0 1 0 0 0 1 0 1 0 1 0 1 0 0 0\n",
      " 0 0 0 0 1 1 0 0 0 0 0 1 0 1 1 0 1 1 1 1 1 1 0], shape=(800,), dtype=int64)\n"
     ]
    }
   ],
   "source": [
    "#Voici un batch \n",
    "for review, star in train_data.take(1):\n",
    "    print(review, star)"
   ]
  },
  {
   "cell_type": "code",
   "execution_count": 28,
   "id": "7228e2b3",
   "metadata": {
    "id": "99cffc34-7fb7-462b-a87e-f42b78d89dff"
   },
   "outputs": [
    {
     "name": "stdout",
     "output_type": "stream",
     "text": [
      "WARNING:tensorflow:Layer lstm_1 will not use cuDNN kernels since it doesn't meet the criteria. It will use a generic GPU kernel as fallback when running on GPU.\n",
      "WARNING:tensorflow:Layer lstm_1 will not use cuDNN kernels since it doesn't meet the criteria. It will use a generic GPU kernel as fallback when running on GPU.\n",
      "WARNING:tensorflow:Layer lstm_1 will not use cuDNN kernels since it doesn't meet the criteria. It will use a generic GPU kernel as fallback when running on GPU.\n"
     ]
    }
   ],
   "source": [
    "#Definition des paramètres du modèle.\n",
    "vocab_size = len(tokenizer.word_index)\n",
    "vocab_size\n",
    "\n",
    "model_lstm = tf.keras.Sequential([\n",
    "                  Embedding(vocab_size+1,120 , input_shape=[review.shape[1]],name=\"embedding\"),\n",
    "                  LSTM(units=64, return_sequences=True), # maintains the sequential nature\n",
    "                  keras.layers.Dropout(rate = 0.1),\n",
    "                  #LSTM(units=32, return_sequences=False), # returns the last output\n",
    "                  #tf.keras.layers.Bidirectional(LSTM(32,activation='relu',kernel_regularizer='l2')),\n",
    "                  tf.keras.layers.Bidirectional(LSTM(32,activation='relu',kernel_regularizer='l2')),\n",
    "                  keras.layers.Dropout(rate = 0.4), \n",
    "                  Dense(16, activation='relu'),\n",
    "                  Dense(8, activation='relu'),\n",
    "\n",
    "                  Dense(2, activation=\"softmax\", name=\"last\")\n",
    "])"
   ]
  },
  {
   "cell_type": "code",
   "execution_count": 29,
   "id": "2454cc8e",
   "metadata": {
    "id": "30f201eb-1342-4c9f-82fe-c8ca0022faee"
   },
   "outputs": [
    {
     "name": "stdout",
     "output_type": "stream",
     "text": [
      "Model: \"sequential\"\n",
      "_________________________________________________________________\n",
      " Layer (type)                Output Shape              Param #   \n",
      "=================================================================\n",
      " embedding (Embedding)       (None, 31, 120)           2118480   \n",
      "                                                                 \n",
      " lstm (LSTM)                 (None, 31, 64)            47360     \n",
      "                                                                 \n",
      " dropout (Dropout)           (None, 31, 64)            0         \n",
      "                                                                 \n",
      " bidirectional (Bidirectiona  (None, 64)               24832     \n",
      " l)                                                              \n",
      "                                                                 \n",
      " dropout_1 (Dropout)         (None, 64)                0         \n",
      "                                                                 \n",
      " dense (Dense)               (None, 16)                1040      \n",
      "                                                                 \n",
      " dense_1 (Dense)             (None, 8)                 136       \n",
      "                                                                 \n",
      " last (Dense)                (None, 2)                 18        \n",
      "                                                                 \n",
      "=================================================================\n",
      "Total params: 2,191,866\n",
      "Trainable params: 2,191,866\n",
      "Non-trainable params: 0\n",
      "_________________________________________________________________\n"
     ]
    }
   ],
   "source": [
    "model_lstm.summary()"
   ]
  },
  {
   "cell_type": "code",
   "execution_count": 30,
   "id": "344a4c5b",
   "metadata": {
    "id": "37d348e2-b95f-4839-8261-ba22b97e344e"
   },
   "outputs": [],
   "source": [
    "#Choix d'un optimizer, d'une metric et d'une loss function\n",
    "optimizer= tf.keras.optimizers.Adam(0.001)                                  # réduction du learning rate pour diminuer le surapprentissage et donc apprendre moin vite\n",
    "model_lstm.compile(optimizer=optimizer,\n",
    "              loss=tf.keras.losses.SparseCategoricalCrossentropy(), #Classification binaire \n",
    "              metrics=tf.keras.metrics.SparseCategoricalAccuracy())#Integer labels"
   ]
  },
  {
   "cell_type": "code",
   "execution_count": 31,
   "id": "df19d03d",
   "metadata": {
    "id": "p_QY2ttyz4ab"
   },
   "outputs": [
    {
     "name": "stdout",
     "output_type": "stream",
     "text": [
      "WARNING:tensorflow:`period` argument is deprecated. Please use `save_freq` to specify the frequency in number of batches seen.\n"
     ]
    }
   ],
   "source": [
    "from keras.callbacks import ModelCheckpoint, EarlyStopping\n",
    "\n",
    "checkpoint = ModelCheckpoint(\"model/Hatespeech.h5\", monitor='val_sparse_categorical_accuracy', verbose=1, save_best_only=True, save_weights_only=False, mode='auto', period=1)"
   ]
  },
  {
   "cell_type": "code",
   "execution_count": 32,
   "id": "5e9fc2aa",
   "metadata": {
    "id": "3ded8189-f293-4fdf-bce9-87312b64390c"
   },
   "outputs": [
    {
     "name": "stdout",
     "output_type": "stream",
     "text": [
      "Epoch 1/10\n",
      "12/12 [==============================] - ETA: 0s - loss: 2.2578 - sparse_categorical_accuracy: 0.5104\n",
      "Epoch 00001: val_sparse_categorical_accuracy improved from -inf to 0.73484, saving model to model\\Hatespeech.h5\n",
      "12/12 [==============================] - 9s 393ms/step - loss: 2.2578 - sparse_categorical_accuracy: 0.5104 - val_loss: 2.0736 - val_sparse_categorical_accuracy: 0.7348\n",
      "Epoch 2/10\n",
      "12/12 [==============================] - ETA: 0s - loss: 1.9460 - sparse_categorical_accuracy: 0.6843\n",
      "Epoch 00002: val_sparse_categorical_accuracy improved from 0.73484 to 0.81785, saving model to model\\Hatespeech.h5\n",
      "12/12 [==============================] - 4s 315ms/step - loss: 1.9460 - sparse_categorical_accuracy: 0.6843 - val_loss: 1.7724 - val_sparse_categorical_accuracy: 0.8179\n",
      "Epoch 3/10\n",
      "12/12 [==============================] - ETA: 0s - loss: 1.5961 - sparse_categorical_accuracy: 0.8517\n",
      "Epoch 00003: val_sparse_categorical_accuracy improved from 0.81785 to 0.87848, saving model to model\\Hatespeech.h5\n",
      "12/12 [==============================] - 4s 320ms/step - loss: 1.5961 - sparse_categorical_accuracy: 0.8517 - val_loss: 1.3149 - val_sparse_categorical_accuracy: 0.8785\n",
      "Epoch 4/10\n",
      "12/12 [==============================] - ETA: 0s - loss: 1.0639 - sparse_categorical_accuracy: 0.9280\n",
      "Epoch 00004: val_sparse_categorical_accuracy improved from 0.87848 to 0.87874, saving model to model\\Hatespeech.h5\n",
      "12/12 [==============================] - 4s 346ms/step - loss: 1.0639 - sparse_categorical_accuracy: 0.9280 - val_loss: 1.0622 - val_sparse_categorical_accuracy: 0.8787\n",
      "Epoch 5/10\n",
      "12/12 [==============================] - ETA: 0s - loss: 0.7959 - sparse_categorical_accuracy: 0.9603\n",
      "Epoch 00005: val_sparse_categorical_accuracy improved from 0.87874 to 0.88316, saving model to model\\Hatespeech.h5\n",
      "12/12 [==============================] - 4s 320ms/step - loss: 0.7959 - sparse_categorical_accuracy: 0.9603 - val_loss: 0.9351 - val_sparse_categorical_accuracy: 0.8832\n",
      "Epoch 6/10\n",
      "12/12 [==============================] - ETA: 0s - loss: 0.6056 - sparse_categorical_accuracy: 0.9832\n",
      "Epoch 00006: val_sparse_categorical_accuracy improved from 0.88316 to 0.88655, saving model to model\\Hatespeech.h5\n",
      "12/12 [==============================] - 4s 313ms/step - loss: 0.6056 - sparse_categorical_accuracy: 0.9832 - val_loss: 0.9255 - val_sparse_categorical_accuracy: 0.8865\n",
      "Epoch 7/10\n",
      "12/12 [==============================] - ETA: 0s - loss: 0.4807 - sparse_categorical_accuracy: 0.9913\n",
      "Epoch 00007: val_sparse_categorical_accuracy did not improve from 0.88655\n",
      "12/12 [==============================] - 4s 318ms/step - loss: 0.4807 - sparse_categorical_accuracy: 0.9913 - val_loss: 0.8009 - val_sparse_categorical_accuracy: 0.8709\n",
      "Epoch 8/10\n",
      "12/12 [==============================] - ETA: 0s - loss: 0.3860 - sparse_categorical_accuracy: 0.9945\n",
      "Epoch 00008: val_sparse_categorical_accuracy did not improve from 0.88655\n",
      "12/12 [==============================] - 4s 313ms/step - loss: 0.3860 - sparse_categorical_accuracy: 0.9945 - val_loss: 0.9804 - val_sparse_categorical_accuracy: 0.8678\n",
      "Epoch 9/10\n",
      "12/12 [==============================] - ETA: 0s - loss: 0.3122 - sparse_categorical_accuracy: 0.9967\n",
      "Epoch 00009: val_sparse_categorical_accuracy did not improve from 0.88655\n",
      "12/12 [==============================] - 4s 310ms/step - loss: 0.3122 - sparse_categorical_accuracy: 0.9967 - val_loss: 0.9493 - val_sparse_categorical_accuracy: 0.8756\n",
      "Epoch 10/10\n",
      "12/12 [==============================] - ETA: 0s - loss: 0.2482 - sparse_categorical_accuracy: 0.9974\n",
      "Epoch 00010: val_sparse_categorical_accuracy did not improve from 0.88655\n",
      "12/12 [==============================] - 4s 326ms/step - loss: 0.2482 - sparse_categorical_accuracy: 0.9974 - val_loss: 0.7610 - val_sparse_categorical_accuracy: 0.8689\n"
     ]
    },
    {
     "data": {
      "text/plain": [
       "<keras.callbacks.History at 0x1ba697abbb0>"
      ]
     },
     "execution_count": 32,
     "metadata": {},
     "output_type": "execute_result"
    }
   ],
   "source": [
    "#Entrainement du modèle LSTM\n",
    "model_lstm.fit(train_data,\n",
    "              epochs=10, \n",
    "              validation_data=test_data,\n",
    "              callbacks = [checkpoint])"
   ]
  },
  {
   "cell_type": "code",
   "execution_count": 33,
   "id": "3c0ab0b9",
   "metadata": {
    "id": "1798f569-5b2f-41ac-87a8-a4c7882b56ed"
   },
   "outputs": [],
   "source": [
    "history = model_lstm.history.history, open(\"LSTM_history.json\", 'w'); #Sauvegarde de l'historique du modèle"
   ]
  },
  {
   "cell_type": "code",
   "execution_count": 34,
   "id": "208baad9",
   "metadata": {},
   "outputs": [
    {
     "data": {
      "image/png": "[encoded data removed]",
      "text/plain": [
       "<Figure size 432x288 with 1 Axes>"
      ]
     },
     "metadata": {
      "needs_background": "light"
     },
     "output_type": "display_data"
    }
   ],
   "source": [
    "# Visualization of the training process on the loss function \n",
    "plt.plot(history[0][\"loss\"], color=\"b\")\n",
    "plt.plot(history[0][\"val_loss\"], color=\"r\")\n",
    "plt.ylabel(\"loss\")\n",
    "plt.xlabel(\"Epochs\")\n",
    "plt.show()"
   ]
  },
  {
   "cell_type": "code",
   "execution_count": 35,
   "id": "0337d885",
   "metadata": {},
   "outputs": [
    {
     "data": {
      "text/plain": [
       "[2.07356858253479,\n",
       " 1.7723661661148071,\n",
       " 1.3149243593215942,\n",
       " 1.0622074604034424,\n",
       " 0.9350911974906921,\n",
       " 0.9254580140113831,\n",
       " 0.8008520007133484,\n",
       " 0.9803551435470581,\n",
       " 0.949288547039032,\n",
       " 0.7609995007514954]"
      ]
     },
     "execution_count": 35,
     "metadata": {},
     "output_type": "execute_result"
    }
   ],
   "source": [
    "history[0][\"val_loss\"]"
   ]
  },
  {
   "cell_type": "markdown",
   "id": "5eb83d57",
   "metadata": {},
   "source": [
    "## Confusion matrice"
   ]
  },
  {
   "cell_type": "code",
   "execution_count": 36,
   "id": "6345beb5-fe8e-491f-8427-d10ceb3d2074",
   "metadata": {},
   "outputs": [
    {
     "data": {
      "text/plain": [
       "array([[1.0000000e+00, 2.0155330e-08],\n",
       "       [9.9999940e-01, 5.6334244e-07],\n",
       "       [7.2780889e-01, 2.7219111e-01],\n",
       "       ...,\n",
       "       [9.3787014e-01, 6.2129837e-02],\n",
       "       [9.1928965e-01, 8.0710381e-02],\n",
       "       [1.2378968e-06, 9.9999881e-01]], dtype=float32)"
      ]
     },
     "execution_count": 36,
     "metadata": {},
     "output_type": "execute_result"
    }
   ],
   "source": [
    "#prediction(s) (1 dim array)\n",
    "predict = model_lstm.predict(test_data, callbacks=[checkpoint], verbose=0)\n",
    "predict"
   ]
  },
  {
   "cell_type": "code",
   "execution_count": 37,
   "id": "b7b7ab11-3745-4ea5-82dc-34e643abfcbc",
   "metadata": {},
   "outputs": [
    {
     "data": {
      "text/plain": [
       "(<tf.Tensor: shape=(), dtype=int64, numpy=0>,\n",
       " <tf.Tensor: shape=(), dtype=int64, numpy=0>,\n",
       " <tf.Tensor: shape=(), dtype=int64, numpy=1>,\n",
       " <tf.Tensor: shape=(), dtype=int64, numpy=1>,\n",
       " <tf.Tensor: shape=(), dtype=int64, numpy=0>)"
      ]
     },
     "execution_count": 37,
     "metadata": {},
     "output_type": "execute_result"
    }
   ],
   "source": [
    "#True target values\n",
    "test = test_data.unbatch()\n",
    "y = list(zip(*test))\n",
    "y[1][0:5]"
   ]
  },
  {
   "cell_type": "code",
   "execution_count": 38,
   "id": "8f1794fd-653b-44a1-a70a-2ef04eb351e9",
   "metadata": {},
   "outputs": [],
   "source": [
    "#To 1 dimension array -> predictions VS True values\n",
    "predict_class = np.argmax(predict, axis = 1)\n",
    "predict_class = predict_class.tolist()"
   ]
  },
  {
   "cell_type": "code",
   "execution_count": 39,
   "id": "fb5472f5-8179-44c9-9f2e-e9838d7d14fb",
   "metadata": {},
   "outputs": [],
   "source": [
    "#Confusion matrice\n",
    "cf = tf.math.confusion_matrix(\n",
    "    y[1], predict_class, weights=None, dtype=tf.dtypes.int32,\n",
    "    name=None\n",
    ")"
   ]
  },
  {
   "cell_type": "code",
   "execution_count": 41,
   "id": "5effeeb5-bda0-4d6b-9d5e-fcbda315c547",
   "metadata": {},
   "outputs": [
    {
     "name": "stdout",
     "output_type": "stream",
     "text": [
      "Collecting seaborn\n",
      "  Using cached seaborn-0.11.2-py3-none-any.whl (292 kB)\n",
      "Requirement already satisfied: matplotlib>=2.2 in c:\\users\\conta\\.conda\\envs\\final-project\\lib\\site-packages (from seaborn) (3.5.0)\n",
      "Requirement already satisfied: pandas>=0.23 in c:\\users\\conta\\.conda\\envs\\final-project\\lib\\site-packages (from seaborn) (1.3.4)\n",
      "Requirement already satisfied: scipy>=1.0 in c:\\users\\conta\\.conda\\envs\\final-project\\lib\\site-packages (from seaborn) (1.7.2)\n",
      "Requirement already satisfied: numpy>=1.15 in c:\\users\\conta\\.conda\\envs\\final-project\\lib\\site-packages (from seaborn) (1.21.4)\n",
      "Requirement already satisfied: pyparsing>=2.2.1 in c:\\users\\conta\\.conda\\envs\\final-project\\lib\\site-packages (from matplotlib>=2.2->seaborn) (2.4.7)\n",
      "Requirement already satisfied: packaging>=20.0 in c:\\users\\conta\\.conda\\envs\\final-project\\lib\\site-packages (from matplotlib>=2.2->seaborn) (21.2)\n",
      "Requirement already satisfied: python-dateutil>=2.7 in c:\\users\\conta\\.conda\\envs\\final-project\\lib\\site-packages (from matplotlib>=2.2->seaborn) (2.8.2)\n",
      "Requirement already satisfied: fonttools>=4.22.0 in c:\\users\\conta\\.conda\\envs\\final-project\\lib\\site-packages (from matplotlib>=2.2->seaborn) (4.28.2)\n",
      "Requirement already satisfied: setuptools-scm>=4 in c:\\users\\conta\\.conda\\envs\\final-project\\lib\\site-packages (from matplotlib>=2.2->seaborn) (6.3.2)\n",
      "Requirement already satisfied: pillow>=6.2.0 in c:\\users\\conta\\.conda\\envs\\final-project\\lib\\site-packages (from matplotlib>=2.2->seaborn) (8.4.0)\n",
      "Requirement already satisfied: cycler>=0.10 in c:\\users\\conta\\.conda\\envs\\final-project\\lib\\site-packages (from matplotlib>=2.2->seaborn) (0.11.0)\n",
      "Requirement already satisfied: kiwisolver>=1.0.1 in c:\\users\\conta\\.conda\\envs\\final-project\\lib\\site-packages (from matplotlib>=2.2->seaborn) (1.3.2)\n",
      "Requirement already satisfied: pytz>=2017.3 in c:\\users\\conta\\.conda\\envs\\final-project\\lib\\site-packages (from pandas>=0.23->seaborn) (2021.3)\n",
      "Requirement already satisfied: six>=1.5 in c:\\users\\conta\\.conda\\envs\\final-project\\lib\\site-packages (from python-dateutil>=2.7->matplotlib>=2.2->seaborn) (1.16.0)\n",
      "Requirement already satisfied: tomli>=1.0.0 in c:\\users\\conta\\.conda\\envs\\final-project\\lib\\site-packages (from setuptools-scm>=4->matplotlib>=2.2->seaborn) (1.2.2)\n",
      "Requirement already satisfied: setuptools in c:\\users\\conta\\.conda\\envs\\final-project\\lib\\site-packages (from setuptools-scm>=4->matplotlib>=2.2->seaborn) (58.0.4)\n",
      "Installing collected packages: seaborn\n",
      "Successfully installed seaborn-0.11.2\n"
     ]
    },
    {
     "data": {
      "text/plain": [
       "<AxesSubplot:>"
      ]
     },
     "execution_count": 41,
     "metadata": {},
     "output_type": "execute_result"
    },
    {
     "data": {
      "image/png": "[encoded data removed]",
      "text/plain": [
       "<Figure size 432x288 with 2 Axes>"
      ]
     },
     "metadata": {
      "needs_background": "light"
     },
     "output_type": "display_data"
    }
   ],
   "source": [
    "!pip install seaborn\n",
    "import seaborn as sns\n",
    "sns.heatmap(cf, annot=True)"
   ]
  },
  {
   "cell_type": "code",
   "execution_count": null,
   "id": "5ca615d6-161b-42a2-a5f6-6f8c22e3bf64",
   "metadata": {},
   "outputs": [],
   "source": [
    "#Verification according to our training best accuracy !\n",
    "mean_accuracy = (1603 + 1709)/((1603 + 1709) + (211 + 320))\n",
    "print(mean_accuracy)"
   ]
  },
  {
   "cell_type": "code",
   "execution_count": null,
   "id": "b6a969e6-2c04-453a-89c2-e90c16880337",
   "metadata": {},
   "outputs": [],
   "source": []
  }
 ],
 "metadata": {
  "accelerator": "GPU",
  "colab": {
   "name": "ML_Hate_Speech-Dataset_2_projet.ipynb",
   "provenance": []
  },
  "kernelspec": {
   "display_name": "Python 3 (ipykernel)",
   "language": "python",
   "name": "python3"
  },
  "language_info": {
   "codemirror_mode": {
    "name": "ipython",
    "version": 3
   },
   "file_extension": ".py",
   "mimetype": "text/x-python",
   "name": "python",
   "nbconvert_exporter": "python",
   "pygments_lexer": "ipython3",
   "version": "3.9.7"
  }
 },
 "nbformat": 4,
 "nbformat_minor": 5
}
